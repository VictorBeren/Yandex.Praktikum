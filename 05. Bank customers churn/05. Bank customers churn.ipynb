{
 "cells": [
  {
   "cell_type": "markdown",
   "metadata": {},
   "source": [
    "# Отток клиентов банка"
   ]
  },
  {
   "cell_type": "markdown",
   "metadata": {},
   "source": [
    "Поставлена задача спрогнозировать, уйдёт клиент из банка в ближайшее время или нет. В распоряжении имеем исторические данные о поведении клиентов и расторжении договоров с банком.\n",
    "\n",
    "Источник данных: [https://www.kaggle.com/barelydedicated/bank-customer-churn-modeling](https://www.kaggle.com/barelydedicated/bank-customer-churn-modeling)"
   ]
  },
  {
   "cell_type": "markdown",
   "metadata": {},
   "source": [
    "# Описание данных"
   ]
  },
  {
   "cell_type": "markdown",
   "metadata": {},
   "source": [
    "__Признаки__ :\n",
    "+ RowNumber — индекс строки в данных\n",
    "+ CustomerId — уникальный идентификатор клиента\n",
    "+ Surname — фамилия\n",
    "+ CreditScore — кредитный рейтинг\n",
    "+ Geography — страна проживания\n",
    "+ Gender — пол\n",
    "+ Age — возраст\n",
    "+ Tenure — количество недвижимости у клиента\n",
    "+ Balance — баланс на счёте\n",
    "+ NumOfProducts — количество продуктов банка, используемых клиентом\n",
    "+ HasCrCard — наличие кредитной карты\n",
    "+ IsActiveMember — активность клиента\n",
    "+ EstimatedSalary — предполагаемая зарплата  \n",
    "\n",
    "**Целевой признак** :\n",
    "+ Exited — факт ухода клиента"
   ]
  },
  {
   "cell_type": "code",
   "execution_count": 1,
   "metadata": {},
   "outputs": [],
   "source": [
    "import pandas as pd\n",
    "import numpy as np\n",
    "import matplotlib.pyplot as plt\n",
    "\n",
    "from sklearn.model_selection import train_test_split\n",
    "from sklearn.model_selection import GridSearchCV\n",
    "from sklearn.model_selection import KFold\n",
    "\n",
    "from sklearn.preprocessing import StandardScaler\n",
    "\n",
    "from sklearn.tree import DecisionTreeClassifier\n",
    "from sklearn.ensemble import RandomForestClassifier\n",
    "from sklearn.linear_model import LogisticRegression\n",
    "\n",
    "from sklearn.metrics import recall_score\n",
    "from sklearn.metrics import precision_score\n",
    "from sklearn.metrics import f1_score\n",
    "from sklearn.metrics import roc_curve\n",
    "from sklearn.metrics import roc_auc_score\n",
    "\n",
    "from sklearn.utils import shuffle"
   ]
  },
  {
   "cell_type": "code",
   "execution_count": 2,
   "metadata": {
    "scrolled": true
   },
   "outputs": [
    {
     "name": "stdout",
     "output_type": "stream",
     "text": [
      "<class 'pandas.core.frame.DataFrame'>\n",
      "RangeIndex: 10000 entries, 0 to 9999\n",
      "Data columns (total 14 columns):\n",
      "RowNumber          10000 non-null int64\n",
      "CustomerId         10000 non-null int64\n",
      "Surname            10000 non-null object\n",
      "CreditScore        10000 non-null int64\n",
      "Geography          10000 non-null object\n",
      "Gender             10000 non-null object\n",
      "Age                10000 non-null int64\n",
      "Tenure             9091 non-null float64\n",
      "Balance            10000 non-null float64\n",
      "NumOfProducts      10000 non-null int64\n",
      "HasCrCard          10000 non-null int64\n",
      "IsActiveMember     10000 non-null int64\n",
      "EstimatedSalary    10000 non-null float64\n",
      "Exited             10000 non-null int64\n",
      "dtypes: float64(3), int64(8), object(3)\n",
      "memory usage: 1.1+ MB\n"
     ]
    },
    {
     "data": {
      "text/html": [
       "<div>\n",
       "<style scoped>\n",
       "    .dataframe tbody tr th:only-of-type {\n",
       "        vertical-align: middle;\n",
       "    }\n",
       "\n",
       "    .dataframe tbody tr th {\n",
       "        vertical-align: top;\n",
       "    }\n",
       "\n",
       "    .dataframe thead th {\n",
       "        text-align: right;\n",
       "    }\n",
       "</style>\n",
       "<table border=\"1\" class=\"dataframe\">\n",
       "  <thead>\n",
       "    <tr style=\"text-align: right;\">\n",
       "      <th></th>\n",
       "      <th>RowNumber</th>\n",
       "      <th>CustomerId</th>\n",
       "      <th>Surname</th>\n",
       "      <th>CreditScore</th>\n",
       "      <th>Geography</th>\n",
       "      <th>Gender</th>\n",
       "      <th>Age</th>\n",
       "      <th>Tenure</th>\n",
       "      <th>Balance</th>\n",
       "      <th>NumOfProducts</th>\n",
       "      <th>HasCrCard</th>\n",
       "      <th>IsActiveMember</th>\n",
       "      <th>EstimatedSalary</th>\n",
       "      <th>Exited</th>\n",
       "    </tr>\n",
       "  </thead>\n",
       "  <tbody>\n",
       "    <tr>\n",
       "      <td>0</td>\n",
       "      <td>1</td>\n",
       "      <td>15634602</td>\n",
       "      <td>Hargrave</td>\n",
       "      <td>619</td>\n",
       "      <td>France</td>\n",
       "      <td>Female</td>\n",
       "      <td>42</td>\n",
       "      <td>2.0</td>\n",
       "      <td>0.00</td>\n",
       "      <td>1</td>\n",
       "      <td>1</td>\n",
       "      <td>1</td>\n",
       "      <td>101348.88</td>\n",
       "      <td>1</td>\n",
       "    </tr>\n",
       "    <tr>\n",
       "      <td>1</td>\n",
       "      <td>2</td>\n",
       "      <td>15647311</td>\n",
       "      <td>Hill</td>\n",
       "      <td>608</td>\n",
       "      <td>Spain</td>\n",
       "      <td>Female</td>\n",
       "      <td>41</td>\n",
       "      <td>1.0</td>\n",
       "      <td>83807.86</td>\n",
       "      <td>1</td>\n",
       "      <td>0</td>\n",
       "      <td>1</td>\n",
       "      <td>112542.58</td>\n",
       "      <td>0</td>\n",
       "    </tr>\n",
       "    <tr>\n",
       "      <td>2</td>\n",
       "      <td>3</td>\n",
       "      <td>15619304</td>\n",
       "      <td>Onio</td>\n",
       "      <td>502</td>\n",
       "      <td>France</td>\n",
       "      <td>Female</td>\n",
       "      <td>42</td>\n",
       "      <td>8.0</td>\n",
       "      <td>159660.80</td>\n",
       "      <td>3</td>\n",
       "      <td>1</td>\n",
       "      <td>0</td>\n",
       "      <td>113931.57</td>\n",
       "      <td>1</td>\n",
       "    </tr>\n",
       "    <tr>\n",
       "      <td>3</td>\n",
       "      <td>4</td>\n",
       "      <td>15701354</td>\n",
       "      <td>Boni</td>\n",
       "      <td>699</td>\n",
       "      <td>France</td>\n",
       "      <td>Female</td>\n",
       "      <td>39</td>\n",
       "      <td>1.0</td>\n",
       "      <td>0.00</td>\n",
       "      <td>2</td>\n",
       "      <td>0</td>\n",
       "      <td>0</td>\n",
       "      <td>93826.63</td>\n",
       "      <td>0</td>\n",
       "    </tr>\n",
       "    <tr>\n",
       "      <td>4</td>\n",
       "      <td>5</td>\n",
       "      <td>15737888</td>\n",
       "      <td>Mitchell</td>\n",
       "      <td>850</td>\n",
       "      <td>Spain</td>\n",
       "      <td>Female</td>\n",
       "      <td>43</td>\n",
       "      <td>2.0</td>\n",
       "      <td>125510.82</td>\n",
       "      <td>1</td>\n",
       "      <td>1</td>\n",
       "      <td>1</td>\n",
       "      <td>79084.10</td>\n",
       "      <td>0</td>\n",
       "    </tr>\n",
       "  </tbody>\n",
       "</table>\n",
       "</div>"
      ],
      "text/plain": [
       "   RowNumber  CustomerId   Surname  CreditScore Geography  Gender  Age  \\\n",
       "0          1    15634602  Hargrave          619    France  Female   42   \n",
       "1          2    15647311      Hill          608     Spain  Female   41   \n",
       "2          3    15619304      Onio          502    France  Female   42   \n",
       "3          4    15701354      Boni          699    France  Female   39   \n",
       "4          5    15737888  Mitchell          850     Spain  Female   43   \n",
       "\n",
       "   Tenure    Balance  NumOfProducts  HasCrCard  IsActiveMember  \\\n",
       "0     2.0       0.00              1          1               1   \n",
       "1     1.0   83807.86              1          0               1   \n",
       "2     8.0  159660.80              3          1               0   \n",
       "3     1.0       0.00              2          0               0   \n",
       "4     2.0  125510.82              1          1               1   \n",
       "\n",
       "   EstimatedSalary  Exited  \n",
       "0        101348.88       1  \n",
       "1        112542.58       0  \n",
       "2        113931.57       1  \n",
       "3         93826.63       0  \n",
       "4         79084.10       0  "
      ]
     },
     "execution_count": 2,
     "metadata": {},
     "output_type": "execute_result"
    }
   ],
   "source": [
    "data = pd.read_csv('/datasets/Churn.csv')\n",
    "\n",
    "data.info()\n",
    "data.head()"
   ]
  },
  {
   "cell_type": "markdown",
   "metadata": {},
   "source": [
    "# 1. Подготовка данных"
   ]
  },
  {
   "cell_type": "markdown",
   "metadata": {},
   "source": [
    "В столбце **Tenure** пропущено 909 значений, что составляет 9.09%."
   ]
  },
  {
   "cell_type": "code",
   "execution_count": 3,
   "metadata": {},
   "outputs": [
    {
     "data": {
      "text/html": [
       "<div>\n",
       "<style scoped>\n",
       "    .dataframe tbody tr th:only-of-type {\n",
       "        vertical-align: middle;\n",
       "    }\n",
       "\n",
       "    .dataframe tbody tr th {\n",
       "        vertical-align: top;\n",
       "    }\n",
       "\n",
       "    .dataframe thead th {\n",
       "        text-align: right;\n",
       "    }\n",
       "</style>\n",
       "<table border=\"1\" class=\"dataframe\">\n",
       "  <thead>\n",
       "    <tr style=\"text-align: right;\">\n",
       "      <th></th>\n",
       "      <th>Exited</th>\n",
       "    </tr>\n",
       "    <tr>\n",
       "      <th>Tenure</th>\n",
       "      <th></th>\n",
       "    </tr>\n",
       "  </thead>\n",
       "  <tbody>\n",
       "    <tr>\n",
       "      <td>0.0</td>\n",
       "      <td>0.235602</td>\n",
       "    </tr>\n",
       "    <tr>\n",
       "      <td>1.0</td>\n",
       "      <td>0.223739</td>\n",
       "    </tr>\n",
       "    <tr>\n",
       "      <td>2.0</td>\n",
       "      <td>0.194737</td>\n",
       "    </tr>\n",
       "    <tr>\n",
       "      <td>3.0</td>\n",
       "      <td>0.213362</td>\n",
       "    </tr>\n",
       "    <tr>\n",
       "      <td>4.0</td>\n",
       "      <td>0.207910</td>\n",
       "    </tr>\n",
       "    <tr>\n",
       "      <td>5.0</td>\n",
       "      <td>0.201726</td>\n",
       "    </tr>\n",
       "    <tr>\n",
       "      <td>6.0</td>\n",
       "      <td>0.200908</td>\n",
       "    </tr>\n",
       "    <tr>\n",
       "      <td>7.0</td>\n",
       "      <td>0.172973</td>\n",
       "    </tr>\n",
       "    <tr>\n",
       "      <td>8.0</td>\n",
       "      <td>0.186495</td>\n",
       "    </tr>\n",
       "    <tr>\n",
       "      <td>9.0</td>\n",
       "      <td>0.219955</td>\n",
       "    </tr>\n",
       "    <tr>\n",
       "      <td>10.0</td>\n",
       "      <td>0.206278</td>\n",
       "    </tr>\n",
       "  </tbody>\n",
       "</table>\n",
       "</div>"
      ],
      "text/plain": [
       "          Exited\n",
       "Tenure          \n",
       "0.0     0.235602\n",
       "1.0     0.223739\n",
       "2.0     0.194737\n",
       "3.0     0.213362\n",
       "4.0     0.207910\n",
       "5.0     0.201726\n",
       "6.0     0.200908\n",
       "7.0     0.172973\n",
       "8.0     0.186495\n",
       "9.0     0.219955\n",
       "10.0    0.206278"
      ]
     },
     "execution_count": 3,
     "metadata": {},
     "output_type": "execute_result"
    },
    {
     "data": {
      "image/png": "[encoded data removed]",
      "text/plain": [
       "<Figure size 432x288 with 1 Axes>"
      ]
     },
     "metadata": {
      "needs_background": "light"
     },
     "output_type": "display_data"
    }
   ],
   "source": [
    "tenure = pd.pivot_table(data, index='Tenure', values='Exited')\n",
    "tenure.plot(title='График зависимости доли ушедших клиентов от количества недвижимости')\n",
    "plt.ylim(0, 0.3)\n",
    "tenure"
   ]
  },
  {
   "cell_type": "markdown",
   "metadata": {},
   "source": [
    "Из графика видно, что количество недвижимости ощутимо не влияет на вероятность ухода клиента из банка, поэтому не будем включать этот признак в нашу модель. Таким образом избавимся от проблемы с большим количеством пропусков."
   ]
  },
  {
   "cell_type": "markdown",
   "metadata": {},
   "source": [
    "Столбцы **RowNumber**, **CustomerId**, **Surname** не несут полезной информации для расчёта модели. Также избавимся от них."
   ]
  },
  {
   "cell_type": "code",
   "execution_count": 4,
   "metadata": {},
   "outputs": [],
   "source": [
    "data = data.drop(['RowNumber', 'CustomerId', 'Surname', 'Tenure'], axis=1)"
   ]
  },
  {
   "cell_type": "markdown",
   "metadata": {},
   "source": [
    "В столбцах **Geography** и **Gender** содержатся категариальые  переменные, преобразуем их с помощью техники One-Hot Encoding."
   ]
  },
  {
   "cell_type": "code",
   "execution_count": 5,
   "metadata": {},
   "outputs": [],
   "source": [
    "data_ohe = pd.get_dummies(data, drop_first=True)"
   ]
  },
  {
   "cell_type": "markdown",
   "metadata": {},
   "source": [
    "Разделим данные на три выборки: обучающая (60%), валидационная (20%) и тренировочная (20%)"
   ]
  },
  {
   "cell_type": "code",
   "execution_count": 6,
   "metadata": {},
   "outputs": [],
   "source": [
    "target = data_ohe['Exited']\n",
    "features = data_ohe.drop(['Exited'], axis=1)\n",
    "\n",
    "features_train, features_valtest, target_train, target_valtest = train_test_split(\n",
    "    features, target, test_size=0.4, random_state=42)\n",
    "\n",
    "features_valid, features_test, target_valid, target_test = train_test_split(\n",
    "    features_valtest, target_valtest, test_size=0.5, random_state=42)"
   ]
  },
  {
   "cell_type": "markdown",
   "metadata": {},
   "source": [
    "Для построения более адекватной модели необходимо провести масштабирование признаков. Стандартизируем все признаки кроме бинарных."
   ]
  },
  {
   "cell_type": "code",
   "execution_count": 7,
   "metadata": {},
   "outputs": [
    {
     "data": {
      "text/html": [
       "<div>\n",
       "<style scoped>\n",
       "    .dataframe tbody tr th:only-of-type {\n",
       "        vertical-align: middle;\n",
       "    }\n",
       "\n",
       "    .dataframe tbody tr th {\n",
       "        vertical-align: top;\n",
       "    }\n",
       "\n",
       "    .dataframe thead th {\n",
       "        text-align: right;\n",
       "    }\n",
       "</style>\n",
       "<table border=\"1\" class=\"dataframe\">\n",
       "  <thead>\n",
       "    <tr style=\"text-align: right;\">\n",
       "      <th></th>\n",
       "      <th>CreditScore</th>\n",
       "      <th>Age</th>\n",
       "      <th>Balance</th>\n",
       "      <th>NumOfProducts</th>\n",
       "      <th>EstimatedSalary</th>\n",
       "    </tr>\n",
       "  </thead>\n",
       "  <tbody>\n",
       "    <tr>\n",
       "      <td>9761</td>\n",
       "      <td>1.603068</td>\n",
       "      <td>2.027653</td>\n",
       "      <td>-0.048229</td>\n",
       "      <td>0.824078</td>\n",
       "      <td>-1.452982</td>\n",
       "    </tr>\n",
       "    <tr>\n",
       "      <td>3159</td>\n",
       "      <td>1.883194</td>\n",
       "      <td>-1.520072</td>\n",
       "      <td>0.884122</td>\n",
       "      <td>-0.905967</td>\n",
       "      <td>-1.403696</td>\n",
       "    </tr>\n",
       "    <tr>\n",
       "      <td>1489</td>\n",
       "      <td>-0.451185</td>\n",
       "      <td>0.014079</td>\n",
       "      <td>1.050751</td>\n",
       "      <td>-0.905967</td>\n",
       "      <td>1.290549</td>\n",
       "    </tr>\n",
       "    <tr>\n",
       "      <td>2987</td>\n",
       "      <td>0.243941</td>\n",
       "      <td>-1.232419</td>\n",
       "      <td>0.517839</td>\n",
       "      <td>-0.905967</td>\n",
       "      <td>-0.709924</td>\n",
       "    </tr>\n",
       "    <tr>\n",
       "      <td>812</td>\n",
       "      <td>-1.416062</td>\n",
       "      <td>-0.561228</td>\n",
       "      <td>-1.214721</td>\n",
       "      <td>0.824078</td>\n",
       "      <td>-0.736719</td>\n",
       "    </tr>\n",
       "    <tr>\n",
       "      <td>...</td>\n",
       "      <td>...</td>\n",
       "      <td>...</td>\n",
       "      <td>...</td>\n",
       "      <td>...</td>\n",
       "      <td>...</td>\n",
       "    </tr>\n",
       "    <tr>\n",
       "      <td>5734</td>\n",
       "      <td>1.198443</td>\n",
       "      <td>1.452346</td>\n",
       "      <td>-0.099972</td>\n",
       "      <td>-0.905967</td>\n",
       "      <td>-0.551364</td>\n",
       "    </tr>\n",
       "    <tr>\n",
       "      <td>5191</td>\n",
       "      <td>0.306191</td>\n",
       "      <td>1.835884</td>\n",
       "      <td>-1.214721</td>\n",
       "      <td>-0.905967</td>\n",
       "      <td>-1.741511</td>\n",
       "    </tr>\n",
       "    <tr>\n",
       "      <td>5390</td>\n",
       "      <td>0.856067</td>\n",
       "      <td>-0.081805</td>\n",
       "      <td>-1.214721</td>\n",
       "      <td>2.554124</td>\n",
       "      <td>-0.155558</td>\n",
       "    </tr>\n",
       "    <tr>\n",
       "      <td>860</td>\n",
       "      <td>0.150566</td>\n",
       "      <td>0.397617</td>\n",
       "      <td>1.827130</td>\n",
       "      <td>-0.905967</td>\n",
       "      <td>-0.063917</td>\n",
       "    </tr>\n",
       "    <tr>\n",
       "      <td>7270</td>\n",
       "      <td>0.461816</td>\n",
       "      <td>1.164693</td>\n",
       "      <td>1.150453</td>\n",
       "      <td>-0.905967</td>\n",
       "      <td>-0.825181</td>\n",
       "    </tr>\n",
       "  </tbody>\n",
       "</table>\n",
       "<p>6000 rows × 5 columns</p>\n",
       "</div>"
      ],
      "text/plain": [
       "      CreditScore       Age   Balance  NumOfProducts  EstimatedSalary\n",
       "9761     1.603068  2.027653 -0.048229       0.824078        -1.452982\n",
       "3159     1.883194 -1.520072  0.884122      -0.905967        -1.403696\n",
       "1489    -0.451185  0.014079  1.050751      -0.905967         1.290549\n",
       "2987     0.243941 -1.232419  0.517839      -0.905967        -0.709924\n",
       "812     -1.416062 -0.561228 -1.214721       0.824078        -0.736719\n",
       "...           ...       ...       ...            ...              ...\n",
       "5734     1.198443  1.452346 -0.099972      -0.905967        -0.551364\n",
       "5191     0.306191  1.835884 -1.214721      -0.905967        -1.741511\n",
       "5390     0.856067 -0.081805 -1.214721       2.554124        -0.155558\n",
       "860      0.150566  0.397617  1.827130      -0.905967        -0.063917\n",
       "7270     0.461816  1.164693  1.150453      -0.905967        -0.825181\n",
       "\n",
       "[6000 rows x 5 columns]"
      ]
     },
     "execution_count": 7,
     "metadata": {},
     "output_type": "execute_result"
    }
   ],
   "source": [
    "numeric = ['CreditScore', 'Age', 'Balance', 'NumOfProducts', 'EstimatedSalary']\n",
    "\n",
    "scaler = StandardScaler()\n",
    "scaler.fit(features_train[numeric])\n",
    "\n",
    "scaled_train = features_train.copy()\n",
    "scaled_valid = features_valid.copy()\n",
    "scaled_test = features_test.copy()\n",
    "\n",
    "scaled_train[numeric] = scaler.transform(features_train[numeric])\n",
    "scaled_valid[numeric] = scaler.transform(features_valid[numeric])\n",
    "scaled_test[numeric] = scaler.transform(features_test[numeric])\n",
    "scaled_train[numeric]"
   ]
  },
  {
   "cell_type": "markdown",
   "metadata": {},
   "source": [
    "# 2. Исследование задачи"
   ]
  },
  {
   "cell_type": "markdown",
   "metadata": {},
   "source": [
    "##### Баланс классов"
   ]
  },
  {
   "cell_type": "code",
   "execution_count": 8,
   "metadata": {
    "scrolled": true
   },
   "outputs": [
    {
     "data": {
      "text/plain": [
       "0    0.7963\n",
       "1    0.2037\n",
       "Name: Exited, dtype: float64"
      ]
     },
     "execution_count": 8,
     "metadata": {},
     "output_type": "execute_result"
    },
    {
     "data": {
      "image/png": "[encoded data removed]",
      "text/plain": [
       "<Figure size 432x288 with 1 Axes>"
      ]
     },
     "metadata": {
      "needs_background": "light"
     },
     "output_type": "display_data"
    }
   ],
   "source": [
    "target.value_counts(normalize=True).plot(kind='bar', grid=True)\n",
    "target.value_counts(normalize=True)"
   ]
  },
  {
   "cell_type": "markdown",
   "metadata": {},
   "source": [
    "Наблюдается явный дисбаланс: ушедших клиентов почти в 4 раза меньше оставшихся.  Это не лучшим образом влияет на качество моделей.  \n",
    "Но сперва построим модели без баланса классов."
   ]
  },
  {
   "cell_type": "markdown",
   "metadata": {},
   "source": [
    "##### Дерево решений"
   ]
  },
  {
   "cell_type": "markdown",
   "metadata": {},
   "source": [
    "Посчитаем F1-меру и долю правильных ответов при разной высоте дерева"
   ]
  },
  {
   "cell_type": "code",
   "execution_count": 9,
   "metadata": {},
   "outputs": [
    {
     "name": "stdout",
     "output_type": "stream",
     "text": [
      "    f1_train  f1_valid accuracy_valid   auc_roc\n",
      "2   0.510246  0.474916          0.843  0.708465\n",
      "3   0.536217  0.500818         0.8475  0.770968\n",
      "4   0.512707  0.471869         0.8545  0.786643\n",
      "5   0.578422  0.508091          0.848  0.798223\n",
      "6   0.611858  0.527687          0.855  0.807386\n",
      "7   0.645545  0.510851         0.8535  0.804222\n",
      "8   0.682163  0.523364          0.847  0.806192\n",
      "9   0.712071  0.526636         0.8445   0.78378\n",
      "10  0.751838  0.512518         0.8345  0.763283\n",
      "11  0.787033  0.500715         0.8255  0.713605\n",
      "12  0.833406  0.474341         0.8105  0.688226\n",
      "13  0.863297  0.481013         0.8155  0.685159\n",
      "14  0.901408  0.473896         0.8035  0.688979\n",
      "15  0.927035  0.457766          0.801   0.67961\n",
      "16  0.950021   0.45839         0.8015  0.682754\n",
      "17  0.970906  0.457293         0.7935  0.678427\n",
      "18  0.982716  0.461538         0.7935  0.676152\n",
      "19  0.991803  0.455863         0.7935   0.66887\n",
      "20  0.994674  0.453956         0.7895  0.666317\n",
      "21  0.995497  0.453125           0.79  0.664011\n",
      "22  0.995497  0.443286         0.7865  0.657794\n",
      "23  0.996729  0.445596          0.786  0.658707\n",
      "24  0.997962  0.455013          0.788  0.665923\n",
      "25  0.998776  0.461935         0.7915  0.669509\n"
     ]
    },
    {
     "data": {
      "image/png": "[encoded data removed]",
      "text/plain": [
       "<Figure size 432x288 with 1 Axes>"
      ]
     },
     "metadata": {
      "needs_background": "light"
     },
     "output_type": "display_data"
    }
   ],
   "source": [
    "columns = ['f1_train', 'f1_valid', 'accuracy_valid', 'auc_roc']\n",
    "f1_tree = pd.DataFrame(columns=columns)\n",
    "for depth in range(2, 26):\n",
    "    model = DecisionTreeClassifier(random_state=2020, max_depth=depth)\n",
    "    model.fit(scaled_train, target_train)\n",
    "    probabilities = model.predict_proba(scaled_valid)\n",
    "    probabilities_one = probabilities[:, 1]\n",
    "    predicted_train = model.predict(scaled_train)\n",
    "    predicted_valid = model.predict(scaled_valid)\n",
    "    f1_tree.loc[depth, 'f1_train'] = f1_score(target_train, predicted_train)\n",
    "    f1_tree.loc[depth, 'f1_valid'] = f1_score(target_valid, predicted_valid)\n",
    "    f1_tree.loc[depth, 'accuracy_valid'] = model.score(scaled_valid, target_valid)\n",
    "    f1_tree.loc[depth, 'auc_roc'] = roc_auc_score(target_valid, probabilities_one)\n",
    "    \n",
    "print(f1_tree)\n",
    "f1_tree.plot(grid=True, title='График зависимости F1-меры от высоты дерева решений');"
   ]
  },
  {
   "cell_type": "markdown",
   "metadata": {},
   "source": [
    "Наилучший результат получился при *max_depth*=6 (AUC-ROC также наибольший получился). Картина ожидаемо получилась аналогичной подобному графику для метрики *accuracy* из прошлого проекта: при увеличении высота дерева F1-мера растёт до единицы для тренирвочной выборки, а для валидационной сначала растёт до некоторого уровня и затем снижается."
   ]
  },
  {
   "cell_type": "code",
   "execution_count": 10,
   "metadata": {},
   "outputs": [
    {
     "data": {
      "image/png": "[encoded data removed]",
      "text/plain": [
       "<Figure size 432x288 with 1 Axes>"
      ]
     },
     "metadata": {
      "needs_background": "light"
     },
     "output_type": "display_data"
    },
    {
     "name": "stdout",
     "output_type": "stream",
     "text": [
      "Доля верных ответов = 0.855\n",
      "Точность = 0.692\n",
      "Полнота = 0.426\n",
      "F1-мера = 0.528\n",
      "AUC-ROC = 0.807\n"
     ]
    }
   ],
   "source": [
    "def print_metrics(model, features_data, target_data):\n",
    "    predicted_data = model.predict(features_data)\n",
    "    probabilities = model.predict_proba(features_data)\n",
    "    probabilities_one = probabilities[:, 1]\n",
    "\n",
    "    fpr, tpr, thresholds = roc_curve(target_data, probabilities_one)\n",
    "    plt.figure()\n",
    "    plt.plot(fpr, tpr)\n",
    "    plt.plot([0, 1], [0, 1], linestyle='--')\n",
    "    plt.xlim([0.0, 1.0])\n",
    "    plt.ylim([0.0, 1.0])\n",
    "    plt.grid(True)\n",
    "    plt.xlabel('False Positive Rate')\n",
    "    plt.ylabel('True Positive Rate')\n",
    "    plt.title('ROC-кривая')\n",
    "    plt.show()\n",
    "    \n",
    "    print('Доля верных ответов = {:.3f}'.format(model.score(features_data, target_data)))\n",
    "    print('Точность = {:.3f}'.format(precision_score(target_data, predicted_data)))\n",
    "    print('Полнота = {:.3f}'.format(recall_score(target_data, predicted_data)))\n",
    "    print('F1-мера = {:.3f}'.format(f1_score(target_data, predicted_data)))\n",
    "    print('AUC-ROC = {:.3f}'.format(roc_auc_score(target_data, probabilities_one)))\n",
    "    \n",
    "model_dtc = DecisionTreeClassifier(random_state=42, max_depth=6)\n",
    "model_dtc.fit(scaled_train, target_train)\n",
    "print_metrics(model_dtc, scaled_valid, target_valid)"
   ]
  },
  {
   "cell_type": "markdown",
   "metadata": {},
   "source": [
    "##### Случайный лес"
   ]
  },
  {
   "cell_type": "markdown",
   "metadata": {},
   "source": [
    "Для поиска подходящих гиперпараметров воспользуемся методом Grid Search"
   ]
  },
  {
   "cell_type": "code",
   "execution_count": 11,
   "metadata": {},
   "outputs": [
    {
     "data": {
      "text/plain": [
       "{'max_depth': 15, 'n_estimators': 150}"
      ]
     },
     "execution_count": 11,
     "metadata": {},
     "output_type": "execute_result"
    }
   ],
   "source": [
    "model = RandomForestClassifier(random_state=42)\n",
    "\n",
    "grid_param = {'n_estimators' : [50 * x for x in range(1, 7)],\n",
    "              'max_depth' : [5 * x for x in range(1, 11)]}\n",
    "\n",
    "grid_search = GridSearchCV(model, grid_param, scoring='f1', n_jobs=-1, cv=3)\n",
    "grid_search.fit(scaled_train, target_train)\n",
    "grid_search.best_params_"
   ]
  },
  {
   "cell_type": "code",
   "execution_count": 12,
   "metadata": {},
   "outputs": [
    {
     "data": {
      "image/png": "[encoded data removed]",
      "text/plain": [
       "<Figure size 432x288 with 1 Axes>"
      ]
     },
     "metadata": {
      "needs_background": "light"
     },
     "output_type": "display_data"
    },
    {
     "name": "stdout",
     "output_type": "stream",
     "text": [
      "Доля верных ответов = 0.866\n",
      "Точность = 0.741\n",
      "Полнота = 0.453\n",
      "F1-мера = 0.562\n",
      "AUC-ROC = 0.837\n"
     ]
    }
   ],
   "source": [
    "model_rfc = RandomForestClassifier(random_state=42, n_estimators=150, max_depth=15)\n",
    "model_rfc.fit(scaled_train, target_train)\n",
    "print_metrics(model_rfc, scaled_valid, target_valid)"
   ]
  },
  {
   "cell_type": "markdown",
   "metadata": {},
   "source": [
    "##### Логистическая регрессия "
   ]
  },
  {
   "cell_type": "code",
   "execution_count": 13,
   "metadata": {},
   "outputs": [
    {
     "data": {
      "text/plain": [
       "{'solver': 'liblinear'}"
      ]
     },
     "execution_count": 13,
     "metadata": {},
     "output_type": "execute_result"
    }
   ],
   "source": [
    "model = LogisticRegression(random_state=42)\n",
    "grid_param = {'solver' : ['newton-cg', 'lbfgs', 'liblinear', 'sag', 'saga']}\n",
    "grid_search = GridSearchCV(model, grid_param, scoring='f1', cv=3)\n",
    "grid_search.fit(scaled_train, target_train)\n",
    "grid_search.best_params_"
   ]
  },
  {
   "cell_type": "code",
   "execution_count": 14,
   "metadata": {},
   "outputs": [
    {
     "data": {
      "image/png": "[encoded data removed]",
      "text/plain": [
       "<Figure size 432x288 with 1 Axes>"
      ]
     },
     "metadata": {
      "needs_background": "light"
     },
     "output_type": "display_data"
    },
    {
     "name": "stdout",
     "output_type": "stream",
     "text": [
      "Доля верных ответов = 0.817\n",
      "Точность = 0.550\n",
      "Полнота = 0.203\n",
      "F1-мера = 0.296\n",
      "AUC-ROC = 0.754\n"
     ]
    }
   ],
   "source": [
    "model_lr = LogisticRegression(random_state=42, solver='liblinear')\n",
    "model_lr.fit(scaled_train, target_train)\n",
    "print_metrics(model_lr, scaled_valid, target_valid)"
   ]
  },
  {
   "cell_type": "markdown",
   "metadata": {},
   "source": [
    "+ Все модели по метрике accuracy оказались лучше константной модели (у неё примерно 0.79).\n",
    "+ Лучшая модель - случайный лес (F1 = 0.562), худшая - логистическая регрессия (F1 = 0.299).\n",
    "+ F1-мера - агрегирующая метрика, максимизация которой даёт оптимальное соотношение точности и полноты.\n",
    "+ Для исследованных моделей более высокая F1-мера сопровождалась более высокой AUC-ROC."
   ]
  },
  {
   "cell_type": "markdown",
   "metadata": {},
   "source": [
    "# 3. Борьба с дисбалансом"
   ]
  },
  {
   "cell_type": "markdown",
   "metadata": {},
   "source": [
    "Как уже было отмечено, у нас есть дисбаланс классов, попробуем решить проблему разными способами. В каждом новом случае повторно будем использовать Grid search для подбора гиперпараметров.  \n",
    "\n",
    "**Примечание:** Далее будет рассматриваться только модель случайного леса, как показавшая наилучший результат. Интереса ради я посмотрел логистическую регрессию и дерево решений (достичь нужной величины F1-меры не получилось), но чтобы не перегружать ноутбук не стал приводить все выкладки."
   ]
  },
  {
   "cell_type": "markdown",
   "metadata": {},
   "source": [
    "##### Взвешивание классов"
   ]
  },
  {
   "cell_type": "markdown",
   "metadata": {},
   "source": [
    "Используем параметр модели *class_weight*, который увеличит вес положительного класса."
   ]
  },
  {
   "cell_type": "code",
   "execution_count": 15,
   "metadata": {},
   "outputs": [
    {
     "data": {
      "text/plain": [
       "{'max_depth': 10, 'n_estimators': 300}"
      ]
     },
     "execution_count": 15,
     "metadata": {},
     "output_type": "execute_result"
    }
   ],
   "source": [
    "model = RandomForestClassifier(random_state=42, class_weight='balanced')\n",
    "\n",
    "grid_param = {'n_estimators' : [50 * x for x in range(1, 7)],\n",
    "              'max_depth' : [5 * x for x in range(1, 11)]}\n",
    "\n",
    "grid_search = GridSearchCV(model, grid_param, scoring='f1', n_jobs=-1, cv=3)\n",
    "grid_search.fit(scaled_train, target_train)\n",
    "grid_search.best_params_"
   ]
  },
  {
   "cell_type": "code",
   "execution_count": 20,
   "metadata": {},
   "outputs": [
    {
     "data": {
      "image/png": "[encoded data removed]",
      "text/plain": [
       "<Figure size 432x288 with 1 Axes>"
      ]
     },
     "metadata": {
      "needs_background": "light"
     },
     "output_type": "display_data"
    },
    {
     "name": "stdout",
     "output_type": "stream",
     "text": [
      "Доля верных ответов = 0.843\n",
      "Точность = 0.582\n",
      "Полнота = 0.605\n",
      "F1-мера = 0.594\n",
      "AUC-ROC = 0.846\n"
     ]
    }
   ],
   "source": [
    "model_rfc_b = RandomForestClassifier(random_state=42, n_estimators=300, max_depth=10, class_weight='balanced')\n",
    "model_rfc_b.fit(scaled_train, target_train)\n",
    "print_metrics(model_rfc_b, scaled_valid, target_valid)"
   ]
  },
  {
   "cell_type": "markdown",
   "metadata": {},
   "source": [
    "Взвешивание классов дало прирост F1-меры на 0.033. Эффективность взвешивания классов налицо."
   ]
  },
  {
   "cell_type": "markdown",
   "metadata": {},
   "source": [
    "##### Upsampling"
   ]
  },
  {
   "cell_type": "markdown",
   "metadata": {},
   "source": [
    "Техника upsampling позволяет увеличить количество объектов редкого класса путём их кратного копирования:  \n",
    "\n",
    "+ Разделяем обучающую выборку на отрицательные и положительные объекты;\n",
    "+ Копируем несколько раз положительные объекты;\n",
    "+ С учётом полученных данных создаём новую обучающую выборку;\n",
    "+ Перемешиваем данные."
   ]
  },
  {
   "cell_type": "code",
   "execution_count": 21,
   "metadata": {},
   "outputs": [],
   "source": [
    "def upsample(features, target, repeat):\n",
    "    features_zeros = features[target == 0]\n",
    "    features_ones = features[target == 1]\n",
    "    target_zeros = target[target == 0]\n",
    "    target_ones = target[target == 1]\n",
    "\n",
    "    features_upsampled = pd.concat([features_zeros] + [features_ones] * repeat)\n",
    "    target_upsampled = pd.concat([target_zeros] + [target_ones] * repeat)\n",
    "    \n",
    "    features_upsampled, target_upsampled = shuffle(\n",
    "        features_upsampled, target_upsampled, random_state=42)\n",
    "    \n",
    "    return features_upsampled, target_upsampled"
   ]
  },
  {
   "cell_type": "code",
   "execution_count": 42,
   "metadata": {},
   "outputs": [],
   "source": [
    "def score_model(model, params, cv, technique, n):\n",
    "    scores = []\n",
    "    \n",
    "    # Цикл для перебора тренировочных и валидационных подвыборок\n",
    "    for train_fold_index, val_fold_index in cv.split(scaled_train, target_train):\n",
    "        \n",
    "        # Выбираем тренировочные данные\n",
    "        X_train_fold, y_train_fold = scaled_train.iloc[train_fold_index], target_train.iloc[train_fold_index]\n",
    "        \n",
    "        # Выбираем валидационные данные\n",
    "        X_val_fold, y_val_fold = scaled_train.iloc[val_fold_index], target_train.iloc[val_fold_index]\n",
    "        \n",
    "        # Делаем upsampling или downsampling\n",
    "        if technique == 'upsampling':\n",
    "            X_train_fold_upsample, y_train_fold_upsample = upsample(X_train_fold, y_train_fold, n)\n",
    "        elif technique == 'downsampling':\n",
    "            X_train_fold_upsample, y_train_fold_upsample = downsample(X_train_fold, y_train_fold, n)\n",
    "       \n",
    "        # Обучаем модель на тренировочных данных    \n",
    "        model_obj = model(**params).fit(X_train_fold_upsample, y_train_fold_upsample)\n",
    "        \n",
    "        # Определяем целевую метрику и записываем в массив\n",
    "        score = f1_score(y_val_fold, model_obj.predict(X_val_fold))\n",
    "        scores.append(score)\n",
    "    return np.array(scores)"
   ]
  },
  {
   "cell_type": "code",
   "execution_count": 43,
   "metadata": {},
   "outputs": [],
   "source": [
    "kf = KFold(n_splits=3, random_state=42, shuffle=True)\n",
    "grid_param = {'n_estimators' : [50 * x for x in range(3, 12)],\n",
    "              'max_depth' : [5 * x for x in range(1, 6)]}\n",
    "\n",
    "# Цикл для перебора гиперпараметров\n",
    "score_tracker = []\n",
    "for n_estimators in grid_param['n_estimators']:\n",
    "    for max_depth in grid_param['max_depth']:\n",
    "        params = {\n",
    "            'n_estimators': n_estimators,\n",
    "            'max_depth': max_depth,\n",
    "            'random_state': 42\n",
    "        }\n",
    "        # Считаем среднее значение метрики для каждого набора гиперпараметров и записываем в список\n",
    "        params['f1'] = score_model(RandomForestClassifier, params, cv=kf, technique='upsampling', n=4).mean()\n",
    "        score_tracker.append(params)"
   ]
  },
  {
   "cell_type": "code",
   "execution_count": 44,
   "metadata": {},
   "outputs": [
    {
     "data": {
      "text/plain": [
       "{'n_estimators': 500,\n",
       " 'max_depth': 10,\n",
       " 'random_state': 42,\n",
       " 'f1': 0.6158841488173271}"
      ]
     },
     "execution_count": 44,
     "metadata": {},
     "output_type": "execute_result"
    }
   ],
   "source": [
    "# Выбираем гиперпараметры с наибольшим значением метрики\n",
    "sorted(score_tracker, key=lambda x: x['f1'], reverse=True)[0]"
   ]
  },
  {
   "cell_type": "code",
   "execution_count": 45,
   "metadata": {},
   "outputs": [
    {
     "data": {
      "image/png": "[encoded data removed]",
      "text/plain": [
       "<Figure size 432x288 with 1 Axes>"
      ]
     },
     "metadata": {
      "needs_background": "light"
     },
     "output_type": "display_data"
    },
    {
     "name": "stdout",
     "output_type": "stream",
     "text": [
      "Доля верных ответов = 0.825\n",
      "Точность = 0.532\n",
      "Полнота = 0.666\n",
      "F1-мера = 0.591\n",
      "AUC-ROC = 0.842\n"
     ]
    }
   ],
   "source": [
    "features_upsampled, target_upsampled = upsample(scaled_train, target_train, 4)\n",
    "\n",
    "model_rfc_u = RandomForestClassifier(random_state=42, n_estimators=500, max_depth=10)\n",
    "model_rfc_u.fit(features_upsampled, target_upsampled)\n",
    "print_metrics(model_rfc_u, scaled_valid, target_valid)"
   ]
  },
  {
   "cell_type": "markdown",
   "metadata": {},
   "source": [
    "Здесь результат незначительно хуже, чем со взвешиванием классов. Думаю это вызвано случайными факторами и в нашем случае можно считать эффективность upsemling'а и взвешивания классов одинаковой."
   ]
  },
  {
   "cell_type": "markdown",
   "metadata": {},
   "source": [
    "##### Downsampling"
   ]
  },
  {
   "cell_type": "markdown",
   "metadata": {},
   "source": [
    "Техника downsampling аналогична технике upsamplig, с той лишь разницей, что мы уменьшаем отрицательный класс."
   ]
  },
  {
   "cell_type": "code",
   "execution_count": 46,
   "metadata": {},
   "outputs": [],
   "source": [
    "def downsample(features, target, fraction):\n",
    "    features_zeros = features[target == 0]\n",
    "    features_ones = features[target == 1]\n",
    "    target_zeros = target[target == 0]\n",
    "    target_ones = target[target == 1]\n",
    "\n",
    "    features_downsampled = pd.concat(\n",
    "        [features_zeros.sample(frac=fraction, random_state=42)] + [features_ones])\n",
    "    target_downsampled = pd.concat(\n",
    "        [target_zeros.sample(frac=fraction, random_state=42)] + [target_ones])\n",
    "    \n",
    "    features_downsampled, target_downsampled = shuffle(\n",
    "        features_downsampled, target_downsampled, random_state=42)\n",
    "    \n",
    "    return features_downsampled, target_downsampled"
   ]
  },
  {
   "cell_type": "code",
   "execution_count": 47,
   "metadata": {},
   "outputs": [],
   "source": [
    "grid_param = {'n_estimators' : [50 * x for x in range(3, 12)],\n",
    "              'max_depth' : [5 * x for x in range(1, 6)]}\n",
    "\n",
    "score_tracker = []\n",
    "for n_estimators in grid_param['n_estimators']:\n",
    "    for max_depth in grid_param['max_depth']:\n",
    "        params = {\n",
    "            'n_estimators': n_estimators,\n",
    "            'max_depth': max_depth,\n",
    "            'random_state': 42\n",
    "        }\n",
    "        params['f1'] = score_model(RandomForestClassifier, params, cv=kf, technique='downsampling', n=0.25).mean()\n",
    "        score_tracker.append(params)"
   ]
  },
  {
   "cell_type": "code",
   "execution_count": 48,
   "metadata": {},
   "outputs": [
    {
     "data": {
      "text/plain": [
       "{'n_estimators': 350,\n",
       " 'max_depth': 10,\n",
       " 'random_state': 42,\n",
       " 'f1': 0.5855237082608933}"
      ]
     },
     "execution_count": 48,
     "metadata": {},
     "output_type": "execute_result"
    }
   ],
   "source": [
    "sorted(score_tracker, key=lambda x: x['f1'], reverse=True)[0]"
   ]
  },
  {
   "cell_type": "code",
   "execution_count": 49,
   "metadata": {},
   "outputs": [
    {
     "data": {
      "image/png": "[encoded data removed]",
      "text/plain": [
       "<Figure size 432x288 with 1 Axes>"
      ]
     },
     "metadata": {
      "needs_background": "light"
     },
     "output_type": "display_data"
    },
    {
     "name": "stdout",
     "output_type": "stream",
     "text": [
      "Доля верных ответов = 0.770\n",
      "Точность = 0.437\n",
      "Полнота = 0.726\n",
      "F1-мера = 0.545\n",
      "AUC-ROC = 0.835\n"
     ]
    }
   ],
   "source": [
    "features_downsampled, target_downsampled = downsample(scaled_train, target_train, 0.25)\n",
    "\n",
    "model_rfc_d = RandomForestClassifier(random_state=42, n_estimators=350, max_depth=10)\n",
    "model_rfc_d.fit(features_downsampled, target_downsampled)\n",
    "print_metrics(model_rfc_d, scaled_valid, target_valid)"
   ]
  },
  {
   "cell_type": "markdown",
   "metadata": {},
   "source": [
    "+ Техника downsampling'а привела к ухудшению результата. Из-за \"недообучения\" на отрицательном классе она стала чаще давать ложноположительные ответы, об этом свидетельствует высокая полнота и низкая точность.  \n",
    "+ Здесь мы получили довольно высокую полноту, что конкретно в нашей задаче для предотвращения оттока клиентов, пожалуй, более предпочтительное поведение модели.\n",
    "+ Что примечательно, метрика AUC-ROC здесь выше (0.835), чем в примере с upsampling'ом (0.826). Отсюда могу сделать вывод, что метрика AUC-ROC так сказать генерализованная метрика отражающая качество модели в целом и её максимизация может не приводить к требуемым результатам."
   ]
  },
  {
   "cell_type": "markdown",
   "metadata": {},
   "source": [
    "# 4. Тестирование модели"
   ]
  },
  {
   "cell_type": "markdown",
   "metadata": {},
   "source": [
    "Лучшей моделью оказался Случайный лес со взвешиванием классов, тестирование проведём на нём. Перед финальным тестированием объединим обучающую и валидационную выборки, чтобы предоставить модели больше данных."
   ]
  },
  {
   "cell_type": "code",
   "execution_count": 50,
   "metadata": {},
   "outputs": [
    {
     "data": {
      "image/png": "[encoded data removed]",
      "text/plain": [
       "<Figure size 432x288 with 1 Axes>"
      ]
     },
     "metadata": {
      "needs_background": "light"
     },
     "output_type": "display_data"
    },
    {
     "name": "stdout",
     "output_type": "stream",
     "text": [
      "Доля верных ответов = 0.841\n",
      "Точность = 0.625\n",
      "Полнота = 0.644\n",
      "F1-мера = 0.635\n",
      "AUC-ROC = 0.867\n"
     ]
    }
   ],
   "source": [
    "features_train_full = scaled_train.append(scaled_valid)\n",
    "target_train_full = target_train.append(target_valid)\n",
    "\n",
    "model_final = RandomForestClassifier(random_state=42, n_estimators=300, max_depth=10, class_weight='balanced')\n",
    "model_final.fit(features_train_full, target_train_full)\n",
    "\n",
    "print_metrics(model_final, scaled_test, target_test)"
   ]
  },
  {
   "cell_type": "markdown",
   "metadata": {},
   "source": [
    "+ Предобработка данных и устранение дисбаланса классов привело к значительному улучшение модели\n",
    "+ Лучшие результыт показывает наиболее ресурсозатратная модель Случайного леса.\n",
    "+ F1-мера > 0.59. Задача выполнена."
   ]
  }
 ],
 "metadata": {
  "kernelspec": {
   "display_name": "Python 3",
   "language": "python",
   "name": "python3"
  },
  "language_info": {
   "codemirror_mode": {
    "name": "ipython",
    "version": 3
   },
   "file_extension": ".py",
   "mimetype": "text/x-python",
   "name": "python",
   "nbconvert_exporter": "python",
   "pygments_lexer": "ipython3",
   "version": "3.7.6"
  }
 },
 "nbformat": 4,
 "nbformat_minor": 2
}
