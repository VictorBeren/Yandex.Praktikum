{
 "cells": [
  {
   "cell_type": "markdown",
   "metadata": {},
   "source": [
    "## Исследование надёжности заёмщиков\n",
    "\n",
    "Заказчик — кредитный отдел банка. Нужно разобраться, влияет ли семейное положение и количество детей клиента на факт погашения кредита в срок. Входные данные от банка — статистика о платёжеспособности клиентов.\n",
    "\n",
    "Результаты исследования будут учтены при построении модели **кредитного скоринга** — специальной системы, которая оценивает способность потенциального заёмщика вернуть кредит банку."
   ]
  },
  {
   "cell_type": "markdown",
   "metadata": {},
   "source": [
    "### Шаг 1. Откройте файл с данными и изучите общую информацию. "
   ]
  },
  {
   "cell_type": "code",
   "execution_count": 1,
   "metadata": {},
   "outputs": [],
   "source": [
    "import pandas as pd\n",
    "from pymystem3 import Mystem\n",
    "from collections import Counter"
   ]
  },
  {
   "cell_type": "code",
   "execution_count": 2,
   "metadata": {},
   "outputs": [
    {
     "name": "stdout",
     "output_type": "stream",
     "text": [
      "<class 'pandas.core.frame.DataFrame'>\n",
      "RangeIndex: 21525 entries, 0 to 21524\n",
      "Data columns (total 12 columns):\n",
      "children            21525 non-null int64\n",
      "days_employed       19351 non-null float64\n",
      "dob_years           21525 non-null int64\n",
      "education           21525 non-null object\n",
      "education_id        21525 non-null int64\n",
      "family_status       21525 non-null object\n",
      "family_status_id    21525 non-null int64\n",
      "gender              21525 non-null object\n",
      "income_type         21525 non-null object\n",
      "debt                21525 non-null int64\n",
      "total_income        19351 non-null float64\n",
      "purpose             21525 non-null object\n",
      "dtypes: float64(2), int64(5), object(5)\n",
      "memory usage: 2.0+ MB\n"
     ]
    },
    {
     "data": {
      "text/html": [
       "<div>\n",
       "<style scoped>\n",
       "    .dataframe tbody tr th:only-of-type {\n",
       "        vertical-align: middle;\n",
       "    }\n",
       "\n",
       "    .dataframe tbody tr th {\n",
       "        vertical-align: top;\n",
       "    }\n",
       "\n",
       "    .dataframe thead th {\n",
       "        text-align: right;\n",
       "    }\n",
       "</style>\n",
       "<table border=\"1\" class=\"dataframe\">\n",
       "  <thead>\n",
       "    <tr style=\"text-align: right;\">\n",
       "      <th></th>\n",
       "      <th>children</th>\n",
       "      <th>days_employed</th>\n",
       "      <th>dob_years</th>\n",
       "      <th>education</th>\n",
       "      <th>education_id</th>\n",
       "      <th>family_status</th>\n",
       "      <th>family_status_id</th>\n",
       "      <th>gender</th>\n",
       "      <th>income_type</th>\n",
       "      <th>debt</th>\n",
       "      <th>total_income</th>\n",
       "      <th>purpose</th>\n",
       "    </tr>\n",
       "  </thead>\n",
       "  <tbody>\n",
       "    <tr>\n",
       "      <td>0</td>\n",
       "      <td>1</td>\n",
       "      <td>-8437.673028</td>\n",
       "      <td>42</td>\n",
       "      <td>высшее</td>\n",
       "      <td>0</td>\n",
       "      <td>женат / замужем</td>\n",
       "      <td>0</td>\n",
       "      <td>F</td>\n",
       "      <td>сотрудник</td>\n",
       "      <td>0</td>\n",
       "      <td>253875.639453</td>\n",
       "      <td>покупка жилья</td>\n",
       "    </tr>\n",
       "    <tr>\n",
       "      <td>1</td>\n",
       "      <td>1</td>\n",
       "      <td>-4024.803754</td>\n",
       "      <td>36</td>\n",
       "      <td>среднее</td>\n",
       "      <td>1</td>\n",
       "      <td>женат / замужем</td>\n",
       "      <td>0</td>\n",
       "      <td>F</td>\n",
       "      <td>сотрудник</td>\n",
       "      <td>0</td>\n",
       "      <td>112080.014102</td>\n",
       "      <td>приобретение автомобиля</td>\n",
       "    </tr>\n",
       "    <tr>\n",
       "      <td>2</td>\n",
       "      <td>0</td>\n",
       "      <td>-5623.422610</td>\n",
       "      <td>33</td>\n",
       "      <td>Среднее</td>\n",
       "      <td>1</td>\n",
       "      <td>женат / замужем</td>\n",
       "      <td>0</td>\n",
       "      <td>M</td>\n",
       "      <td>сотрудник</td>\n",
       "      <td>0</td>\n",
       "      <td>145885.952297</td>\n",
       "      <td>покупка жилья</td>\n",
       "    </tr>\n",
       "    <tr>\n",
       "      <td>3</td>\n",
       "      <td>3</td>\n",
       "      <td>-4124.747207</td>\n",
       "      <td>32</td>\n",
       "      <td>среднее</td>\n",
       "      <td>1</td>\n",
       "      <td>женат / замужем</td>\n",
       "      <td>0</td>\n",
       "      <td>M</td>\n",
       "      <td>сотрудник</td>\n",
       "      <td>0</td>\n",
       "      <td>267628.550329</td>\n",
       "      <td>дополнительное образование</td>\n",
       "    </tr>\n",
       "    <tr>\n",
       "      <td>4</td>\n",
       "      <td>0</td>\n",
       "      <td>340266.072047</td>\n",
       "      <td>53</td>\n",
       "      <td>среднее</td>\n",
       "      <td>1</td>\n",
       "      <td>гражданский брак</td>\n",
       "      <td>1</td>\n",
       "      <td>F</td>\n",
       "      <td>пенсионер</td>\n",
       "      <td>0</td>\n",
       "      <td>158616.077870</td>\n",
       "      <td>сыграть свадьбу</td>\n",
       "    </tr>\n",
       "  </tbody>\n",
       "</table>\n",
       "</div>"
      ],
      "text/plain": [
       "   children  days_employed  dob_years education  education_id  \\\n",
       "0         1   -8437.673028         42    высшее             0   \n",
       "1         1   -4024.803754         36   среднее             1   \n",
       "2         0   -5623.422610         33   Среднее             1   \n",
       "3         3   -4124.747207         32   среднее             1   \n",
       "4         0  340266.072047         53   среднее             1   \n",
       "\n",
       "      family_status  family_status_id gender income_type  debt   total_income  \\\n",
       "0   женат / замужем                 0      F   сотрудник     0  253875.639453   \n",
       "1   женат / замужем                 0      F   сотрудник     0  112080.014102   \n",
       "2   женат / замужем                 0      M   сотрудник     0  145885.952297   \n",
       "3   женат / замужем                 0      M   сотрудник     0  267628.550329   \n",
       "4  гражданский брак                 1      F   пенсионер     0  158616.077870   \n",
       "\n",
       "                      purpose  \n",
       "0               покупка жилья  \n",
       "1     приобретение автомобиля  \n",
       "2               покупка жилья  \n",
       "3  дополнительное образование  \n",
       "4             сыграть свадьбу  "
      ]
     },
     "execution_count": 2,
     "metadata": {},
     "output_type": "execute_result"
    }
   ],
   "source": [
    "data_solvency = pd.read_csv('/datasets/data.csv')\n",
    "data_solvency.info()\n",
    "data_solvency.head()"
   ]
  },
  {
   "cell_type": "markdown",
   "metadata": {},
   "source": [
    "+ Наблюдаются следующие проблемы с данными:\n",
    "    + В столбце __'days_emloyed'__ присутствуют отрицательные значения и значения, превышающие время жизни человека (отмечается у пенсионеров и безработных). Значения вещественные, хотя по смыслу должны быть целочисленными. Также есть отсутствующие значения;\n",
    "    + В столбце __'total_income'__ у значений слишком много значащих цифр после запятой, вероятно вызвано особенностями расчёта величин. Также есть отсутствующие значения;\n",
    "    + В столбце __'education'__ данные об образовании записаны в разном регистре;\n",
    "    + В столбце __'purpose'__ одинаковые по смыслу цели записаны разными фразами, нужно будет проводить лемматизацию с последующей категоризацией.\n",
    "    + В столбце __'dob_years'__ присутствуют нулевые значения. По всей видимости они означают пропуски. (Если бы нам в дальнейшем понадобился этот столбец, то пропуски можно было бы заполнить средним возрастом по всей выборке)\n",
    "\n",
    "\n",
    "+ В дальнейшем столбец __'days_emloyed'__ рассматриваться не будет, поскольку для решения поставленных задач не требуется."
   ]
  },
  {
   "cell_type": "markdown",
   "metadata": {},
   "source": [
    "### Шаг 2. Предобработка данных"
   ]
  },
  {
   "cell_type": "markdown",
   "metadata": {},
   "source": [
    "### Обработка пропусков"
   ]
  },
  {
   "cell_type": "markdown",
   "metadata": {},
   "source": [
    "Для нашего исследования представляют интерес пропуски только в столбце __'total_income'__. Взглянем на них поближе."
   ]
  },
  {
   "cell_type": "code",
   "execution_count": 3,
   "metadata": {
    "scrolled": true
   },
   "outputs": [
    {
     "data": {
      "text/plain": [
       "1    1540\n",
       "0     544\n",
       "2      69\n",
       "3      21\n",
       "Name: education_id, dtype: int64"
      ]
     },
     "execution_count": 3,
     "metadata": {},
     "output_type": "execute_result"
    }
   ],
   "source": [
    "data_solvency[data_solvency['total_income'].isna() == True]['education_id'].value_counts()"
   ]
  },
  {
   "cell_type": "code",
   "execution_count": 4,
   "metadata": {},
   "outputs": [
    {
     "data": {
      "text/plain": [
       "0    1237\n",
       "1     442\n",
       "4     288\n",
       "3     112\n",
       "2      95\n",
       "Name: family_status_id, dtype: int64"
      ]
     },
     "execution_count": 4,
     "metadata": {},
     "output_type": "execute_result"
    }
   ],
   "source": [
    "data_solvency[data_solvency['total_income'].isna() == True]['family_status_id'].value_counts()"
   ]
  },
  {
   "cell_type": "code",
   "execution_count": 5,
   "metadata": {},
   "outputs": [
    {
     "data": {
      "text/plain": [
       "сотрудник          1105\n",
       "компаньон           508\n",
       "пенсионер           413\n",
       "госслужащий         147\n",
       "предприниматель       1\n",
       "Name: income_type, dtype: int64"
      ]
     },
     "execution_count": 5,
     "metadata": {},
     "output_type": "execute_result"
    }
   ],
   "source": [
    "data_solvency[data_solvency['total_income'].isna() == True]['income_type'].value_counts()"
   ]
  },
  {
   "cell_type": "markdown",
   "metadata": {},
   "source": [
    "По приведённым табличкам видно, что пропуски имеются практически во всех категориях по образованию, семейному статусу и типу занятости. Если и есть какие-то закономерности в появлении пропусков, то по нашим данным это невозможно установить. Таким образом можно считать, что характер пропусков полностью случайный."
   ]
  },
  {
   "cell_type": "code",
   "execution_count": 6,
   "metadata": {},
   "outputs": [
    {
     "data": {
      "text/html": [
       "<div>\n",
       "<style scoped>\n",
       "    .dataframe tbody tr th:only-of-type {\n",
       "        vertical-align: middle;\n",
       "    }\n",
       "\n",
       "    .dataframe tbody tr th {\n",
       "        vertical-align: top;\n",
       "    }\n",
       "\n",
       "    .dataframe thead th {\n",
       "        text-align: right;\n",
       "    }\n",
       "</style>\n",
       "<table border=\"1\" class=\"dataframe\">\n",
       "  <thead>\n",
       "    <tr style=\"text-align: right;\">\n",
       "      <th></th>\n",
       "      <th>median</th>\n",
       "      <th>mean</th>\n",
       "      <th>count</th>\n",
       "    </tr>\n",
       "    <tr>\n",
       "      <th>income_type</th>\n",
       "      <th></th>\n",
       "      <th></th>\n",
       "      <th></th>\n",
       "    </tr>\n",
       "  </thead>\n",
       "  <tbody>\n",
       "    <tr>\n",
       "      <td>безработный</td>\n",
       "      <td>131339.751676</td>\n",
       "      <td>131339.751676</td>\n",
       "      <td>2</td>\n",
       "    </tr>\n",
       "    <tr>\n",
       "      <td>в декрете</td>\n",
       "      <td>53829.130729</td>\n",
       "      <td>53829.130729</td>\n",
       "      <td>1</td>\n",
       "    </tr>\n",
       "    <tr>\n",
       "      <td>госслужащий</td>\n",
       "      <td>150447.935283</td>\n",
       "      <td>170898.309923</td>\n",
       "      <td>1312</td>\n",
       "    </tr>\n",
       "    <tr>\n",
       "      <td>компаньон</td>\n",
       "      <td>172357.950966</td>\n",
       "      <td>202417.461462</td>\n",
       "      <td>4577</td>\n",
       "    </tr>\n",
       "    <tr>\n",
       "      <td>пенсионер</td>\n",
       "      <td>118514.486412</td>\n",
       "      <td>137127.465690</td>\n",
       "      <td>3443</td>\n",
       "    </tr>\n",
       "    <tr>\n",
       "      <td>предприниматель</td>\n",
       "      <td>499163.144947</td>\n",
       "      <td>499163.144947</td>\n",
       "      <td>1</td>\n",
       "    </tr>\n",
       "    <tr>\n",
       "      <td>сотрудник</td>\n",
       "      <td>142594.396847</td>\n",
       "      <td>161380.260488</td>\n",
       "      <td>10014</td>\n",
       "    </tr>\n",
       "    <tr>\n",
       "      <td>студент</td>\n",
       "      <td>98201.625314</td>\n",
       "      <td>98201.625314</td>\n",
       "      <td>1</td>\n",
       "    </tr>\n",
       "  </tbody>\n",
       "</table>\n",
       "</div>"
      ],
      "text/plain": [
       "                        median           mean  count\n",
       "income_type                                         \n",
       "безработный      131339.751676  131339.751676      2\n",
       "в декрете         53829.130729   53829.130729      1\n",
       "госслужащий      150447.935283  170898.309923   1312\n",
       "компаньон        172357.950966  202417.461462   4577\n",
       "пенсионер        118514.486412  137127.465690   3443\n",
       "предприниматель  499163.144947  499163.144947      1\n",
       "сотрудник        142594.396847  161380.260488  10014\n",
       "студент           98201.625314   98201.625314      1"
      ]
     },
     "execution_count": 6,
     "metadata": {},
     "output_type": "execute_result"
    }
   ],
   "source": [
    "data_solvency.groupby('income_type')['total_income'].agg(['median', 'mean', 'count'])"
   ]
  },
  {
   "cell_type": "code",
   "execution_count": 7,
   "metadata": {},
   "outputs": [],
   "source": [
    "# Вычисляем медианные зарплаты для разных типов занятости и среднюю по всем данным\n",
    "income_median = data_solvency.groupby('income_type')['total_income'].median()\n",
    "income_avg = data_solvency['total_income'].mean()\n",
    "\n",
    "# Составляем список типов занятости, по которым будем производить замену отсутствующих значений зарплат\n",
    "employments = ['сотрудник', 'компаньон', 'пенсионер', 'госслужащий',]\n",
    "\n",
    "# Заменяем отсутствующие значения зарплат на медианные, по соответствующим значениям для разных типов занятости\n",
    "for employment in employments:\n",
    "    data_solvency.loc[data_solvency['income_type'] == employment, 'total_income'] = data_solvency.loc[data_solvency['income_type'] == employment, 'total_income'].fillna(income_median[employment])\n",
    "\n",
    "# Заменяем единственное отсутствующее значение с типом занятости 'предприниматель' на среднюю зарплату по всем данным\n",
    "data_solvency.loc[5936, 'total_income'] = income_avg"
   ]
  },
  {
   "cell_type": "markdown",
   "metadata": {},
   "source": [
    "+ В столбце __'total_income'__ чуть более 10% пропусков (2174). Удалять такое количество слишком рачительно.\n",
    "\n",
    "\n",
    "+ Характер пропусков полностью случайный, посему мы можем заполнить пропуски на основе имеющихся данных.\n",
    "\n",
    "\n",
    "+ Для заполнения пропусков решено взять медианные зарплаты по каждому типу занятости поскольку имеют место быть выбросы, которые завышают средние значения.\n",
    "\n",
    "\n",
    "+ Расчёт медианной зарплаты в типе занятости _предприниматель_ невозможен, поскольку имеется всего лишь одно значение. В связи с этим для заполнения пропуска по этому типу занятости взята средняя зарплата по всем данным.\n",
    "\n",
    "\n",
    "+ Причиной возникновения пропусков, вероятно, послужил технический сбой при сохранении данных или при их выгрузке."
   ]
  },
  {
   "cell_type": "markdown",
   "metadata": {},
   "source": [
    "### Замена типа данных"
   ]
  },
  {
   "cell_type": "code",
   "execution_count": 8,
   "metadata": {},
   "outputs": [
    {
     "data": {
      "text/plain": [
       "0    253875\n",
       "1    112080\n",
       "2    145885\n",
       "3    267628\n",
       "4    158616\n",
       "Name: total_income, dtype: int64"
      ]
     },
     "execution_count": 8,
     "metadata": {},
     "output_type": "execute_result"
    }
   ],
   "source": [
    "data_solvency['total_income'] = data_solvency['total_income'].astype('int')\n",
    "data_solvency['total_income'].head()"
   ]
  },
  {
   "cell_type": "markdown",
   "metadata": {},
   "source": [
    "+ Для перевода в целочисленный тип использован метод ___.astype___, который просто отбрасывает дробную часть. Его выбор обусловлен тем, что вклад дробной части в зарплату пренебрежимо мал, и её отброс не повляет на наши изыскания."
   ]
  },
  {
   "cell_type": "markdown",
   "metadata": {},
   "source": [
    "### Обработка дубликатов"
   ]
  },
  {
   "cell_type": "code",
   "execution_count": 9,
   "metadata": {},
   "outputs": [
    {
     "data": {
      "text/plain": [
       "54"
      ]
     },
     "execution_count": 9,
     "metadata": {},
     "output_type": "execute_result"
    }
   ],
   "source": [
    "data_solvency.duplicated().sum()"
   ]
  },
  {
   "cell_type": "code",
   "execution_count": 10,
   "metadata": {},
   "outputs": [
    {
     "data": {
      "text/plain": [
       "71"
      ]
     },
     "execution_count": 10,
     "metadata": {},
     "output_type": "execute_result"
    }
   ],
   "source": [
    "data_solvency['education'] = data_solvency['education'].str.lower()\n",
    "data_solvency.duplicated().sum()"
   ]
  },
  {
   "cell_type": "markdown",
   "metadata": {},
   "source": [
    "После приведения к единому регистру записей в столбце __'education'__ были выявлены скрытые дубликаты."
   ]
  },
  {
   "cell_type": "code",
   "execution_count": 11,
   "metadata": {},
   "outputs": [],
   "source": [
    "data_solvency = data_solvency.drop_duplicates().reset_index(drop=True)"
   ]
  },
  {
   "cell_type": "markdown",
   "metadata": {},
   "source": [
    "+ Обнаружен и удален 71 дубликата. Использовался метод ___.drop_duplicactes()___ совместно с ___.reset_index()___.\n",
    "\n",
    "\n",
    "+ Причиной возникновения повторов мог послужить человеческий фактор, т.е. информация по одному и тому же клиенту добавлялясь повторно в базу данных."
   ]
  },
  {
   "cell_type": "markdown",
   "metadata": {},
   "source": [
    "### Лемматизация"
   ]
  },
  {
   "cell_type": "code",
   "execution_count": 12,
   "metadata": {},
   "outputs": [
    {
     "data": {
      "text/plain": [
       "Counter({'покупка': 10,\n",
       "         'жилье': 7,\n",
       "         'приобретение': 1,\n",
       "         'автомобиль': 9,\n",
       "         'дополнительный': 2,\n",
       "         'образование': 9,\n",
       "         'сыграть': 1,\n",
       "         'свадьба': 3,\n",
       "         'операция': 4,\n",
       "         'с': 5,\n",
       "         'на': 4,\n",
       "         'проведение': 1,\n",
       "         'для': 2,\n",
       "         'семья': 1,\n",
       "         'недвижимость': 10,\n",
       "         'коммерческий': 2,\n",
       "         'жилой': 2,\n",
       "         'строительство': 3,\n",
       "         'собственный': 1,\n",
       "         'подержать': 1,\n",
       "         'свой': 4,\n",
       "         'со': 1,\n",
       "         'заниматься': 2,\n",
       "         'сделка': 2,\n",
       "         'подержанный': 1,\n",
       "         'получение': 3,\n",
       "         'высокий': 3,\n",
       "         'профильный': 1,\n",
       "         'сдача': 1,\n",
       "         'ремонт': 1})"
      ]
     },
     "execution_count": 12,
     "metadata": {},
     "output_type": "execute_result"
    }
   ],
   "source": [
    "m = Mystem()\n",
    "\n",
    "unique_purpose = data_solvency['purpose'].unique()\n",
    "\n",
    "lemmas_list = []\n",
    "for purpose in unique_purpose:\n",
    "    lemmas = ''.join(m.lemmatize(purpose)).strip()\n",
    "    lemmas = lemmas.split()\n",
    "    lemmas_list += lemmas\n",
    "\n",
    "Counter(lemmas_list)"
   ]
  },
  {
   "cell_type": "code",
   "execution_count": 13,
   "metadata": {},
   "outputs": [
    {
     "data": {
      "text/plain": [
       "недвижимость    10811\n",
       "автомобиль       4306\n",
       "образование      4013\n",
       "свадьба          2324\n",
       "Name: purpose_group, dtype: int64"
      ]
     },
     "execution_count": 13,
     "metadata": {},
     "output_type": "execute_result"
    }
   ],
   "source": [
    "purpose_list = ['жилье', 'недвижимость', 'автомобиль', 'образование', 'свадьба']\n",
    "\n",
    "def group_purposes(purpose):\n",
    "    lemmas = m.lemmatize(purpose)\n",
    "    for lemma in lemmas:\n",
    "        if lemma in purpose_list:\n",
    "            return lemma\n",
    "        \n",
    "data_solvency['purpose_group'] = data_solvency['purpose'].apply(group_purposes)\n",
    "\n",
    "data_solvency.loc[data_solvency['purpose_group'] == 'жилье', 'purpose_group'] = 'недвижимость'\n",
    "\n",
    "data_solvency['purpose_group'].value_counts()"
   ]
  },
  {
   "cell_type": "markdown",
   "metadata": {},
   "source": [
    "+ В первую очередь был составлен список уникальных лемм __purpose_list__\n",
    "\n",
    "\n",
    "+ В последствии проводилось сравнение лемматизированных строк из __'purpose'__ со списком __purpose_list__.\n",
    "\n",
    "\n",
    "+ В случае совпадения лемм её значение записывалось в новый столбец __'purpose_group'__\n",
    "\n",
    "\n",
    "+ Леммы _жилье_ и _недвижимость_ объединены в одну категорию _недвижимость_ , поскольку жилье является частным случаем недвижимости.\n",
    "\n",
    "\n",
    "+ Лемматизация проводилась с помощью инструментов из библиотеки ___pymystem3___"
   ]
  },
  {
   "cell_type": "markdown",
   "metadata": {},
   "source": [
    "### Категоризация данных"
   ]
  },
  {
   "cell_type": "markdown",
   "metadata": {},
   "source": [
    "+ В предоставленных данных уже есть разбивка на категории для уровня образования и семейного статуса. Для удобства создадим \"словари\"."
   ]
  },
  {
   "cell_type": "code",
   "execution_count": 14,
   "metadata": {},
   "outputs": [
    {
     "name": "stdout",
     "output_type": "stream",
     "text": [
      "             education  education_id\n",
      "0               высшее             0\n",
      "1              среднее             1\n",
      "2  неоконченное высшее             2\n",
      "3            начальное             3\n",
      "4       ученая степень             4\n"
     ]
    }
   ],
   "source": [
    "education_dict = data_solvency[['education', 'education_id']]\n",
    "education_dict = education_dict.drop_duplicates().reset_index(drop=True)\n",
    "print(education_dict)"
   ]
  },
  {
   "cell_type": "code",
   "execution_count": 15,
   "metadata": {},
   "outputs": [
    {
     "name": "stdout",
     "output_type": "stream",
     "text": [
      "           family_status  family_status_id\n",
      "0        женат / замужем                 0\n",
      "1       гражданский брак                 1\n",
      "2         вдовец / вдова                 2\n",
      "3              в разводе                 3\n",
      "4  Не женат / не замужем                 4\n"
     ]
    }
   ],
   "source": [
    "family_status_dict = data_solvency[['family_status', 'family_status_id']]\n",
    "family_status_dict = family_status_dict.drop_duplicates().reset_index(drop=True)\n",
    "print(family_status_dict)"
   ]
  },
  {
   "cell_type": "markdown",
   "metadata": {},
   "source": [
    "+ Для ответов на поставленные вопросы нам понадобятся следующие столбцы: __'children'__, __'family_status'__, __'debt'__, __'total_income'__ и __'purpose_group'__\n",
    "\n",
    "\n",
    "+ Проведём категоризацию для __'children'__ и __'total_income'__. Данные по остальным столбцам уже категоризованы."
   ]
  },
  {
   "cell_type": "markdown",
   "metadata": {},
   "source": [
    "#### 'children' - количество детей"
   ]
  },
  {
   "cell_type": "code",
   "execution_count": 16,
   "metadata": {},
   "outputs": [
    {
     "data": {
      "text/plain": [
       " 0     14091\n",
       " 1      4808\n",
       " 2      2052\n",
       " 3       330\n",
       " 20       76\n",
       "-1        47\n",
       " 4        41\n",
       " 5         9\n",
       "Name: children, dtype: int64"
      ]
     },
     "execution_count": 16,
     "metadata": {},
     "output_type": "execute_result"
    }
   ],
   "source": [
    "data_solvency['children'].value_counts()"
   ]
  },
  {
   "cell_type": "markdown",
   "metadata": {},
   "source": [
    "+ В столбце __'children'__ присутствуют значения -1 и 20, по всей видимости, это ошибочные значения неведомого генеза. Заменим их на моду. Такая замена не сильно повлияет на результат, поскольку эти значения встречаются редко."
   ]
  },
  {
   "cell_type": "code",
   "execution_count": 17,
   "metadata": {},
   "outputs": [
    {
     "data": {
      "text/html": [
       "<div>\n",
       "<style scoped>\n",
       "    .dataframe tbody tr th:only-of-type {\n",
       "        vertical-align: middle;\n",
       "    }\n",
       "\n",
       "    .dataframe tbody tr th {\n",
       "        vertical-align: top;\n",
       "    }\n",
       "\n",
       "    .dataframe thead th {\n",
       "        text-align: right;\n",
       "    }\n",
       "</style>\n",
       "<table border=\"1\" class=\"dataframe\">\n",
       "  <thead>\n",
       "    <tr style=\"text-align: right;\">\n",
       "      <th></th>\n",
       "      <th>mean</th>\n",
       "      <th>count</th>\n",
       "    </tr>\n",
       "    <tr>\n",
       "      <th>children</th>\n",
       "      <th></th>\n",
       "      <th></th>\n",
       "    </tr>\n",
       "  </thead>\n",
       "  <tbody>\n",
       "    <tr>\n",
       "      <td>0</td>\n",
       "      <td>0.075419</td>\n",
       "      <td>14214</td>\n",
       "    </tr>\n",
       "    <tr>\n",
       "      <td>1</td>\n",
       "      <td>0.092346</td>\n",
       "      <td>4808</td>\n",
       "    </tr>\n",
       "    <tr>\n",
       "      <td>2</td>\n",
       "      <td>0.094542</td>\n",
       "      <td>2052</td>\n",
       "    </tr>\n",
       "    <tr>\n",
       "      <td>3</td>\n",
       "      <td>0.081818</td>\n",
       "      <td>330</td>\n",
       "    </tr>\n",
       "    <tr>\n",
       "      <td>4</td>\n",
       "      <td>0.097561</td>\n",
       "      <td>41</td>\n",
       "    </tr>\n",
       "    <tr>\n",
       "      <td>5</td>\n",
       "      <td>0.000000</td>\n",
       "      <td>9</td>\n",
       "    </tr>\n",
       "  </tbody>\n",
       "</table>\n",
       "</div>"
      ],
      "text/plain": [
       "              mean  count\n",
       "children                 \n",
       "0         0.075419  14214\n",
       "1         0.092346   4808\n",
       "2         0.094542   2052\n",
       "3         0.081818    330\n",
       "4         0.097561     41\n",
       "5         0.000000      9"
      ]
     },
     "execution_count": 17,
     "metadata": {},
     "output_type": "execute_result"
    }
   ],
   "source": [
    "data_solvency.loc[data_solvency['children'] == -1, 'children'] = 0\n",
    "data_solvency.loc[data_solvency['children'] == 20, 'children'] = 0\n",
    "data_solvency.groupby('children')['debt'].agg(['mean', 'count'])"
   ]
  },
  {
   "cell_type": "markdown",
   "metadata": {},
   "source": [
    "+ После замены значений подсчитали долю проблемных клиентов методом ___.mean___\n",
    "\n",
    "\n",
    "+ Доли людей с разным количеством детей, допускавших просрочку, близки по значениям, а людей с 5 детьми просто мало. Целесообразно рассматривать наличие/отсутствие детей. Создадим столбец __'children_presence'__, где 0 - отсутствие детей, 1 - дети имеются."
   ]
  },
  {
   "cell_type": "code",
   "execution_count": 18,
   "metadata": {},
   "outputs": [],
   "source": [
    "def group_children(number):\n",
    "    if number != 0:\n",
    "        return 1\n",
    "    return 0\n",
    "\n",
    "data_solvency['children_presence'] = data_solvency['children'].apply(group_children)"
   ]
  },
  {
   "cell_type": "markdown",
   "metadata": {},
   "source": [
    "#### 'total_income' - месячная зарплата"
   ]
  },
  {
   "cell_type": "code",
   "execution_count": 19,
   "metadata": {},
   "outputs": [
    {
     "name": "stdout",
     "output_type": "stream",
     "text": [
      "                   count      mean\n",
      "total_income_bin                  \n",
      "(20667, 60000]       805  0.059627\n",
      "(60000, 80000]      1470  0.085034\n",
      "(80000, 100000]     2187  0.082305\n",
      "(100000, 120000]    2768  0.083815\n",
      "(120000, 140000]    2260  0.086283\n",
      "(140000, 160000]    3243  0.090040\n",
      "(160000, 180000]    2298  0.082681\n",
      "(180000, 200000]    1356  0.088496\n",
      "(200000, 220000]    1059  0.069877\n",
      "(220000, 240000]     877  0.076397\n",
      "(240000, 260000]     672  0.072917\n",
      "(260000, 280000]     569  0.059754\n",
      "(280000, 300000]     407  0.068796\n",
      "(300000, 320000]     260  0.080769\n",
      "(320000, 340000]     249  0.076305\n",
      "(340000, 2265604]    973  0.067831\n"
     ]
    },
    {
     "data": {
      "text/plain": [
       "<matplotlib.axes._subplots.AxesSubplot at 0x7fec09860690>"
      ]
     },
     "execution_count": 19,
     "metadata": {},
     "output_type": "execute_result"
    },
    {
     "data": {
      "image/png": "[encoded data removed]",
      "text/plain": [
       "<Figure size 432x288 with 1 Axes>"
      ]
     },
     "metadata": {
      "needs_background": "light"
     },
     "output_type": "display_data"
    }
   ],
   "source": [
    "min_i = data_solvency['total_income'].min()\n",
    "max_i = data_solvency['total_income'].max()\n",
    "data_solvency['total_income_bin'] = pd.cut(data_solvency['total_income'], [min_i,60000, 80000, 100000,120000,140000,160000, 180000,200000,220000,240000,260000,280000,300000, 320000, 340000, max_i])\n",
    "print(data_solvency.groupby('total_income_bin')['debt'].agg(['count', 'mean']))\n",
    "data_solvency.groupby('total_income_bin')['debt'].mean().plot()\n"
   ]
  },
  {
   "cell_type": "markdown",
   "metadata": {},
   "source": [
    "+ Проведена разбивка зарплаты на небольшие бины и построен график, отображающий зависимость доли просрочек от зарплаты.\n",
    "\n",
    "\n",
    "+ Визуально можно выделить 3 интервала зарплат __(минимальная зарплата, 60000)__, __(60000, 200000)__ и __(200000, максимальная зарплата)__."
   ]
  },
  {
   "cell_type": "markdown",
   "metadata": {},
   "source": [
    "+ Проведена категоризация для двух столбцов разными способами. Цель этого действа - правильный анализ имеющейся информации и получение адекватных выводов."
   ]
  },
  {
   "cell_type": "markdown",
   "metadata": {},
   "source": [
    "### Шаг 3. Ответьте на вопросы"
   ]
  },
  {
   "cell_type": "markdown",
   "metadata": {},
   "source": [
    "##### Есть ли зависимость между наличием детей и возвратом кредита в срок?"
   ]
  },
  {
   "cell_type": "code",
   "execution_count": 19,
   "metadata": {},
   "outputs": [
    {
     "data": {
      "text/html": [
       "<div>\n",
       "<style scoped>\n",
       "    .dataframe tbody tr th:only-of-type {\n",
       "        vertical-align: middle;\n",
       "    }\n",
       "\n",
       "    .dataframe tbody tr th {\n",
       "        vertical-align: top;\n",
       "    }\n",
       "\n",
       "    .dataframe thead th {\n",
       "        text-align: right;\n",
       "    }\n",
       "</style>\n",
       "<table border=\"1\" class=\"dataframe\">\n",
       "  <thead>\n",
       "    <tr style=\"text-align: right;\">\n",
       "      <th></th>\n",
       "      <th>debt</th>\n",
       "    </tr>\n",
       "    <tr>\n",
       "      <th>children_presence</th>\n",
       "      <th></th>\n",
       "    </tr>\n",
       "  </thead>\n",
       "  <tbody>\n",
       "    <tr>\n",
       "      <td>1</td>\n",
       "      <td>0.092403</td>\n",
       "    </tr>\n",
       "    <tr>\n",
       "      <td>0</td>\n",
       "      <td>0.075419</td>\n",
       "    </tr>\n",
       "  </tbody>\n",
       "</table>\n",
       "</div>"
      ],
      "text/plain": [
       "                       debt\n",
       "children_presence          \n",
       "1                  0.092403\n",
       "0                  0.075419"
      ]
     },
     "execution_count": 19,
     "metadata": {},
     "output_type": "execute_result"
    }
   ],
   "source": [
    "data_solvency.pivot_table(index='children_presence', values='debt').sort_values(by='debt', ascending=False)"
   ]
  },
  {
   "cell_type": "markdown",
   "metadata": {},
   "source": [
    "Зависимость есть. Люди с детьми чаще допускают просрочки платежей.  По всей видимости связано это с тем, что дети являются дополнительной нагрузкой на семейный бюджет."
   ]
  },
  {
   "cell_type": "markdown",
   "metadata": {},
   "source": [
    "##### Есть ли зависимость между семейным положением и возвратом кредита в срок?"
   ]
  },
  {
   "cell_type": "code",
   "execution_count": 20,
   "metadata": {
    "scrolled": true
   },
   "outputs": [
    {
     "data": {
      "text/html": [
       "<div>\n",
       "<style scoped>\n",
       "    .dataframe tbody tr th:only-of-type {\n",
       "        vertical-align: middle;\n",
       "    }\n",
       "\n",
       "    .dataframe tbody tr th {\n",
       "        vertical-align: top;\n",
       "    }\n",
       "\n",
       "    .dataframe thead th {\n",
       "        text-align: right;\n",
       "    }\n",
       "</style>\n",
       "<table border=\"1\" class=\"dataframe\">\n",
       "  <thead>\n",
       "    <tr style=\"text-align: right;\">\n",
       "      <th></th>\n",
       "      <th>debt</th>\n",
       "    </tr>\n",
       "    <tr>\n",
       "      <th>family_status</th>\n",
       "      <th></th>\n",
       "    </tr>\n",
       "  </thead>\n",
       "  <tbody>\n",
       "    <tr>\n",
       "      <td>Не женат / не замужем</td>\n",
       "      <td>0.097509</td>\n",
       "    </tr>\n",
       "    <tr>\n",
       "      <td>гражданский брак</td>\n",
       "      <td>0.093471</td>\n",
       "    </tr>\n",
       "    <tr>\n",
       "      <td>женат / замужем</td>\n",
       "      <td>0.075452</td>\n",
       "    </tr>\n",
       "    <tr>\n",
       "      <td>в разводе</td>\n",
       "      <td>0.071130</td>\n",
       "    </tr>\n",
       "    <tr>\n",
       "      <td>вдовец / вдова</td>\n",
       "      <td>0.065693</td>\n",
       "    </tr>\n",
       "  </tbody>\n",
       "</table>\n",
       "</div>"
      ],
      "text/plain": [
       "                           debt\n",
       "family_status                  \n",
       "Не женат / не замужем  0.097509\n",
       "гражданский брак       0.093471\n",
       "женат / замужем        0.075452\n",
       "в разводе              0.071130\n",
       "вдовец / вдова         0.065693"
      ]
     },
     "execution_count": 20,
     "metadata": {},
     "output_type": "execute_result"
    }
   ],
   "source": [
    "data_solvency.pivot_table(index='family_status', values='debt').sort_values(by='debt', ascending=False)"
   ]
  },
  {
   "cell_type": "markdown",
   "metadata": {},
   "source": [
    "Зависимость наблюдается. Доля просрочек по платежам в группе лиц, не состоящих в браке, и лиц, состоящих в гражданском браке, выше, чем в других группах. Это может быть связано с тем, что среди лиц, не состоящих в браке или состоящих в гражданском браке, больше молодых людей по сравнению с лицами, состоящими в браке или потерявщими супруга/супругу. Люди более молодого возраста обладают меньшим жизненным опытом, хуже оценивают соотношение своих возможностей, потребностей и ресурсов. Кроме того, одинокие лица и лица, не состоящие в официальном браке, не обладают потенциальной финансовой поддержкой со стороны супруга, по сравнению с людьми, состоящими в официальном браке. Наименьшая доля просрочек по платежам наблюдается среди лиц, потерявших супруга/супругу. Можно предположить, что к данной группе относятся люди пожилого возраста. К этому возрасту, как правило, люди имеют больше накоплений, по сравнению с людьми более молодыми. Также можно предположить, что представители данной группы реже берут кредит, так как испытывают меньше потребностей по сравнению с молодыми людьми и молодыми семьями (нет потребности в отдельном жилье, в обеспечении детей, не трубеются деньги на свадьбу и т.д.). "
   ]
  },
  {
   "cell_type": "markdown",
   "metadata": {},
   "source": [
    "##### Есть ли зависимость между уровнем дохода и возвратом кредита в срок?"
   ]
  },
  {
   "cell_type": "code",
   "execution_count": 21,
   "metadata": {},
   "outputs": [
    {
     "name": "stdout",
     "output_type": "stream",
     "text": [
      "                   count      mean\n",
      "total_income_bin                  \n",
      "(20667, 60000]       805  0.059627\n",
      "(60000, 200000]    15582  0.085612\n",
      "(200000, 2265604]   5066  0.070667\n"
     ]
    },
    {
     "data": {
      "text/plain": [
       "<matplotlib.axes._subplots.AxesSubplot at 0x7f763f09c950>"
      ]
     },
     "execution_count": 21,
     "metadata": {},
     "output_type": "execute_result"
    },
    {
     "data": {
      "image/png": "[encoded data removed]",
      "text/plain": [
       "<Figure size 432x288 with 1 Axes>"
      ]
     },
     "metadata": {
      "needs_background": "light"
     },
     "output_type": "display_data"
    }
   ],
   "source": [
    "data_solvency['total_income_bin'] = pd.cut(data_solvency['total_income'], [min_i, 60000, 200000, max_i])\n",
    "print(data_solvency.groupby('total_income_bin')['debt'].agg(['count', 'mean']))\n",
    "data_solvency.groupby('total_income_bin')['debt'].mean().plot()"
   ]
  },
  {
   "cell_type": "markdown",
   "metadata": {},
   "source": [
    "По соотношению зарплат и доле пропусков платежей можно выделить три характерные группы:\n",
    "   1. Люди с \"низким\" доходом. Немногочисленная группа с наименьшим риском просрочки. Вероятно это обусловлено тем, что люди из этой группы редко берут кредиты, а если и берут, то на небольшие суммы, которые вполне могут себе позволить.\n",
    "   1. Люди со \"средним доходом\". Самая многочисленная группа наиболее экономически активных людей. В том же время чаще других допускают просрочки. \n",
    "   1. Люди с \"высоким\" доходом. Доля просрочек в этой категории ниже, чем во второй. Вероятно потому что люди с большим достатком лучше планируют свой бюджет, ну и потому что у них есть деньги на оплату кредитов."
   ]
  },
  {
   "cell_type": "markdown",
   "metadata": {},
   "source": [
    "##### Как разные цели кредита влияют на его возврат в срок?"
   ]
  },
  {
   "cell_type": "code",
   "execution_count": 22,
   "metadata": {},
   "outputs": [
    {
     "data": {
      "text/html": [
       "<div>\n",
       "<style scoped>\n",
       "    .dataframe tbody tr th:only-of-type {\n",
       "        vertical-align: middle;\n",
       "    }\n",
       "\n",
       "    .dataframe tbody tr th {\n",
       "        vertical-align: top;\n",
       "    }\n",
       "\n",
       "    .dataframe thead th {\n",
       "        text-align: right;\n",
       "    }\n",
       "</style>\n",
       "<table border=\"1\" class=\"dataframe\">\n",
       "  <thead>\n",
       "    <tr style=\"text-align: right;\">\n",
       "      <th></th>\n",
       "      <th>debt</th>\n",
       "    </tr>\n",
       "    <tr>\n",
       "      <th>purpose_group</th>\n",
       "      <th></th>\n",
       "    </tr>\n",
       "  </thead>\n",
       "  <tbody>\n",
       "    <tr>\n",
       "      <td>автомобиль</td>\n",
       "      <td>0.093590</td>\n",
       "    </tr>\n",
       "    <tr>\n",
       "      <td>образование</td>\n",
       "      <td>0.092200</td>\n",
       "    </tr>\n",
       "    <tr>\n",
       "      <td>свадьба</td>\n",
       "      <td>0.080034</td>\n",
       "    </tr>\n",
       "    <tr>\n",
       "      <td>недвижимость</td>\n",
       "      <td>0.072334</td>\n",
       "    </tr>\n",
       "  </tbody>\n",
       "</table>\n",
       "</div>"
      ],
      "text/plain": [
       "                   debt\n",
       "purpose_group          \n",
       "автомобиль     0.093590\n",
       "образование    0.092200\n",
       "свадьба        0.080034\n",
       "недвижимость   0.072334"
      ]
     },
     "execution_count": 22,
     "metadata": {},
     "output_type": "execute_result"
    }
   ],
   "source": [
    "data_solvency.pivot_table(index='purpose_group', values='debt').sort_values(by='debt', ascending=False)"
   ]
  },
  {
   "cell_type": "markdown",
   "metadata": {},
   "source": [
    "Зависимость также прослеживается. Доля просрочек по кредитам взятых на покупку автомобиля и образования выше, чем на свадьбу или недвижимость. В некотором смысле, автомобиль и образование менее \"надёжные\" вложения: автомобиль несложно разбить, из университета лего быть отчисленным. В таких случаях у человека теряется мотивация к погашению кредита. К тому же автомобили могут покупать на эмоциях, понтов ради, не осознавая своего финансового положения в полной мере. Создание семьи и приобретение недвижимости вещи более серьёзные и к ним люди относятся ответственее. Потому по ним и просрочек меньше."
   ]
  },
  {
   "cell_type": "markdown",
   "metadata": {},
   "source": [
    "### Шаг 4. Общий вывод"
   ]
  },
  {
   "cell_type": "markdown",
   "metadata": {},
   "source": [
    "+ В предоставленных данных были выявлены проблемы, такие как пропуски, повторы и значения не отражающие действительность. Об этом необходимо сообщить заказчику, для устранения этих проблем.\n",
    "\n",
    "\n",
    "\n",
    "+ Был проведён анализ возврата кредита в срок по 4 параметрам, по каждому из них выявлены свои закономерности:  \n",
    "    + __Наличие детей__ повышает долю просрочек.  \n",
    "    + __Семейное положение__. Люди, не состоящие в официальном браке (не считая разведённых и вдовцов/вдов), наиболее проблемная группа.  \n",
    "    + __Уровень доходов__ нелинейно влияет на риск просрочки. Так, благонадёжными заёмщиками являются люди с небольшим или же, наоборот, с очень большим достатком.  \n",
    "    + __Цель кредита__ также влияет на его возврат в срок. Чаще всего просрочки по платежам совершают люди взявшие кредит на автомобиль или образование. "
   ]
  }
 ],
 "metadata": {
  "kernelspec": {
   "display_name": "Python 3",
   "language": "python",
   "name": "python3"
  },
  "language_info": {
   "codemirror_mode": {
    "name": "ipython",
    "version": 3
   },
   "file_extension": ".py",
   "mimetype": "text/x-python",
   "name": "python",
   "nbconvert_exporter": "python",
   "pygments_lexer": "ipython3",
   "version": "3.7.6"
  }
 },
 "nbformat": 4,
 "nbformat_minor": 2
}
