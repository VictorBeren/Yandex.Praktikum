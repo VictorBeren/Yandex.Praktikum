{
 "cells": [
  {
   "cell_type": "markdown",
   "metadata": {},
   "source": [
    "# Выбор региона для разработки новых нефтяных месторождений"
   ]
  },
  {
   "cell_type": "markdown",
   "metadata": {},
   "source": [
    "# Описание проекта"
   ]
  },
  {
   "cell_type": "markdown",
   "metadata": {},
   "source": [
    "Предоставлены пробы нефти в трёх регионах: в каждом 10 000 скважин, где измерили качество нефти и объём её запасов. Необходимо построить модель машинного обучения, которая поможет определить регион, где добыча принесёт наибольшую прибыль. Также проведём анализ возможной прибыли и рисков техникой *Bootstrap.*\n",
    "\n",
    "Шаги для выбора локации:\n",
    "\n",
    "- В избранном регионе ищут месторождения, для каждого определяют значения признаков;\n",
    "- Строят модель и оценивают объём запасов;\n",
    "- Выбирают скважины с самыми высокими оценками значений. Количество скважин зависит от бюджета компании и стоимости разработки одной скважины;\n",
    "- Прибыль равна суммарной прибыли отобранных скважин."
   ]
  },
  {
   "cell_type": "markdown",
   "metadata": {},
   "source": [
    "# 1. Загрузка и подготовка данных"
   ]
  },
  {
   "cell_type": "markdown",
   "metadata": {},
   "source": [
    "#### Описание данных\n",
    "\n",
    "+ id — уникальный идентификатор скважины;\n",
    "+ f0, f1, f2 — три признака точек (неважно, что они означают, но сами признаки значимы);\n",
    "+ product — объём запасов в скважине (тыс. баррелей)."
   ]
  },
  {
   "cell_type": "code",
   "execution_count": 1,
   "metadata": {},
   "outputs": [],
   "source": [
    "import pandas as pd\n",
    "import numpy as np\n",
    "\n",
    "from sklearn.model_selection import train_test_split\n",
    "\n",
    "from sklearn.linear_model import LinearRegression\n",
    "\n",
    "from sklearn.metrics import mean_squared_error"
   ]
  },
  {
   "cell_type": "code",
   "execution_count": 2,
   "metadata": {},
   "outputs": [
    {
     "name": "stdout",
     "output_type": "stream",
     "text": [
      "<class 'pandas.core.frame.DataFrame'>\n",
      "RangeIndex: 100000 entries, 0 to 99999\n",
      "Data columns (total 5 columns):\n",
      "id         100000 non-null object\n",
      "f0         100000 non-null float64\n",
      "f1         100000 non-null float64\n",
      "f2         100000 non-null float64\n",
      "product    100000 non-null float64\n",
      "dtypes: float64(4), object(1)\n",
      "memory usage: 3.8+ MB\n",
      "\n",
      "<class 'pandas.core.frame.DataFrame'>\n",
      "RangeIndex: 100000 entries, 0 to 99999\n",
      "Data columns (total 5 columns):\n",
      "id         100000 non-null object\n",
      "f0         100000 non-null float64\n",
      "f1         100000 non-null float64\n",
      "f2         100000 non-null float64\n",
      "product    100000 non-null float64\n",
      "dtypes: float64(4), object(1)\n",
      "memory usage: 3.8+ MB\n",
      "\n",
      "<class 'pandas.core.frame.DataFrame'>\n",
      "RangeIndex: 100000 entries, 0 to 99999\n",
      "Data columns (total 5 columns):\n",
      "id         100000 non-null object\n",
      "f0         100000 non-null float64\n",
      "f1         100000 non-null float64\n",
      "f2         100000 non-null float64\n",
      "product    100000 non-null float64\n",
      "dtypes: float64(4), object(1)\n",
      "memory usage: 3.8+ MB\n",
      "\n"
     ]
    },
    {
     "data": {
      "text/html": [
       "<div>\n",
       "<style scoped>\n",
       "    .dataframe tbody tr th:only-of-type {\n",
       "        vertical-align: middle;\n",
       "    }\n",
       "\n",
       "    .dataframe tbody tr th {\n",
       "        vertical-align: top;\n",
       "    }\n",
       "\n",
       "    .dataframe thead th {\n",
       "        text-align: right;\n",
       "    }\n",
       "</style>\n",
       "<table border=\"1\" class=\"dataframe\">\n",
       "  <thead>\n",
       "    <tr style=\"text-align: right;\">\n",
       "      <th></th>\n",
       "      <th>id</th>\n",
       "      <th>f0</th>\n",
       "      <th>f1</th>\n",
       "      <th>f2</th>\n",
       "      <th>product</th>\n",
       "    </tr>\n",
       "  </thead>\n",
       "  <tbody>\n",
       "    <tr>\n",
       "      <td>0</td>\n",
       "      <td>txEyH</td>\n",
       "      <td>0.705745</td>\n",
       "      <td>-0.497823</td>\n",
       "      <td>1.221170</td>\n",
       "      <td>105.280062</td>\n",
       "    </tr>\n",
       "    <tr>\n",
       "      <td>1</td>\n",
       "      <td>2acmU</td>\n",
       "      <td>1.334711</td>\n",
       "      <td>-0.340164</td>\n",
       "      <td>4.365080</td>\n",
       "      <td>73.037750</td>\n",
       "    </tr>\n",
       "    <tr>\n",
       "      <td>2</td>\n",
       "      <td>409Wp</td>\n",
       "      <td>1.022732</td>\n",
       "      <td>0.151990</td>\n",
       "      <td>1.419926</td>\n",
       "      <td>85.265647</td>\n",
       "    </tr>\n",
       "    <tr>\n",
       "      <td>3</td>\n",
       "      <td>iJLyR</td>\n",
       "      <td>-0.032172</td>\n",
       "      <td>0.139033</td>\n",
       "      <td>2.978566</td>\n",
       "      <td>168.620776</td>\n",
       "    </tr>\n",
       "    <tr>\n",
       "      <td>4</td>\n",
       "      <td>Xdl7t</td>\n",
       "      <td>1.988431</td>\n",
       "      <td>0.155413</td>\n",
       "      <td>4.751769</td>\n",
       "      <td>154.036647</td>\n",
       "    </tr>\n",
       "  </tbody>\n",
       "</table>\n",
       "</div>"
      ],
      "text/plain": [
       "      id        f0        f1        f2     product\n",
       "0  txEyH  0.705745 -0.497823  1.221170  105.280062\n",
       "1  2acmU  1.334711 -0.340164  4.365080   73.037750\n",
       "2  409Wp  1.022732  0.151990  1.419926   85.265647\n",
       "3  iJLyR -0.032172  0.139033  2.978566  168.620776\n",
       "4  Xdl7t  1.988431  0.155413  4.751769  154.036647"
      ]
     },
     "execution_count": 2,
     "metadata": {},
     "output_type": "execute_result"
    }
   ],
   "source": [
    "geo0 = pd.read_csv('/datasets/geo_data_0.csv')\n",
    "geo1 = pd.read_csv('/datasets/geo_data_1.csv')\n",
    "geo2 = pd.read_csv('/datasets/geo_data_2.csv')\n",
    "\n",
    "regions = [geo0, geo1, geo2]\n",
    "\n",
    "for region in regions:\n",
    "    region.info()\n",
    "    print()\n",
    "\n",
    "geo0.head()"
   ]
  },
  {
   "cell_type": "markdown",
   "metadata": {},
   "source": [
    "+ Пропусков нет\n",
    "+ Дубликаты не обнаружены\n",
    "+ По всей видимости признаки уже подготовлены к использованию, предобработка не требуется."
   ]
  },
  {
   "cell_type": "markdown",
   "metadata": {},
   "source": [
    "# 2. Обучение и проверка модели"
   ]
  },
  {
   "cell_type": "markdown",
   "metadata": {},
   "source": [
    "##### Разделение данных"
   ]
  },
  {
   "cell_type": "markdown",
   "metadata": {},
   "source": [
    "Разделяем данные по каждому региону на две выборки: тренировочную (75%) и валидационную(25%)"
   ]
  },
  {
   "cell_type": "code",
   "execution_count": 3,
   "metadata": {},
   "outputs": [],
   "source": [
    "features_0 = geo0.drop(['id', 'product'], axis=1)\n",
    "target_0 = geo0['product']\n",
    "features_1 = geo1.drop(['id', 'product'], axis=1)\n",
    "target_1 = geo1['product']\n",
    "features_2 = geo2.drop(['id', 'product'], axis=1)\n",
    "target_2 = geo2['product']\n",
    "\n",
    "\n",
    "features_train_0, features_valid_0, target_train_0, target_valid_0 = train_test_split(\n",
    "                                                                        features_0, target_0, test_size=0.25, random_state=42)\n",
    "features_train_1, features_valid_1, target_train_1, target_valid_1 = train_test_split(\n",
    "                                                                        features_1, target_1, test_size=0.25, random_state=42)\n",
    "features_train_2, features_valid_2, target_train_2, target_valid_2 = train_test_split(\n",
    "                                                                        features_2, target_2, test_size=0.25, random_state=42)"
   ]
  },
  {
   "cell_type": "markdown",
   "metadata": {},
   "source": [
    "##### Обучение и проверка моделей"
   ]
  },
  {
   "cell_type": "code",
   "execution_count": 4,
   "metadata": {},
   "outputs": [],
   "source": [
    "def prediction(features_train, target_train, features_valid, target_valid):\n",
    "    model = LinearRegression()\n",
    "    model.fit(features_train, target_train)\n",
    "    predicted_valid = pd.Series(model.predict(features_valid))\n",
    "    reserves_mean = predicted_valid.mean()\n",
    "    rmse = mean_squared_error(target_valid, predicted_valid) ** 0.5\n",
    "    return reserves_mean, rmse, predicted_valid"
   ]
  },
  {
   "cell_type": "code",
   "execution_count": 5,
   "metadata": {},
   "outputs": [],
   "source": [
    "def printing(reserves_mean, rmse, region):\n",
    "    print('Регион', region)\n",
    "    print('Среднее значение предсказанных запасов: {:.2f}'.format(reserves_mean))\n",
    "    print('RMSE = {:.2f}'.format(rmse))\n",
    "    print()"
   ]
  },
  {
   "cell_type": "code",
   "execution_count": 6,
   "metadata": {},
   "outputs": [
    {
     "name": "stdout",
     "output_type": "stream",
     "text": [
      "Регион 0\n",
      "Среднее значение предсказанных запасов: 92.40\n",
      "RMSE = 37.76\n",
      "\n",
      "Регион 1\n",
      "Среднее значение предсказанных запасов: 68.71\n",
      "RMSE = 0.89\n",
      "\n",
      "Регион 2\n",
      "Среднее значение предсказанных запасов: 94.77\n",
      "RMSE = 40.15\n",
      "\n"
     ]
    }
   ],
   "source": [
    "reserves_mean_0, rmse_0, predicted_valid_0 = prediction(features_train_0, target_train_0, features_valid_0, target_valid_0)\n",
    "reserves_mean_1, rmse_1, predicted_valid_1 = prediction(features_train_1, target_train_1, features_valid_1, target_valid_1)\n",
    "reserves_mean_2, rmse_2, predicted_valid_2 = prediction(features_train_2, target_train_2, features_valid_2, target_valid_2)\n",
    "\n",
    "printing(reserves_mean_0, rmse_0, 0)\n",
    "printing(reserves_mean_1, rmse_1, 1)\n",
    "printing(reserves_mean_2, rmse_2, 2)"
   ]
  },
  {
   "cell_type": "markdown",
   "metadata": {},
   "source": [
    "Регион 1 резко отличается от двух других очень низким RMSE, что говорит о высоком качестве модели. Вероятно, это обусловлено более закономерным распределением изучаемых признаков. Предсказания по регионам 0 и 2 уже не такие надёжные."
   ]
  },
  {
   "cell_type": "markdown",
   "metadata": {},
   "source": [
    "# 3. Подготовка к расчёту прибыли"
   ]
  },
  {
   "cell_type": "code",
   "execution_count": 7,
   "metadata": {},
   "outputs": [],
   "source": [
    "budget = 10 * (10 ** 9)\n",
    "earnings = 450 * (10 ** 3)\n",
    "n_wells = 500\n",
    "n_best_wells = 200"
   ]
  },
  {
   "cell_type": "markdown",
   "metadata": {},
   "source": [
    "+ Бюджет на разработку скважин 10 млрд рублей\n",
    "+ Доход на единицу продукции (тыс. баррелей) 450 тысяч рублей\n",
    "+ Количество скважин разбуриваемых при разведке региона 500 штук\n",
    "+ Количество скважин выбираемых для подсчёта прибыли 200 штук"
   ]
  },
  {
   "cell_type": "code",
   "execution_count": 8,
   "metadata": {},
   "outputs": [
    {
     "data": {
      "text/plain": [
       "111.11111111111111"
      ]
     },
     "execution_count": 8,
     "metadata": {},
     "output_type": "execute_result"
    }
   ],
   "source": [
    "break_even = budget / earnings / n_best_wells\n",
    "break_even"
   ]
  },
  {
   "cell_type": "markdown",
   "metadata": {},
   "source": [
    "Для безубыточной разработки новой скважины запасы нефти в ней должны превышать 111.11 тысяч баррелей"
   ]
  },
  {
   "cell_type": "code",
   "execution_count": 9,
   "metadata": {},
   "outputs": [
    {
     "name": "stdout",
     "output_type": "stream",
     "text": [
      "Регион 0: средние запасы в скважине составляют 92.50 тыс. баррелей\n",
      "Регион 1: средние запасы в скважине составляют 68.83 тыс. баррелей\n",
      "Регион 2: средние запасы в скважине составляют 95.00 тыс. баррелей\n"
     ]
    }
   ],
   "source": [
    "i = 0\n",
    "for region in regions:\n",
    "    print('Регион {:.0f}: средние запасы в скважине составляют {:.2f} тыс. баррелей'.format(i, region['product'].mean()))\n",
    "    i += 1"
   ]
  },
  {
   "cell_type": "markdown",
   "metadata": {},
   "source": [
    "Средние запасы в скважинах по всем регионам не дотягивают до точки безубыточности. Выходит, что использовать все скважины в регионе для разработки невыгодно, нужно выбирать только лучшие.\n",
    "(Также отмечу, что истинные средние значения почти не отличаются от предсказанных)"
   ]
  },
  {
   "cell_type": "markdown",
   "metadata": {},
   "source": [
    "# 4. Расчёт прибыли и рисков "
   ]
  },
  {
   "cell_type": "code",
   "execution_count": 10,
   "metadata": {},
   "outputs": [],
   "source": [
    "def profit_calc(target, predictions):\n",
    "    best_wells = predictions.sort_values(ascending=False)[:n_best_wells]\n",
    "    indices_list = list(best_wells.index)\n",
    "    selected_target = target.reset_index(drop=True).loc[indices_list]\n",
    "    revenue = selected_target.sum() * earnings\n",
    "    profit = revenue - budget\n",
    "    return profit"
   ]
  },
  {
   "cell_type": "code",
   "execution_count": 11,
   "metadata": {},
   "outputs": [],
   "source": [
    "def risk_profit(target, predictions, n):\n",
    "    state = np.random.RandomState(42)\n",
    "    values = []\n",
    "    for i in range(n):\n",
    "        subsample = predictions.sample(n=n_wells, replace=True, random_state=state)\n",
    "        value = profit_calc(target, subsample)\n",
    "        values.append(value)\n",
    "        \n",
    "    values = pd.Series(values)\n",
    "    risk = values[values < 0].count() / n\n",
    "    lower = values.quantile(0.025)\n",
    "    upper = values.quantile(0.975)\n",
    "    print('95% доверительный интервал: ({:.0f}, {:.0f})'.format(lower, upper))\n",
    "    print('Среднее значение прибыли: {:.0f} рублей'.format(values.mean()))\n",
    "    print('Риск понести убытки: {:.1%}'.format(risk))\n",
    "    print()"
   ]
  },
  {
   "cell_type": "code",
   "execution_count": 12,
   "metadata": {},
   "outputs": [
    {
     "name": "stdout",
     "output_type": "stream",
     "text": [
      "Регион 0\n",
      "95% доверительный интервал: (-110467895, 897460328)\n",
      "Среднее значение прибыли: 399575478 рублей\n",
      "Риск понести убытки: 6.0%\n",
      "\n",
      "Регион 1\n",
      "95% доверительный интервал: (61684480, 845340178)\n",
      "Среднее значение прибыли: 452048891 рублей\n",
      "Риск понести убытки: 1.5%\n",
      "\n",
      "Регион 2\n",
      "95% доверительный интервал: (-144766727, 888390404)\n",
      "Среднее значение прибыли: 375009903 рублей\n",
      "Риск понести убытки: 8.0%\n",
      "\n"
     ]
    }
   ],
   "source": [
    "print('Регион 0')\n",
    "risk_profit(target_valid_0, predicted_valid_0, 1000)\n",
    "\n",
    "print('Регион 1')\n",
    "risk_profit(target_valid_1, predicted_valid_1, 1000)\n",
    "\n",
    "print('Регион 2')\n",
    "risk_profit(target_valid_2, predicted_valid_2, 1000)"
   ]
  },
  {
   "cell_type": "markdown",
   "metadata": {},
   "source": [
    "Под требуемые условия подходит лишь Регион 1, у которого риск убытков менее 2.5% и составляет всего лишь 1.5%.  \n",
    "Что любопытно, при более низком среднем значении запасов в каждой скважине в Регионе 1, нежели в других регионах, средняя возможная прибыль выше. Это ещё раз подтверждает, что все метрики нужно использовать аккуратно и полностью на них не полагаться."
   ]
  }
 ],
 "metadata": {
  "kernelspec": {
   "display_name": "Python 3",
   "language": "python",
   "name": "python3"
  },
  "language_info": {
   "codemirror_mode": {
    "name": "ipython",
    "version": 3
   },
   "file_extension": ".py",
   "mimetype": "text/x-python",
   "name": "python",
   "nbconvert_exporter": "python",
   "pygments_lexer": "ipython3",
   "version": "3.7.6"
  }
 },
 "nbformat": 4,
 "nbformat_minor": 2
}
