{
 "cells": [
  {
   "cell_type": "markdown",
   "metadata": {},
   "source": [
    "# Отток клиентов телекоммуникационной компании "
   ]
  },
  {
   "cell_type": "markdown",
   "metadata": {},
   "source": [
    "## Описание проекта"
   ]
  },
  {
   "cell_type": "markdown",
   "metadata": {},
   "source": [
    "Оператор связи хочет научиться прогнозировать отток клиентов. Предоставлены персональные данные о некоторых клиентах, информацию об их тарифах и договорах."
   ]
  },
  {
   "cell_type": "markdown",
   "metadata": {},
   "source": [
    "## Описание данных "
   ]
  },
  {
   "cell_type": "markdown",
   "metadata": {},
   "source": [
    "Данные состоят из файлов, полученных из разных источников:\n",
    "\n",
    "- `contract.csv` — информация о договоре:\n",
    "\n",
    "    + begin_date - дата заключения договора\n",
    "    + end_date - дата расторжения договора\n",
    "    + type - тип договора\n",
    "    + paperless_billing - получение электронного чека\n",
    "    + payment_method - способ оплаты\n",
    "    + monthly_charges - ежемесячные платежи\n",
    "    + total_charges - суммарные платежи\n",
    "    \n",
    "    \n",
    "- `personal.csv` — персональные данные клиента:\n",
    "\n",
    "    + gender - пол клиента\n",
    "    + senior_citizen - является ли клиент пенсионером\n",
    "    + partner - наличие супруга\n",
    "    + dependents - наличие детей\n",
    "    \n",
    "    \n",
    "- `internet.csv` — информация об интернет-услугах:\n",
    "\n",
    "    + internet_service - тип подключения интернета\n",
    "    + online_security - блокировка небезопасных сайтов\n",
    "    + online_backup - облачное хранилище файлов для резервного копирования данных\n",
    "    + device_protection - антивирус\n",
    "    + tech_support - выделенная линия технической поддержки\n",
    "    + streaming_tv - стриминговое телевидение\n",
    "    + streaming_movies - каталог фильмов\n",
    "    \n",
    "    \n",
    "- `phone.csv` — информация об услугах телефонии:\n",
    "\n",
    "    + multiple_lines - подключение телефона к нескольким линиям\n",
    "\n",
    "\n",
    "Во всех файлах столбец `customer_id` содержит код клиента.  \n",
    "Информация о договорах актуальна на 1 февраля 2020."
   ]
  },
  {
   "cell_type": "markdown",
   "metadata": {},
   "source": [
    "## 0. Загрузка библиотек"
   ]
  },
  {
   "cell_type": "code",
   "execution_count": 1,
   "metadata": {},
   "outputs": [],
   "source": [
    "import pandas as pd\n",
    "import numpy as np\n",
    "import matplotlib.pyplot as plt\n",
    "import timeit\n",
    "from scipy import stats as st\n",
    "\n",
    "from catboost import CatBoostClassifier\n",
    "\n",
    "from sklearn.model_selection import train_test_split\n",
    "from sklearn.model_selection import GridSearchCV\n",
    "\n",
    "from sklearn.linear_model import LogisticRegression\n",
    "from sklearn.ensemble import RandomForestClassifier\n",
    "\n",
    "from sklearn.metrics import recall_score\n",
    "from sklearn.metrics import precision_score\n",
    "from sklearn.metrics import f1_score\n",
    "from sklearn.metrics import roc_curve\n",
    "from sklearn.metrics import roc_auc_score"
   ]
  },
  {
   "cell_type": "markdown",
   "metadata": {},
   "source": [
    "## 1. Подготовка данных"
   ]
  },
  {
   "cell_type": "markdown",
   "metadata": {},
   "source": [
    "##### Загрузка данных"
   ]
  },
  {
   "cell_type": "code",
   "execution_count": 3,
   "metadata": {},
   "outputs": [],
   "source": [
    "contract = pd.read_csv('/datasets/contract.csv')\n",
    "internet = pd.read_csv('/datasets/internet.csv')\n",
    "personal = pd.read_csv('/datasets/personal.csv')\n",
    "phone = pd.read_csv('/datasets/phone.csv')"
   ]
  },
  {
   "cell_type": "code",
   "execution_count": 4,
   "metadata": {},
   "outputs": [
    {
     "name": "stdout",
     "output_type": "stream",
     "text": [
      "<class 'pandas.core.frame.DataFrame'>\n",
      "RangeIndex: 7043 entries, 0 to 7042\n",
      "Data columns (total 8 columns):\n",
      " #   Column             Non-Null Count  Dtype  \n",
      "---  ------             --------------  -----  \n",
      " 0   customer_id        7043 non-null   object \n",
      " 1   begin_date         7043 non-null   object \n",
      " 2   end_date           7043 non-null   object \n",
      " 3   type               7043 non-null   object \n",
      " 4   paperless_billing  7043 non-null   object \n",
      " 5   payment_method     7043 non-null   object \n",
      " 6   monthly_charges    7043 non-null   float64\n",
      " 7   total_charges      7043 non-null   object \n",
      "dtypes: float64(1), object(7)\n",
      "memory usage: 440.3+ KB\n"
     ]
    },
    {
     "data": {
      "text/html": [
       "<div>\n",
       "<style scoped>\n",
       "    .dataframe tbody tr th:only-of-type {\n",
       "        vertical-align: middle;\n",
       "    }\n",
       "\n",
       "    .dataframe tbody tr th {\n",
       "        vertical-align: top;\n",
       "    }\n",
       "\n",
       "    .dataframe thead th {\n",
       "        text-align: right;\n",
       "    }\n",
       "</style>\n",
       "<table border=\"1\" class=\"dataframe\">\n",
       "  <thead>\n",
       "    <tr style=\"text-align: right;\">\n",
       "      <th></th>\n",
       "      <th>customer_id</th>\n",
       "      <th>begin_date</th>\n",
       "      <th>end_date</th>\n",
       "      <th>type</th>\n",
       "      <th>paperless_billing</th>\n",
       "      <th>payment_method</th>\n",
       "      <th>monthly_charges</th>\n",
       "      <th>total_charges</th>\n",
       "    </tr>\n",
       "  </thead>\n",
       "  <tbody>\n",
       "    <tr>\n",
       "      <th>0</th>\n",
       "      <td>7590-VHVEG</td>\n",
       "      <td>2020-01-01</td>\n",
       "      <td>No</td>\n",
       "      <td>Month-to-month</td>\n",
       "      <td>Yes</td>\n",
       "      <td>Electronic check</td>\n",
       "      <td>29.85</td>\n",
       "      <td>29.85</td>\n",
       "    </tr>\n",
       "    <tr>\n",
       "      <th>1</th>\n",
       "      <td>5575-GNVDE</td>\n",
       "      <td>2017-04-01</td>\n",
       "      <td>No</td>\n",
       "      <td>One year</td>\n",
       "      <td>No</td>\n",
       "      <td>Mailed check</td>\n",
       "      <td>56.95</td>\n",
       "      <td>1889.5</td>\n",
       "    </tr>\n",
       "    <tr>\n",
       "      <th>2</th>\n",
       "      <td>3668-QPYBK</td>\n",
       "      <td>2019-10-01</td>\n",
       "      <td>2019-12-01 00:00:00</td>\n",
       "      <td>Month-to-month</td>\n",
       "      <td>Yes</td>\n",
       "      <td>Mailed check</td>\n",
       "      <td>53.85</td>\n",
       "      <td>108.15</td>\n",
       "    </tr>\n",
       "    <tr>\n",
       "      <th>3</th>\n",
       "      <td>7795-CFOCW</td>\n",
       "      <td>2016-05-01</td>\n",
       "      <td>No</td>\n",
       "      <td>One year</td>\n",
       "      <td>No</td>\n",
       "      <td>Bank transfer (automatic)</td>\n",
       "      <td>42.30</td>\n",
       "      <td>1840.75</td>\n",
       "    </tr>\n",
       "    <tr>\n",
       "      <th>4</th>\n",
       "      <td>9237-HQITU</td>\n",
       "      <td>2019-09-01</td>\n",
       "      <td>2019-11-01 00:00:00</td>\n",
       "      <td>Month-to-month</td>\n",
       "      <td>Yes</td>\n",
       "      <td>Electronic check</td>\n",
       "      <td>70.70</td>\n",
       "      <td>151.65</td>\n",
       "    </tr>\n",
       "  </tbody>\n",
       "</table>\n",
       "</div>"
      ],
      "text/plain": [
       "  customer_id  begin_date             end_date            type  \\\n",
       "0  7590-VHVEG  2020-01-01                   No  Month-to-month   \n",
       "1  5575-GNVDE  2017-04-01                   No        One year   \n",
       "2  3668-QPYBK  2019-10-01  2019-12-01 00:00:00  Month-to-month   \n",
       "3  7795-CFOCW  2016-05-01                   No        One year   \n",
       "4  9237-HQITU  2019-09-01  2019-11-01 00:00:00  Month-to-month   \n",
       "\n",
       "  paperless_billing             payment_method  monthly_charges total_charges  \n",
       "0               Yes           Electronic check            29.85         29.85  \n",
       "1                No               Mailed check            56.95        1889.5  \n",
       "2               Yes               Mailed check            53.85        108.15  \n",
       "3                No  Bank transfer (automatic)            42.30       1840.75  \n",
       "4               Yes           Electronic check            70.70        151.65  "
      ]
     },
     "execution_count": 4,
     "metadata": {},
     "output_type": "execute_result"
    }
   ],
   "source": [
    "contract.columns = ['customer_id', 'begin_date', 'end_date', 'type', 'paperless_billing',\n",
    "                    'payment_method', 'monthly_charges', 'total_charges']\n",
    "contract.info()\n",
    "contract.head()"
   ]
  },
  {
   "cell_type": "code",
   "execution_count": 5,
   "metadata": {},
   "outputs": [
    {
     "name": "stdout",
     "output_type": "stream",
     "text": [
      "<class 'pandas.core.frame.DataFrame'>\n",
      "RangeIndex: 7043 entries, 0 to 7042\n",
      "Data columns (total 5 columns):\n",
      " #   Column          Non-Null Count  Dtype \n",
      "---  ------          --------------  ----- \n",
      " 0   customer_id     7043 non-null   object\n",
      " 1   gender          7043 non-null   object\n",
      " 2   senior_citizen  7043 non-null   int64 \n",
      " 3   partner         7043 non-null   object\n",
      " 4   dependents      7043 non-null   object\n",
      "dtypes: int64(1), object(4)\n",
      "memory usage: 275.2+ KB\n"
     ]
    },
    {
     "data": {
      "text/html": [
       "<div>\n",
       "<style scoped>\n",
       "    .dataframe tbody tr th:only-of-type {\n",
       "        vertical-align: middle;\n",
       "    }\n",
       "\n",
       "    .dataframe tbody tr th {\n",
       "        vertical-align: top;\n",
       "    }\n",
       "\n",
       "    .dataframe thead th {\n",
       "        text-align: right;\n",
       "    }\n",
       "</style>\n",
       "<table border=\"1\" class=\"dataframe\">\n",
       "  <thead>\n",
       "    <tr style=\"text-align: right;\">\n",
       "      <th></th>\n",
       "      <th>customer_id</th>\n",
       "      <th>gender</th>\n",
       "      <th>senior_citizen</th>\n",
       "      <th>partner</th>\n",
       "      <th>dependents</th>\n",
       "    </tr>\n",
       "  </thead>\n",
       "  <tbody>\n",
       "    <tr>\n",
       "      <th>0</th>\n",
       "      <td>7590-VHVEG</td>\n",
       "      <td>Female</td>\n",
       "      <td>0</td>\n",
       "      <td>Yes</td>\n",
       "      <td>No</td>\n",
       "    </tr>\n",
       "    <tr>\n",
       "      <th>1</th>\n",
       "      <td>5575-GNVDE</td>\n",
       "      <td>Male</td>\n",
       "      <td>0</td>\n",
       "      <td>No</td>\n",
       "      <td>No</td>\n",
       "    </tr>\n",
       "    <tr>\n",
       "      <th>2</th>\n",
       "      <td>3668-QPYBK</td>\n",
       "      <td>Male</td>\n",
       "      <td>0</td>\n",
       "      <td>No</td>\n",
       "      <td>No</td>\n",
       "    </tr>\n",
       "    <tr>\n",
       "      <th>3</th>\n",
       "      <td>7795-CFOCW</td>\n",
       "      <td>Male</td>\n",
       "      <td>0</td>\n",
       "      <td>No</td>\n",
       "      <td>No</td>\n",
       "    </tr>\n",
       "    <tr>\n",
       "      <th>4</th>\n",
       "      <td>9237-HQITU</td>\n",
       "      <td>Female</td>\n",
       "      <td>0</td>\n",
       "      <td>No</td>\n",
       "      <td>No</td>\n",
       "    </tr>\n",
       "  </tbody>\n",
       "</table>\n",
       "</div>"
      ],
      "text/plain": [
       "  customer_id  gender  senior_citizen partner dependents\n",
       "0  7590-VHVEG  Female               0     Yes         No\n",
       "1  5575-GNVDE    Male               0      No         No\n",
       "2  3668-QPYBK    Male               0      No         No\n",
       "3  7795-CFOCW    Male               0      No         No\n",
       "4  9237-HQITU  Female               0      No         No"
      ]
     },
     "execution_count": 5,
     "metadata": {},
     "output_type": "execute_result"
    }
   ],
   "source": [
    "personal.columns = ['customer_id', 'gender', 'senior_citizen', 'partner', 'dependents']\n",
    "personal.info()\n",
    "personal.head()"
   ]
  },
  {
   "cell_type": "code",
   "execution_count": 6,
   "metadata": {},
   "outputs": [
    {
     "name": "stdout",
     "output_type": "stream",
     "text": [
      "<class 'pandas.core.frame.DataFrame'>\n",
      "RangeIndex: 5517 entries, 0 to 5516\n",
      "Data columns (total 8 columns):\n",
      " #   Column             Non-Null Count  Dtype \n",
      "---  ------             --------------  ----- \n",
      " 0   customer_id        5517 non-null   object\n",
      " 1   internet_service   5517 non-null   object\n",
      " 2   online_security    5517 non-null   object\n",
      " 3   online_backup      5517 non-null   object\n",
      " 4   device_protection  5517 non-null   object\n",
      " 5   tech_support       5517 non-null   object\n",
      " 6   streaming_tv       5517 non-null   object\n",
      " 7   streaming_movies   5517 non-null   object\n",
      "dtypes: object(8)\n",
      "memory usage: 344.9+ KB\n"
     ]
    },
    {
     "data": {
      "text/html": [
       "<div>\n",
       "<style scoped>\n",
       "    .dataframe tbody tr th:only-of-type {\n",
       "        vertical-align: middle;\n",
       "    }\n",
       "\n",
       "    .dataframe tbody tr th {\n",
       "        vertical-align: top;\n",
       "    }\n",
       "\n",
       "    .dataframe thead th {\n",
       "        text-align: right;\n",
       "    }\n",
       "</style>\n",
       "<table border=\"1\" class=\"dataframe\">\n",
       "  <thead>\n",
       "    <tr style=\"text-align: right;\">\n",
       "      <th></th>\n",
       "      <th>customer_id</th>\n",
       "      <th>internet_service</th>\n",
       "      <th>online_security</th>\n",
       "      <th>online_backup</th>\n",
       "      <th>device_protection</th>\n",
       "      <th>tech_support</th>\n",
       "      <th>streaming_tv</th>\n",
       "      <th>streaming_movies</th>\n",
       "    </tr>\n",
       "  </thead>\n",
       "  <tbody>\n",
       "    <tr>\n",
       "      <th>0</th>\n",
       "      <td>7590-VHVEG</td>\n",
       "      <td>DSL</td>\n",
       "      <td>No</td>\n",
       "      <td>Yes</td>\n",
       "      <td>No</td>\n",
       "      <td>No</td>\n",
       "      <td>No</td>\n",
       "      <td>No</td>\n",
       "    </tr>\n",
       "    <tr>\n",
       "      <th>1</th>\n",
       "      <td>5575-GNVDE</td>\n",
       "      <td>DSL</td>\n",
       "      <td>Yes</td>\n",
       "      <td>No</td>\n",
       "      <td>Yes</td>\n",
       "      <td>No</td>\n",
       "      <td>No</td>\n",
       "      <td>No</td>\n",
       "    </tr>\n",
       "    <tr>\n",
       "      <th>2</th>\n",
       "      <td>3668-QPYBK</td>\n",
       "      <td>DSL</td>\n",
       "      <td>Yes</td>\n",
       "      <td>Yes</td>\n",
       "      <td>No</td>\n",
       "      <td>No</td>\n",
       "      <td>No</td>\n",
       "      <td>No</td>\n",
       "    </tr>\n",
       "    <tr>\n",
       "      <th>3</th>\n",
       "      <td>7795-CFOCW</td>\n",
       "      <td>DSL</td>\n",
       "      <td>Yes</td>\n",
       "      <td>No</td>\n",
       "      <td>Yes</td>\n",
       "      <td>Yes</td>\n",
       "      <td>No</td>\n",
       "      <td>No</td>\n",
       "    </tr>\n",
       "    <tr>\n",
       "      <th>4</th>\n",
       "      <td>9237-HQITU</td>\n",
       "      <td>Fiber optic</td>\n",
       "      <td>No</td>\n",
       "      <td>No</td>\n",
       "      <td>No</td>\n",
       "      <td>No</td>\n",
       "      <td>No</td>\n",
       "      <td>No</td>\n",
       "    </tr>\n",
       "  </tbody>\n",
       "</table>\n",
       "</div>"
      ],
      "text/plain": [
       "  customer_id internet_service online_security online_backup  \\\n",
       "0  7590-VHVEG              DSL              No           Yes   \n",
       "1  5575-GNVDE              DSL             Yes            No   \n",
       "2  3668-QPYBK              DSL             Yes           Yes   \n",
       "3  7795-CFOCW              DSL             Yes            No   \n",
       "4  9237-HQITU      Fiber optic              No            No   \n",
       "\n",
       "  device_protection tech_support streaming_tv streaming_movies  \n",
       "0                No           No           No               No  \n",
       "1               Yes           No           No               No  \n",
       "2                No           No           No               No  \n",
       "3               Yes          Yes           No               No  \n",
       "4                No           No           No               No  "
      ]
     },
     "execution_count": 6,
     "metadata": {},
     "output_type": "execute_result"
    }
   ],
   "source": [
    "internet.columns = ['customer_id', 'internet_service', 'online_security', 'online_backup',\n",
    "                    'device_protection', 'tech_support', 'streaming_tv', 'streaming_movies']\n",
    "internet.info()\n",
    "internet.head()"
   ]
  },
  {
   "cell_type": "code",
   "execution_count": 7,
   "metadata": {},
   "outputs": [
    {
     "name": "stdout",
     "output_type": "stream",
     "text": [
      "<class 'pandas.core.frame.DataFrame'>\n",
      "RangeIndex: 6361 entries, 0 to 6360\n",
      "Data columns (total 2 columns):\n",
      " #   Column          Non-Null Count  Dtype \n",
      "---  ------          --------------  ----- \n",
      " 0   customer_id     6361 non-null   object\n",
      " 1   multiple_lines  6361 non-null   object\n",
      "dtypes: object(2)\n",
      "memory usage: 99.5+ KB\n"
     ]
    },
    {
     "data": {
      "text/html": [
       "<div>\n",
       "<style scoped>\n",
       "    .dataframe tbody tr th:only-of-type {\n",
       "        vertical-align: middle;\n",
       "    }\n",
       "\n",
       "    .dataframe tbody tr th {\n",
       "        vertical-align: top;\n",
       "    }\n",
       "\n",
       "    .dataframe thead th {\n",
       "        text-align: right;\n",
       "    }\n",
       "</style>\n",
       "<table border=\"1\" class=\"dataframe\">\n",
       "  <thead>\n",
       "    <tr style=\"text-align: right;\">\n",
       "      <th></th>\n",
       "      <th>customer_id</th>\n",
       "      <th>multiple_lines</th>\n",
       "    </tr>\n",
       "  </thead>\n",
       "  <tbody>\n",
       "    <tr>\n",
       "      <th>0</th>\n",
       "      <td>5575-GNVDE</td>\n",
       "      <td>No</td>\n",
       "    </tr>\n",
       "    <tr>\n",
       "      <th>1</th>\n",
       "      <td>3668-QPYBK</td>\n",
       "      <td>No</td>\n",
       "    </tr>\n",
       "    <tr>\n",
       "      <th>2</th>\n",
       "      <td>9237-HQITU</td>\n",
       "      <td>No</td>\n",
       "    </tr>\n",
       "    <tr>\n",
       "      <th>3</th>\n",
       "      <td>9305-CDSKC</td>\n",
       "      <td>Yes</td>\n",
       "    </tr>\n",
       "    <tr>\n",
       "      <th>4</th>\n",
       "      <td>1452-KIOVK</td>\n",
       "      <td>Yes</td>\n",
       "    </tr>\n",
       "  </tbody>\n",
       "</table>\n",
       "</div>"
      ],
      "text/plain": [
       "  customer_id multiple_lines\n",
       "0  5575-GNVDE             No\n",
       "1  3668-QPYBK             No\n",
       "2  9237-HQITU             No\n",
       "3  9305-CDSKC            Yes\n",
       "4  1452-KIOVK            Yes"
      ]
     },
     "execution_count": 7,
     "metadata": {},
     "output_type": "execute_result"
    }
   ],
   "source": [
    "phone.columns = ['customer_id', 'multiple_lines']\n",
    "phone.info()\n",
    "phone.head()"
   ]
  },
  {
   "cell_type": "markdown",
   "metadata": {},
   "source": [
    "+ Привёл названия столбцов к единому стилю\n",
    "+ Имеют место быть некорректные типы данных в столбцах"
   ]
  },
  {
   "cell_type": "markdown",
   "metadata": {},
   "source": [
    "##### Проверка на дубликаты"
   ]
  },
  {
   "cell_type": "code",
   "execution_count": 8,
   "metadata": {},
   "outputs": [
    {
     "data": {
      "text/plain": [
       "0"
      ]
     },
     "execution_count": 8,
     "metadata": {},
     "output_type": "execute_result"
    }
   ],
   "source": [
    "contract.duplicated().sum()"
   ]
  },
  {
   "cell_type": "markdown",
   "metadata": {},
   "source": [
    "Дубликаты отсутствуют"
   ]
  },
  {
   "cell_type": "markdown",
   "metadata": {},
   "source": [
    "##### Выделение целевого признака"
   ]
  },
  {
   "cell_type": "code",
   "execution_count": 9,
   "metadata": {},
   "outputs": [],
   "source": [
    "contract['exited'] = (contract['end_date'] != 'No').astype('int')"
   ]
  },
  {
   "cell_type": "markdown",
   "metadata": {},
   "source": [
    "##### Изменение типов данных"
   ]
  },
  {
   "cell_type": "markdown",
   "metadata": {},
   "source": [
    "+ Столбцы с датами приведём к типу *datetime*\n",
    "+ В столбце *total_charges* у клиентов, заключивших договор 2 февраля 2020 года (дата на которую актуальны данные), стоят пробелы, заменим их на ноль и привёдем данные к числовому типу."
   ]
  },
  {
   "cell_type": "code",
   "execution_count": 10,
   "metadata": {},
   "outputs": [],
   "source": [
    "contract.loc[contract['end_date'] == 'No', 'end_date'] = '2020-02-01'\n",
    "\n",
    "contract.loc[contract['total_charges'] == ' ', 'total_charges'] = 0\n",
    "contract['total_charges'] = pd.to_numeric(contract['total_charges'])\n",
    "\n",
    "contract['begin_date'] = pd.to_datetime(contract['begin_date'])\n",
    "contract['end_date'] = pd.to_datetime(contract['end_date'])"
   ]
  },
  {
   "cell_type": "markdown",
   "metadata": {},
   "source": [
    "##### Расчёт длительности действия договоров"
   ]
  },
  {
   "cell_type": "code",
   "execution_count": 11,
   "metadata": {},
   "outputs": [
    {
     "data": {
      "text/html": [
       "<div>\n",
       "<style scoped>\n",
       "    .dataframe tbody tr th:only-of-type {\n",
       "        vertical-align: middle;\n",
       "    }\n",
       "\n",
       "    .dataframe tbody tr th {\n",
       "        vertical-align: top;\n",
       "    }\n",
       "\n",
       "    .dataframe thead th {\n",
       "        text-align: right;\n",
       "    }\n",
       "</style>\n",
       "<table border=\"1\" class=\"dataframe\">\n",
       "  <thead>\n",
       "    <tr style=\"text-align: right;\">\n",
       "      <th></th>\n",
       "      <th>customer_id</th>\n",
       "      <th>begin_date</th>\n",
       "      <th>end_date</th>\n",
       "      <th>type</th>\n",
       "      <th>paperless_billing</th>\n",
       "      <th>payment_method</th>\n",
       "      <th>monthly_charges</th>\n",
       "      <th>total_charges</th>\n",
       "      <th>exited</th>\n",
       "      <th>lifetime</th>\n",
       "    </tr>\n",
       "  </thead>\n",
       "  <tbody>\n",
       "    <tr>\n",
       "      <th>0</th>\n",
       "      <td>7590-VHVEG</td>\n",
       "      <td>2020-01-01</td>\n",
       "      <td>2020-02-01</td>\n",
       "      <td>Month-to-month</td>\n",
       "      <td>Yes</td>\n",
       "      <td>Electronic check</td>\n",
       "      <td>29.85</td>\n",
       "      <td>29.85</td>\n",
       "      <td>0</td>\n",
       "      <td>31</td>\n",
       "    </tr>\n",
       "    <tr>\n",
       "      <th>1</th>\n",
       "      <td>5575-GNVDE</td>\n",
       "      <td>2017-04-01</td>\n",
       "      <td>2020-02-01</td>\n",
       "      <td>One year</td>\n",
       "      <td>No</td>\n",
       "      <td>Mailed check</td>\n",
       "      <td>56.95</td>\n",
       "      <td>1889.50</td>\n",
       "      <td>0</td>\n",
       "      <td>1036</td>\n",
       "    </tr>\n",
       "    <tr>\n",
       "      <th>2</th>\n",
       "      <td>3668-QPYBK</td>\n",
       "      <td>2019-10-01</td>\n",
       "      <td>2019-12-01</td>\n",
       "      <td>Month-to-month</td>\n",
       "      <td>Yes</td>\n",
       "      <td>Mailed check</td>\n",
       "      <td>53.85</td>\n",
       "      <td>108.15</td>\n",
       "      <td>1</td>\n",
       "      <td>61</td>\n",
       "    </tr>\n",
       "    <tr>\n",
       "      <th>3</th>\n",
       "      <td>7795-CFOCW</td>\n",
       "      <td>2016-05-01</td>\n",
       "      <td>2020-02-01</td>\n",
       "      <td>One year</td>\n",
       "      <td>No</td>\n",
       "      <td>Bank transfer (automatic)</td>\n",
       "      <td>42.30</td>\n",
       "      <td>1840.75</td>\n",
       "      <td>0</td>\n",
       "      <td>1371</td>\n",
       "    </tr>\n",
       "    <tr>\n",
       "      <th>4</th>\n",
       "      <td>9237-HQITU</td>\n",
       "      <td>2019-09-01</td>\n",
       "      <td>2019-11-01</td>\n",
       "      <td>Month-to-month</td>\n",
       "      <td>Yes</td>\n",
       "      <td>Electronic check</td>\n",
       "      <td>70.70</td>\n",
       "      <td>151.65</td>\n",
       "      <td>1</td>\n",
       "      <td>61</td>\n",
       "    </tr>\n",
       "  </tbody>\n",
       "</table>\n",
       "</div>"
      ],
      "text/plain": [
       "  customer_id begin_date   end_date            type paperless_billing  \\\n",
       "0  7590-VHVEG 2020-01-01 2020-02-01  Month-to-month               Yes   \n",
       "1  5575-GNVDE 2017-04-01 2020-02-01        One year                No   \n",
       "2  3668-QPYBK 2019-10-01 2019-12-01  Month-to-month               Yes   \n",
       "3  7795-CFOCW 2016-05-01 2020-02-01        One year                No   \n",
       "4  9237-HQITU 2019-09-01 2019-11-01  Month-to-month               Yes   \n",
       "\n",
       "              payment_method  monthly_charges  total_charges  exited  lifetime  \n",
       "0           Electronic check            29.85          29.85       0        31  \n",
       "1               Mailed check            56.95        1889.50       0      1036  \n",
       "2               Mailed check            53.85         108.15       1        61  \n",
       "3  Bank transfer (automatic)            42.30        1840.75       0      1371  \n",
       "4           Electronic check            70.70         151.65       1        61  "
      ]
     },
     "execution_count": 11,
     "metadata": {},
     "output_type": "execute_result"
    }
   ],
   "source": [
    "contract['lifetime'] = contract['end_date'] - contract['begin_date']\n",
    "contract['lifetime'] = contract['lifetime'].dt.days\n",
    "contract.head()"
   ]
  },
  {
   "cell_type": "markdown",
   "metadata": {},
   "source": [
    "##### Объединение таблиц"
   ]
  },
  {
   "cell_type": "code",
   "execution_count": 12,
   "metadata": {},
   "outputs": [],
   "source": [
    "data = contract.merge(personal, how='left', on=['customer_id'])\n",
    "data = data.merge(internet, how='left', on=['customer_id'])\n",
    "data = data.merge(phone, how='left', on=['customer_id'])"
   ]
  },
  {
   "cell_type": "code",
   "execution_count": 13,
   "metadata": {},
   "outputs": [
    {
     "data": {
      "text/html": [
       "<div>\n",
       "<style scoped>\n",
       "    .dataframe tbody tr th:only-of-type {\n",
       "        vertical-align: middle;\n",
       "    }\n",
       "\n",
       "    .dataframe tbody tr th {\n",
       "        vertical-align: top;\n",
       "    }\n",
       "\n",
       "    .dataframe thead th {\n",
       "        text-align: right;\n",
       "    }\n",
       "</style>\n",
       "<table border=\"1\" class=\"dataframe\">\n",
       "  <thead>\n",
       "    <tr style=\"text-align: right;\">\n",
       "      <th></th>\n",
       "      <th>customer_id</th>\n",
       "      <th>begin_date</th>\n",
       "      <th>end_date</th>\n",
       "      <th>type</th>\n",
       "      <th>paperless_billing</th>\n",
       "      <th>payment_method</th>\n",
       "      <th>monthly_charges</th>\n",
       "      <th>total_charges</th>\n",
       "      <th>exited</th>\n",
       "      <th>lifetime</th>\n",
       "      <th>gender</th>\n",
       "      <th>senior_citizen</th>\n",
       "      <th>partner</th>\n",
       "      <th>dependents</th>\n",
       "      <th>internet_service</th>\n",
       "      <th>online_security</th>\n",
       "      <th>online_backup</th>\n",
       "      <th>device_protection</th>\n",
       "      <th>tech_support</th>\n",
       "      <th>streaming_tv</th>\n",
       "      <th>streaming_movies</th>\n",
       "      <th>multiple_lines</th>\n",
       "    </tr>\n",
       "  </thead>\n",
       "  <tbody>\n",
       "    <tr>\n",
       "      <th>0</th>\n",
       "      <td>7590-VHVEG</td>\n",
       "      <td>2020-01-01</td>\n",
       "      <td>2020-02-01</td>\n",
       "      <td>Month-to-month</td>\n",
       "      <td>Yes</td>\n",
       "      <td>Electronic check</td>\n",
       "      <td>29.85</td>\n",
       "      <td>29.85</td>\n",
       "      <td>0</td>\n",
       "      <td>31</td>\n",
       "      <td>Female</td>\n",
       "      <td>0</td>\n",
       "      <td>Yes</td>\n",
       "      <td>No</td>\n",
       "      <td>DSL</td>\n",
       "      <td>No</td>\n",
       "      <td>Yes</td>\n",
       "      <td>No</td>\n",
       "      <td>No</td>\n",
       "      <td>No</td>\n",
       "      <td>No</td>\n",
       "      <td>NaN</td>\n",
       "    </tr>\n",
       "    <tr>\n",
       "      <th>1</th>\n",
       "      <td>5575-GNVDE</td>\n",
       "      <td>2017-04-01</td>\n",
       "      <td>2020-02-01</td>\n",
       "      <td>One year</td>\n",
       "      <td>No</td>\n",
       "      <td>Mailed check</td>\n",
       "      <td>56.95</td>\n",
       "      <td>1889.50</td>\n",
       "      <td>0</td>\n",
       "      <td>1036</td>\n",
       "      <td>Male</td>\n",
       "      <td>0</td>\n",
       "      <td>No</td>\n",
       "      <td>No</td>\n",
       "      <td>DSL</td>\n",
       "      <td>Yes</td>\n",
       "      <td>No</td>\n",
       "      <td>Yes</td>\n",
       "      <td>No</td>\n",
       "      <td>No</td>\n",
       "      <td>No</td>\n",
       "      <td>No</td>\n",
       "    </tr>\n",
       "    <tr>\n",
       "      <th>2</th>\n",
       "      <td>3668-QPYBK</td>\n",
       "      <td>2019-10-01</td>\n",
       "      <td>2019-12-01</td>\n",
       "      <td>Month-to-month</td>\n",
       "      <td>Yes</td>\n",
       "      <td>Mailed check</td>\n",
       "      <td>53.85</td>\n",
       "      <td>108.15</td>\n",
       "      <td>1</td>\n",
       "      <td>61</td>\n",
       "      <td>Male</td>\n",
       "      <td>0</td>\n",
       "      <td>No</td>\n",
       "      <td>No</td>\n",
       "      <td>DSL</td>\n",
       "      <td>Yes</td>\n",
       "      <td>Yes</td>\n",
       "      <td>No</td>\n",
       "      <td>No</td>\n",
       "      <td>No</td>\n",
       "      <td>No</td>\n",
       "      <td>No</td>\n",
       "    </tr>\n",
       "  </tbody>\n",
       "</table>\n",
       "</div>"
      ],
      "text/plain": [
       "  customer_id begin_date   end_date            type paperless_billing  \\\n",
       "0  7590-VHVEG 2020-01-01 2020-02-01  Month-to-month               Yes   \n",
       "1  5575-GNVDE 2017-04-01 2020-02-01        One year                No   \n",
       "2  3668-QPYBK 2019-10-01 2019-12-01  Month-to-month               Yes   \n",
       "\n",
       "     payment_method  monthly_charges  total_charges  exited  lifetime  gender  \\\n",
       "0  Electronic check            29.85          29.85       0        31  Female   \n",
       "1      Mailed check            56.95        1889.50       0      1036    Male   \n",
       "2      Mailed check            53.85         108.15       1        61    Male   \n",
       "\n",
       "   senior_citizen partner dependents internet_service online_security  \\\n",
       "0               0     Yes         No              DSL              No   \n",
       "1               0      No         No              DSL             Yes   \n",
       "2               0      No         No              DSL             Yes   \n",
       "\n",
       "  online_backup device_protection tech_support streaming_tv streaming_movies  \\\n",
       "0           Yes                No           No           No               No   \n",
       "1            No               Yes           No           No               No   \n",
       "2           Yes                No           No           No               No   \n",
       "\n",
       "  multiple_lines  \n",
       "0            NaN  \n",
       "1             No  \n",
       "2             No  "
      ]
     },
     "execution_count": 13,
     "metadata": {},
     "output_type": "execute_result"
    }
   ],
   "source": [
    "pd.set_option('display.max_columns', 50)\n",
    "data.head(3)"
   ]
  },
  {
   "cell_type": "markdown",
   "metadata": {},
   "source": [
    "##### One-hot-encoding"
   ]
  },
  {
   "cell_type": "markdown",
   "metadata": {},
   "source": [
    "В данных много категориальных признаков, для их обработки применим методику OHE.\\\n",
    "При объединении таблиц, в некоторых столбцах появились отсутствующие значения. Однако эти пропуски несут в себе информацию о том какими услугами не пользуется клиент, поэтому важно их сохранить и выделить в отдельную категорию."
   ]
  },
  {
   "cell_type": "code",
   "execution_count": 14,
   "metadata": {},
   "outputs": [],
   "source": [
    "with_nan = ['internet_service', 'online_security', 'online_backup', 'device_protection',\n",
    "            'tech_support', 'streaming_tv', 'streaming_movies', 'multiple_lines']\n",
    "\n",
    "for column in with_nan:\n",
    "    data.loc[data[column].isna() == True, column] = 'None'"
   ]
  },
  {
   "cell_type": "code",
   "execution_count": 15,
   "metadata": {},
   "outputs": [],
   "source": [
    "data_ohe = data.copy()\n",
    "\n",
    "cat_features = ['type', 'paperless_billing', 'payment_method',\n",
    "                'gender', 'partner', 'dependents',\n",
    "                'internet_service', 'online_security', 'online_backup',\n",
    "                'device_protection', 'tech_support', 'streaming_tv',\n",
    "                'streaming_movies', 'multiple_lines']\n",
    "\n",
    "data_ohe = pd.get_dummies(data_ohe, drop_first=True, columns=cat_features)"
   ]
  },
  {
   "cell_type": "markdown",
   "metadata": {},
   "source": [
    "##### Устранение лишних столбцов"
   ]
  },
  {
   "cell_type": "markdown",
   "metadata": {},
   "source": [
    "+ *monthly_charges* - после проведения исследовательского анализа стало ясно, что ушедших клиентов нельзя объединить в более-менее однородную группу по размеру ежемесячного платежа (это раз). В нашем распоряжении нет данных о поведении клиентов, лишь некоторые демографические показатели и список услуг, которые на них оформлены (это два). Таким образом мы ищем категорию клиентов, скажем так проблемную, и принадлежит ли ей клиент можно понять сразу как он зашёл в офис подписывать договор (в жизни конечно не так, но в нашей учебной задаче выходит так). И нам совершенно не важно, сколько клиент тратит ежемесячно на услуги и сколько денег всего заплатит нашей компании.\n",
    "+ *total_charges* - для нашей задачи не несёт полезной информации. Сильно коррелирует с длительностью обслуживания. Жизненный цикл среди ушедших клиентов разный, как большой, так и маленький встречается, поэтому этот признак внесёт лишь сумятицу в модель.\n",
    "+ *customer_id* - не несёт полезной информации.\n",
    "+ *end_date* - приведёт к утечке целевого признака.\n",
    "+ *begin_date* - на самом деле не знаю, но интуиция подсказывает, что это бесполезный признак."
   ]
  },
  {
   "cell_type": "code",
   "execution_count": 16,
   "metadata": {},
   "outputs": [],
   "source": [
    "data_ohe.drop(['monthly_charges', 'total_charges', 'customer_id',\n",
    "               'begin_date', 'end_date'],\n",
    "                axis=1, inplace=True)"
   ]
  },
  {
   "cell_type": "code",
   "execution_count": 17,
   "metadata": {},
   "outputs": [
    {
     "data": {
      "text/html": [
       "<div>\n",
       "<style scoped>\n",
       "    .dataframe tbody tr th:only-of-type {\n",
       "        vertical-align: middle;\n",
       "    }\n",
       "\n",
       "    .dataframe tbody tr th {\n",
       "        vertical-align: top;\n",
       "    }\n",
       "\n",
       "    .dataframe thead th {\n",
       "        text-align: right;\n",
       "    }\n",
       "</style>\n",
       "<table border=\"1\" class=\"dataframe\">\n",
       "  <thead>\n",
       "    <tr style=\"text-align: right;\">\n",
       "      <th></th>\n",
       "      <th>exited</th>\n",
       "      <th>lifetime</th>\n",
       "      <th>senior_citizen</th>\n",
       "      <th>type_One year</th>\n",
       "      <th>type_Two year</th>\n",
       "      <th>paperless_billing_Yes</th>\n",
       "      <th>payment_method_Credit card (automatic)</th>\n",
       "      <th>payment_method_Electronic check</th>\n",
       "      <th>payment_method_Mailed check</th>\n",
       "      <th>gender_Male</th>\n",
       "      <th>partner_Yes</th>\n",
       "      <th>dependents_Yes</th>\n",
       "      <th>internet_service_Fiber optic</th>\n",
       "      <th>internet_service_None</th>\n",
       "      <th>online_security_None</th>\n",
       "      <th>online_security_Yes</th>\n",
       "      <th>online_backup_None</th>\n",
       "      <th>online_backup_Yes</th>\n",
       "      <th>device_protection_None</th>\n",
       "      <th>device_protection_Yes</th>\n",
       "      <th>tech_support_None</th>\n",
       "      <th>tech_support_Yes</th>\n",
       "      <th>streaming_tv_None</th>\n",
       "      <th>streaming_tv_Yes</th>\n",
       "      <th>streaming_movies_None</th>\n",
       "      <th>streaming_movies_Yes</th>\n",
       "      <th>multiple_lines_None</th>\n",
       "      <th>multiple_lines_Yes</th>\n",
       "    </tr>\n",
       "  </thead>\n",
       "  <tbody>\n",
       "    <tr>\n",
       "      <th>0</th>\n",
       "      <td>0</td>\n",
       "      <td>31</td>\n",
       "      <td>0</td>\n",
       "      <td>0</td>\n",
       "      <td>0</td>\n",
       "      <td>1</td>\n",
       "      <td>0</td>\n",
       "      <td>1</td>\n",
       "      <td>0</td>\n",
       "      <td>0</td>\n",
       "      <td>1</td>\n",
       "      <td>0</td>\n",
       "      <td>0</td>\n",
       "      <td>0</td>\n",
       "      <td>0</td>\n",
       "      <td>0</td>\n",
       "      <td>0</td>\n",
       "      <td>1</td>\n",
       "      <td>0</td>\n",
       "      <td>0</td>\n",
       "      <td>0</td>\n",
       "      <td>0</td>\n",
       "      <td>0</td>\n",
       "      <td>0</td>\n",
       "      <td>0</td>\n",
       "      <td>0</td>\n",
       "      <td>1</td>\n",
       "      <td>0</td>\n",
       "    </tr>\n",
       "    <tr>\n",
       "      <th>1</th>\n",
       "      <td>0</td>\n",
       "      <td>1036</td>\n",
       "      <td>0</td>\n",
       "      <td>1</td>\n",
       "      <td>0</td>\n",
       "      <td>0</td>\n",
       "      <td>0</td>\n",
       "      <td>0</td>\n",
       "      <td>1</td>\n",
       "      <td>1</td>\n",
       "      <td>0</td>\n",
       "      <td>0</td>\n",
       "      <td>0</td>\n",
       "      <td>0</td>\n",
       "      <td>0</td>\n",
       "      <td>1</td>\n",
       "      <td>0</td>\n",
       "      <td>0</td>\n",
       "      <td>0</td>\n",
       "      <td>1</td>\n",
       "      <td>0</td>\n",
       "      <td>0</td>\n",
       "      <td>0</td>\n",
       "      <td>0</td>\n",
       "      <td>0</td>\n",
       "      <td>0</td>\n",
       "      <td>0</td>\n",
       "      <td>0</td>\n",
       "    </tr>\n",
       "    <tr>\n",
       "      <th>2</th>\n",
       "      <td>1</td>\n",
       "      <td>61</td>\n",
       "      <td>0</td>\n",
       "      <td>0</td>\n",
       "      <td>0</td>\n",
       "      <td>1</td>\n",
       "      <td>0</td>\n",
       "      <td>0</td>\n",
       "      <td>1</td>\n",
       "      <td>1</td>\n",
       "      <td>0</td>\n",
       "      <td>0</td>\n",
       "      <td>0</td>\n",
       "      <td>0</td>\n",
       "      <td>0</td>\n",
       "      <td>1</td>\n",
       "      <td>0</td>\n",
       "      <td>1</td>\n",
       "      <td>0</td>\n",
       "      <td>0</td>\n",
       "      <td>0</td>\n",
       "      <td>0</td>\n",
       "      <td>0</td>\n",
       "      <td>0</td>\n",
       "      <td>0</td>\n",
       "      <td>0</td>\n",
       "      <td>0</td>\n",
       "      <td>0</td>\n",
       "    </tr>\n",
       "    <tr>\n",
       "      <th>3</th>\n",
       "      <td>0</td>\n",
       "      <td>1371</td>\n",
       "      <td>0</td>\n",
       "      <td>1</td>\n",
       "      <td>0</td>\n",
       "      <td>0</td>\n",
       "      <td>0</td>\n",
       "      <td>0</td>\n",
       "      <td>0</td>\n",
       "      <td>1</td>\n",
       "      <td>0</td>\n",
       "      <td>0</td>\n",
       "      <td>0</td>\n",
       "      <td>0</td>\n",
       "      <td>0</td>\n",
       "      <td>1</td>\n",
       "      <td>0</td>\n",
       "      <td>0</td>\n",
       "      <td>0</td>\n",
       "      <td>1</td>\n",
       "      <td>0</td>\n",
       "      <td>1</td>\n",
       "      <td>0</td>\n",
       "      <td>0</td>\n",
       "      <td>0</td>\n",
       "      <td>0</td>\n",
       "      <td>1</td>\n",
       "      <td>0</td>\n",
       "    </tr>\n",
       "    <tr>\n",
       "      <th>4</th>\n",
       "      <td>1</td>\n",
       "      <td>61</td>\n",
       "      <td>0</td>\n",
       "      <td>0</td>\n",
       "      <td>0</td>\n",
       "      <td>1</td>\n",
       "      <td>0</td>\n",
       "      <td>1</td>\n",
       "      <td>0</td>\n",
       "      <td>0</td>\n",
       "      <td>0</td>\n",
       "      <td>0</td>\n",
       "      <td>1</td>\n",
       "      <td>0</td>\n",
       "      <td>0</td>\n",
       "      <td>0</td>\n",
       "      <td>0</td>\n",
       "      <td>0</td>\n",
       "      <td>0</td>\n",
       "      <td>0</td>\n",
       "      <td>0</td>\n",
       "      <td>0</td>\n",
       "      <td>0</td>\n",
       "      <td>0</td>\n",
       "      <td>0</td>\n",
       "      <td>0</td>\n",
       "      <td>0</td>\n",
       "      <td>0</td>\n",
       "    </tr>\n",
       "  </tbody>\n",
       "</table>\n",
       "</div>"
      ],
      "text/plain": [
       "   exited  lifetime  senior_citizen  type_One year  type_Two year  \\\n",
       "0       0        31               0              0              0   \n",
       "1       0      1036               0              1              0   \n",
       "2       1        61               0              0              0   \n",
       "3       0      1371               0              1              0   \n",
       "4       1        61               0              0              0   \n",
       "\n",
       "   paperless_billing_Yes  payment_method_Credit card (automatic)  \\\n",
       "0                      1                                       0   \n",
       "1                      0                                       0   \n",
       "2                      1                                       0   \n",
       "3                      0                                       0   \n",
       "4                      1                                       0   \n",
       "\n",
       "   payment_method_Electronic check  payment_method_Mailed check  gender_Male  \\\n",
       "0                                1                            0            0   \n",
       "1                                0                            1            1   \n",
       "2                                0                            1            1   \n",
       "3                                0                            0            1   \n",
       "4                                1                            0            0   \n",
       "\n",
       "   partner_Yes  dependents_Yes  internet_service_Fiber optic  \\\n",
       "0            1               0                             0   \n",
       "1            0               0                             0   \n",
       "2            0               0                             0   \n",
       "3            0               0                             0   \n",
       "4            0               0                             1   \n",
       "\n",
       "   internet_service_None  online_security_None  online_security_Yes  \\\n",
       "0                      0                     0                    0   \n",
       "1                      0                     0                    1   \n",
       "2                      0                     0                    1   \n",
       "3                      0                     0                    1   \n",
       "4                      0                     0                    0   \n",
       "\n",
       "   online_backup_None  online_backup_Yes  device_protection_None  \\\n",
       "0                   0                  1                       0   \n",
       "1                   0                  0                       0   \n",
       "2                   0                  1                       0   \n",
       "3                   0                  0                       0   \n",
       "4                   0                  0                       0   \n",
       "\n",
       "   device_protection_Yes  tech_support_None  tech_support_Yes  \\\n",
       "0                      0                  0                 0   \n",
       "1                      1                  0                 0   \n",
       "2                      0                  0                 0   \n",
       "3                      1                  0                 1   \n",
       "4                      0                  0                 0   \n",
       "\n",
       "   streaming_tv_None  streaming_tv_Yes  streaming_movies_None  \\\n",
       "0                  0                 0                      0   \n",
       "1                  0                 0                      0   \n",
       "2                  0                 0                      0   \n",
       "3                  0                 0                      0   \n",
       "4                  0                 0                      0   \n",
       "\n",
       "   streaming_movies_Yes  multiple_lines_None  multiple_lines_Yes  \n",
       "0                     0                    1                   0  \n",
       "1                     0                    0                   0  \n",
       "2                     0                    0                   0  \n",
       "3                     0                    1                   0  \n",
       "4                     0                    0                   0  "
      ]
     },
     "execution_count": 17,
     "metadata": {},
     "output_type": "execute_result"
    }
   ],
   "source": [
    "data_ohe.head()"
   ]
  },
  {
   "cell_type": "markdown",
   "metadata": {},
   "source": [
    "##### Разделение на выборки"
   ]
  },
  {
   "cell_type": "code",
   "execution_count": 18,
   "metadata": {},
   "outputs": [],
   "source": [
    "target_ohe = data_ohe['exited']\n",
    "features_ohe = data_ohe.drop(['exited'], axis=1)\n",
    "\n",
    "features_train_ohe, features_test_ohe, target_train_ohe, target_test_ohe = train_test_split(\n",
    "    features_ohe, target_ohe, test_size=.25, random_state=42)"
   ]
  },
  {
   "cell_type": "markdown",
   "metadata": {},
   "source": [
    "### Дополнительный датасет"
   ]
  },
  {
   "cell_type": "markdown",
   "metadata": {},
   "source": [
    "Датасет сформирован после анализа и обучения моделей на первом датасете.\n",
    "+ Убраны признаки отвечающие за дополнительные интернет-услуги, как маловажные\n",
    "+ Сгенерированы новые признаки:\n",
    "    + *family* - является ли клиент семейным или нет (если клиент имеет супруга или детей, то считается семейным)\n",
    "    + *internet_service* - пользуется клиент интернетом или нет\n",
    "    + *phone_service* - пользуется клиент телефоном или нет"
   ]
  },
  {
   "cell_type": "code",
   "execution_count": 19,
   "metadata": {},
   "outputs": [],
   "source": [
    "alt_data = data.copy()\n",
    "alt_data['phone_service'] = alt_data['multiple_lines']\n",
    "\n",
    "columns1 = ['internet_service', 'phone_service']\n",
    "columns2 = ['partner', 'dependents']\n",
    "\n",
    "for column in columns1:\n",
    "    alt_data.loc[alt_data[column] == 'None', column] = 0\n",
    "    alt_data.loc[alt_data[column] != 'None', column] = 1\n",
    "\n",
    "for column in columns2:\n",
    "    alt_data.loc[alt_data[column] == 'No', column] = 0\n",
    "    alt_data.loc[alt_data[column] == 'Yes', column] = 1\n",
    "\n",
    "alt_data['family'] = alt_data['partner'] * alt_data['dependents']\n",
    "\n",
    "alt_data.drop(['multiple_lines', 'partner', 'dependents',\n",
    "               'total_charges', 'customer_id',\n",
    "               'begin_date', 'end_date', 'monthly_charges',\n",
    "               'online_security', 'online_backup',\n",
    "               'device_protection', 'tech_support',\n",
    "               'streaming_tv', 'streaming_movies'],\n",
    "                axis=1, inplace=True)"
   ]
  },
  {
   "cell_type": "code",
   "execution_count": 20,
   "metadata": {},
   "outputs": [],
   "source": [
    "alt_cat_features = ['type', 'paperless_billing',\n",
    "                    'payment_method', 'gender']\n",
    "\n",
    "alt_data_ohe = pd.get_dummies(alt_data, drop_first=True, columns=alt_cat_features)"
   ]
  },
  {
   "cell_type": "code",
   "execution_count": 21,
   "metadata": {},
   "outputs": [],
   "source": [
    "alt_target_ohe = alt_data_ohe['exited']\n",
    "alt_features_ohe = alt_data_ohe.drop(['exited'], axis=1)\n",
    "\n",
    "alt_features_train_ohe, alt_features_test_ohe, alt_target_train_ohe, alt_target_test_ohe = train_test_split(\n",
    "    alt_features_ohe, alt_target_ohe, test_size=.25, random_state=42)"
   ]
  },
  {
   "cell_type": "markdown",
   "metadata": {},
   "source": [
    "## 2. Исследовательский анализ данных "
   ]
  },
  {
   "cell_type": "markdown",
   "metadata": {},
   "source": [
    "Нам предоставлены данные по 7043 клиентам, из них:\n",
    "   + 4835 - пользуется и интернетом и телефонией\n",
    "   + 1526 - пользуется только телефонией\n",
    "   + 682 - пользуется только интернетом\n",
    "    \n",
    "1869 клиентов прекратили обслуживание (26,5%)."
   ]
  },
  {
   "cell_type": "markdown",
   "metadata": {},
   "source": [
    "##### Распределение типов заключаемых договоров"
   ]
  },
  {
   "cell_type": "code",
   "execution_count": 22,
   "metadata": {},
   "outputs": [
    {
     "data": {
      "text/plain": [
       "Month-to-month    3875\n",
       "Two year          1695\n",
       "One year          1473\n",
       "Name: type, dtype: int64"
      ]
     },
     "execution_count": 22,
     "metadata": {},
     "output_type": "execute_result"
    }
   ],
   "source": [
    "contract['type'].value_counts()"
   ]
  },
  {
   "cell_type": "markdown",
   "metadata": {},
   "source": [
    "Клиентов с годовыми контрактами в 1.22 раза меньше, чем с контрактами с ежемесячным списанием."
   ]
  },
  {
   "cell_type": "markdown",
   "metadata": {},
   "source": [
    "##### Распределение размеров ежемесячных платежей"
   ]
  },
  {
   "cell_type": "code",
   "execution_count": 23,
   "metadata": {},
   "outputs": [],
   "source": [
    "def compare_plot(data1, data2):\n",
    "    data1.hist(bins=50, density=True, alpha=0.6, label='Оставшиеся', range=(data1.min(), data1.max()))\n",
    "    data2.hist(bins=50, density=True, alpha=0.6, label='Ушедшие', range=(data1.min(), data1.max()))\n",
    "    plt.title('Распределение клиентов по размеру ежемесячных платежей')\n",
    "    plt.xlabel('Размер ежемесячного платежа')\n",
    "    plt.ylabel('Доля клиентов')\n",
    "    plt.legend(loc='upper right')\n",
    "    plt.show()\n",
    "    print('Оставшиеся клиенты:')\n",
    "    print(data1.describe())\n",
    "    print()\n",
    "    print('Ушедшие клиенты:')\n",
    "    print(data2.describe())"
   ]
  },
  {
   "cell_type": "code",
   "execution_count": 24,
   "metadata": {},
   "outputs": [
    {
     "data": {
      "image/png": "[encoded data removed]",
      "text/plain": [
       "<Figure size 432x288 with 1 Axes>"
      ]
     },
     "metadata": {
      "needs_background": "light"
     },
     "output_type": "display_data"
    },
    {
     "name": "stdout",
     "output_type": "stream",
     "text": [
      "Оставшиеся клиенты:\n",
      "count    5174.000000\n",
      "mean       61.265124\n",
      "std        31.092648\n",
      "min        18.250000\n",
      "25%        25.100000\n",
      "50%        64.425000\n",
      "75%        88.400000\n",
      "max       118.750000\n",
      "Name: monthly_charges, dtype: float64\n",
      "\n",
      "Ушедшие клиенты:\n",
      "count    1869.000000\n",
      "mean       74.441332\n",
      "std        24.666053\n",
      "min        18.850000\n",
      "25%        56.150000\n",
      "50%        79.650000\n",
      "75%        94.200000\n",
      "max       118.350000\n",
      "Name: monthly_charges, dtype: float64\n"
     ]
    }
   ],
   "source": [
    "compare_plot(contract[contract['exited'] == 0]['monthly_charges'],\n",
    "             contract[contract['exited'] == 1]['monthly_charges'])"
   ]
  },
  {
   "cell_type": "markdown",
   "metadata": {},
   "source": [
    "+ Распределение по ежемесячным платежам схоже в обеих группах.\n",
    "+ Ушедшие клиенты в среднем платили бо́льшие суммы.\n",
    "+ Доля клиентов с минимальными платежами среди ушедших значительно меньше, нежели среди оставшихся."
   ]
  },
  {
   "cell_type": "markdown",
   "metadata": {},
   "source": [
    "##### Проверка гипотезы о различии средних размеров ежемесячных платежей"
   ]
  },
  {
   "cell_type": "markdown",
   "metadata": {},
   "source": [
    "$H_0$ - средний размер ежемесячных платежей не отличается среди оставшихся и ушедших клиентов\\\n",
    "$H_1$ - средний размер ежемесячных платежей различается"
   ]
  },
  {
   "cell_type": "code",
   "execution_count": 25,
   "metadata": {},
   "outputs": [
    {
     "name": "stdout",
     "output_type": "stream",
     "text": [
      "Средний размер ежемесячных платежей оставшихся клиентов: 61.27 денег\n",
      "Средний размер ежемесячных платежей ушедших клиентов: 74.44 денег\n",
      "\n",
      "p-значение: 8.592449331547538e-73\n",
      "Отвергаем нулевую гипотезу\n"
     ]
    }
   ],
   "source": [
    "print('Средний размер ежемесячных платежей оставшихся клиентов: {:.2f} денег'\n",
    "      .format(contract[contract['exited'] == 0]['monthly_charges'].mean()))\n",
    "print('Средний размер ежемесячных платежей ушедших клиентов: {:.2f} денег'\n",
    "      .format(contract[contract['exited'] == 1]['monthly_charges'].mean()))\n",
    "print()\n",
    "alpha = .05\n",
    "results = st.ttest_ind(\n",
    "    contract[contract['exited'] == 0]['monthly_charges'],\n",
    "    contract[contract['exited'] == 1]['monthly_charges'],\n",
    "    equal_var=False)\n",
    "print('p-значение:', results.pvalue)\n",
    "if (results.pvalue < alpha):\n",
    "    print(\"Отвергаем нулевую гипотезу\")\n",
    "else:\n",
    "    print(\"Не получилось отвергнуть нулевую гипотезу\")"
   ]
  },
  {
   "cell_type": "markdown",
   "metadata": {},
   "source": [
    "Средний размер ежемесячных платежей в разных группах статистически различается."
   ]
  },
  {
   "cell_type": "markdown",
   "metadata": {},
   "source": [
    "##### Использование услуг"
   ]
  },
  {
   "cell_type": "markdown",
   "metadata": {},
   "source": [
    "Распределение среди ушедших клиентов:\n",
    "   + интернет + телефония: 85%\n",
    "   + только интернет: 9%\n",
    "   + только телефония: 6%\n",
    "   \n",
    "Распределение среди оставшихся клиентов:\n",
    "   + интернет + телефония: 63%\n",
    "   + только интернет: 10%\n",
    "   + только телефония: 27%"
   ]
  },
  {
   "cell_type": "markdown",
   "metadata": {},
   "source": [
    "##### Использование интернета"
   ]
  },
  {
   "cell_type": "code",
   "execution_count": 26,
   "metadata": {},
   "outputs": [
    {
     "data": {
      "image/png": "[encoded data removed]",
      "text/plain": [
       "<Figure size 432x288 with 1 Axes>"
      ]
     },
     "metadata": {
      "needs_background": "light"
     },
     "output_type": "display_data"
    },
    {
     "data": {
      "text/plain": [
       "Fiber optic    0.693954\n",
       "DSL            0.245586\n",
       "None           0.060460\n",
       "Name: internet_service, dtype: float64"
      ]
     },
     "execution_count": 26,
     "metadata": {},
     "output_type": "execute_result"
    }
   ],
   "source": [
    "data[data['exited'] == 1]['internet_service'].value_counts(normalize=True).plot(kind='bar', grid=True)\n",
    "plt.title('Ушедшие клиенты')\n",
    "plt.ylabel('Доля клиентов')\n",
    "plt.show()\n",
    "\n",
    "data[data['exited'] == 1]['internet_service'].value_counts(normalize=True)"
   ]
  },
  {
   "cell_type": "code",
   "execution_count": 27,
   "metadata": {},
   "outputs": [
    {
     "data": {
      "image/png": "[encoded data removed]",
      "text/plain": [
       "<Figure size 432x288 with 1 Axes>"
      ]
     },
     "metadata": {
      "needs_background": "light"
     },
     "output_type": "display_data"
    },
    {
     "data": {
      "text/plain": [
       "DSL            0.379204\n",
       "Fiber optic    0.347700\n",
       "None           0.273096\n",
       "Name: internet_service, dtype: float64"
      ]
     },
     "execution_count": 27,
     "metadata": {},
     "output_type": "execute_result"
    }
   ],
   "source": [
    "data[data['exited'] == 0]['internet_service'].value_counts(normalize=True).plot(kind='bar', grid=True)\n",
    "plt.title('Оставшиеся клиенты')\n",
    "plt.ylabel('Доля клиентов')\n",
    "plt.show()\n",
    "\n",
    "data[data['exited'] == 0]['internet_service'].value_counts(normalize=True)"
   ]
  },
  {
   "cell_type": "markdown",
   "metadata": {},
   "source": [
    "+ 94% ушедших клиентов пользовались интернетом\n",
    "+ Ушедшие клиенты намного чаще пользовались оптоволоконным интернетом, нежели оставшиеся клиенты\n",
    "+ Складывается впечатление, что в компании какие-то проблемы оптоволоконным интернетом"
   ]
  },
  {
   "cell_type": "markdown",
   "metadata": {},
   "source": [
    "##### Использование телефона"
   ]
  },
  {
   "cell_type": "code",
   "execution_count": 28,
   "metadata": {},
   "outputs": [
    {
     "data": {
      "image/png": "[encoded data removed]",
      "text/plain": [
       "<Figure size 432x288 with 1 Axes>"
      ]
     },
     "metadata": {
      "needs_background": "light"
     },
     "output_type": "display_data"
    },
    {
     "data": {
      "text/plain": [
       "Yes     0.454789\n",
       "No      0.454254\n",
       "None    0.090958\n",
       "Name: multiple_lines, dtype: float64"
      ]
     },
     "execution_count": 28,
     "metadata": {},
     "output_type": "execute_result"
    }
   ],
   "source": [
    "data[data['exited'] == 1]['multiple_lines'].value_counts(normalize=True).plot(kind='bar', grid=True)\n",
    "plt.title('Ушедшие клиенты')\n",
    "plt.ylabel('Доля клиентов')\n",
    "plt.show()\n",
    "\n",
    "data[data['exited'] == 1]['multiple_lines'].value_counts(normalize=True)"
   ]
  },
  {
   "cell_type": "code",
   "execution_count": 29,
   "metadata": {},
   "outputs": [
    {
     "data": {
      "image/png": "[encoded data removed]",
      "text/plain": [
       "<Figure size 432x288 with 1 Axes>"
      ]
     },
     "metadata": {
      "needs_background": "light"
     },
     "output_type": "display_data"
    },
    {
     "data": {
      "text/plain": [
       "No      0.491109\n",
       "Yes     0.409934\n",
       "None    0.098956\n",
       "Name: multiple_lines, dtype: float64"
      ]
     },
     "execution_count": 29,
     "metadata": {},
     "output_type": "execute_result"
    }
   ],
   "source": [
    "data[data['exited'] == 0]['multiple_lines'].value_counts(normalize=True).plot(kind='bar', grid=True)\n",
    "plt.title('Оставшиеся клиенты')\n",
    "plt.ylabel('Доля клиентов')\n",
    "plt.show()\n",
    "\n",
    "data[data['exited'] == 0]['multiple_lines'].value_counts(normalize=True)"
   ]
  },
  {
   "cell_type": "markdown",
   "metadata": {},
   "source": [
    "+ Распределения драматически не различаются"
   ]
  },
  {
   "cell_type": "markdown",
   "metadata": {},
   "source": [
    "##### Распределение количества ушедших клиентов относительно времени обслуживания"
   ]
  },
  {
   "cell_type": "code",
   "execution_count": 30,
   "metadata": {},
   "outputs": [
    {
     "data": {
      "image/png": "[encoded data removed]",
      "text/plain": [
       "<Figure size 864x360 with 1 Axes>"
      ]
     },
     "metadata": {
      "needs_background": "light"
     },
     "output_type": "display_data"
    }
   ],
   "source": [
    "contract[contract['exited'] == 1]['lifetime'].plot(kind='hist', bins=25, grid=True,\n",
    "                       xticks = [x * 100 for x in range(23)],\n",
    "                       figsize = [12, 5],\n",
    "                       title='Распределение количества ушедних клиентов в зависимости от длительности обслуживания')\n",
    "\n",
    "plt.xlabel('Количество дней обслуживания');\n",
    "plt.ylabel('Количество ушедших клиентов');"
   ]
  },
  {
   "cell_type": "code",
   "execution_count": 31,
   "metadata": {},
   "outputs": [
    {
     "name": "stdout",
     "output_type": "stream",
     "text": [
      "Медианное количество дней ослуживания среди ушедших клиентов 304.0\n"
     ]
    }
   ],
   "source": [
    "median_days = contract[contract['exited'] == 1]['lifetime'].median()\n",
    "print('Медианное количество дней ослуживания среди ушедших клиентов', median_days)"
   ]
  },
  {
   "cell_type": "markdown",
   "metadata": {},
   "source": [
    "+ Большинство клиентов уходит в первые 3 месяца обслуживания\n",
    "+ Половина клиентов уходит в первые 10 месяцев обслуживания"
   ]
  },
  {
   "cell_type": "markdown",
   "metadata": {},
   "source": [
    "# 3. Обучение моделей"
   ]
  },
  {
   "cell_type": "code",
   "execution_count": 32,
   "metadata": {},
   "outputs": [],
   "source": [
    "def print_metrics(model, features_data, target_data):\n",
    "    predicted_data = model.predict(features_data)\n",
    "    probabilities = model.predict_proba(features_data)\n",
    "    probabilities_one = probabilities[:, 1]\n",
    "\n",
    "    fpr, tpr, thresholds = roc_curve(target_data, probabilities_one)\n",
    "    plt.figure()\n",
    "    plt.plot(fpr, tpr)\n",
    "    plt.plot([0, 1], [0, 1], linestyle='--')\n",
    "    plt.xlim([0.0, 1.0])\n",
    "    plt.ylim([0.0, 1.0])\n",
    "    plt.grid(True)\n",
    "    plt.xlabel('False Positive Rate')\n",
    "    plt.ylabel('True Positive Rate')\n",
    "    plt.title('ROC-кривая')\n",
    "    plt.show()\n",
    "    \n",
    "    accuracy = model.score(features_data, target_data)\n",
    "    precision = precision_score(target_data, predicted_data)\n",
    "    recall = recall_score(target_data, predicted_data)\n",
    "    f1 = f1_score(target_data, predicted_data)\n",
    "    auc_roc = roc_auc_score(target_data, probabilities_one)\n",
    "    \n",
    "    print('Accuracy = {:.3f}'.format(accuracy))\n",
    "    print('Precision = {:.3f}'.format(precision))\n",
    "    print('Recall = {:.3f}'.format(recall))\n",
    "    print('F1-мера = {:.3f}'.format(f1))\n",
    "    print('AUC-ROC = {:.3f}'.format(auc_roc))\n",
    "    \n",
    "    return auc_roc, accuracy"
   ]
  },
  {
   "cell_type": "code",
   "execution_count": 33,
   "metadata": {},
   "outputs": [],
   "source": [
    "columns = ['AUC-ROC', 'Accuracy', 'Время обучения']\n",
    "index = ['Логистическая регрессия', 'Случайный лес', 'CatBoost',\n",
    "         'Логистическая регрессия (alternative dataset)',\n",
    "         'Случайный лес (alternative dataset)',\n",
    "         'CatBoost (alternative dataset)']\n",
    "results = pd.DataFrame(index=index, columns= columns)"
   ]
  },
  {
   "cell_type": "markdown",
   "metadata": {},
   "source": [
    "##### Логистическая регрессия"
   ]
  },
  {
   "cell_type": "code",
   "execution_count": 34,
   "metadata": {
    "scrolled": true
   },
   "outputs": [
    {
     "name": "stderr",
     "output_type": "stream",
     "text": [
      "C:\\Void\\Soft\\Anaconda\\lib\\site-packages\\sklearn\\linear_model\\_logistic.py:764: ConvergenceWarning: lbfgs failed to converge (status=1):\n",
      "STOP: TOTAL NO. of ITERATIONS REACHED LIMIT.\n",
      "\n",
      "Increase the number of iterations (max_iter) or scale the data as shown in:\n",
      "    https://scikit-learn.org/stable/modules/preprocessing.html\n",
      "Please also refer to the documentation for alternative solver options:\n",
      "    https://scikit-learn.org/stable/modules/linear_model.html#logistic-regression\n",
      "  extra_warning_msg=_LOGISTIC_SOLVER_CONVERGENCE_MSG)\n"
     ]
    }
   ],
   "source": [
    "start_time = timeit.default_timer()\n",
    "\n",
    "model_lr = LogisticRegression(solver='lbfgs', random_state=42)\n",
    "model_lr.fit(features_train_ohe, target_train_ohe)\n",
    "\n",
    "elapsed_time = timeit.default_timer() - start_time\n",
    "results.loc['Логистическая регрессия', 'Время обучения'] = elapsed_time"
   ]
  },
  {
   "cell_type": "markdown",
   "metadata": {},
   "source": [
    "##### Логистическая регрессия (alternative dataset)"
   ]
  },
  {
   "cell_type": "code",
   "execution_count": 35,
   "metadata": {},
   "outputs": [],
   "source": [
    "start_time = timeit.default_timer()\n",
    "\n",
    "model_lr_alt = LogisticRegression(solver='lbfgs', random_state=42)\n",
    "model_lr_alt.fit(alt_features_train_ohe, alt_target_train_ohe)\n",
    "\n",
    "elapsed_time = timeit.default_timer() - start_time\n",
    "results.loc['Логистическая регрессия (alternative dataset)', 'Время обучения'] = elapsed_time"
   ]
  },
  {
   "cell_type": "markdown",
   "metadata": {},
   "source": [
    "##### Случайный лес"
   ]
  },
  {
   "cell_type": "code",
   "execution_count": 36,
   "metadata": {},
   "outputs": [
    {
     "data": {
      "text/plain": [
       "{'max_depth': 8, 'n_estimators': 500}"
      ]
     },
     "execution_count": 36,
     "metadata": {},
     "output_type": "execute_result"
    }
   ],
   "source": [
    "model = RandomForestClassifier(random_state=42)\n",
    "grid_param = {'n_estimators' : [50 * x for x in range(5, 11)],\n",
    "              'max_depth' : [1 * x for x in range(8, 12)]}\n",
    "\n",
    "grid_search = GridSearchCV(model, grid_param, scoring='roc_auc', n_jobs=-1, cv=3)\n",
    "grid_search.fit(features_train_ohe, target_train_ohe)\n",
    "grid_search.best_params_"
   ]
  },
  {
   "cell_type": "code",
   "execution_count": 37,
   "metadata": {
    "scrolled": true
   },
   "outputs": [],
   "source": [
    "start_time = timeit.default_timer()\n",
    "\n",
    "model_rfc = RandomForestClassifier(random_state=42, n_estimators=500, max_depth=8)\n",
    "model_rfc.fit(features_train_ohe, target_train_ohe)\n",
    "\n",
    "elapsed_time = timeit.default_timer() - start_time\n",
    "results.loc['Случайный лес', 'Время обучения'] = elapsed_time"
   ]
  },
  {
   "cell_type": "code",
   "execution_count": 38,
   "metadata": {},
   "outputs": [
    {
     "data": {
      "text/plain": [
       "Text(0.5, 1.0, 'Feature importances')"
      ]
     },
     "execution_count": 38,
     "metadata": {},
     "output_type": "execute_result"
    },
    {
     "data": {
      "image/png": "[encoded data removed]",
      "text/plain": [
       "<Figure size 432x288 with 1 Axes>"
      ]
     },
     "metadata": {
      "needs_background": "light"
     },
     "output_type": "display_data"
    }
   ],
   "source": [
    "pd.Series(model_rfc.feature_importances_, index=features_train_ohe.columns).sort_values(ascending=False).plot(kind='bar')\n",
    "plt.title('Feature importances')"
   ]
  },
  {
   "cell_type": "markdown",
   "metadata": {},
   "source": [
    "##### Случайный лес (alternative dataset)"
   ]
  },
  {
   "cell_type": "code",
   "execution_count": 39,
   "metadata": {},
   "outputs": [
    {
     "data": {
      "text/plain": [
       "{'max_depth': 8, 'n_estimators': 300}"
      ]
     },
     "execution_count": 39,
     "metadata": {},
     "output_type": "execute_result"
    }
   ],
   "source": [
    "model = RandomForestClassifier(random_state=42)\n",
    "grid_param = {'n_estimators' : [50 * x for x in range(5, 11)],\n",
    "              'max_depth' : [1 * x for x in range(8, 12)]}\n",
    "\n",
    "grid_search = GridSearchCV(model, grid_param, scoring='roc_auc', n_jobs=-1, cv=3)\n",
    "grid_search.fit(alt_features_train_ohe, alt_target_train_ohe)\n",
    "grid_search.best_params_"
   ]
  },
  {
   "cell_type": "code",
   "execution_count": 40,
   "metadata": {
    "scrolled": true
   },
   "outputs": [],
   "source": [
    "start_time = timeit.default_timer()\n",
    "\n",
    "model_rfc_alt = RandomForestClassifier(random_state=42, n_estimators=300, max_depth=8)\n",
    "model_rfc_alt.fit(alt_features_train_ohe, alt_target_train_ohe)\n",
    "\n",
    "elapsed_time = timeit.default_timer() - start_time\n",
    "results.loc['Случайный лес (alternative dataset)', 'Время обучения'] = elapsed_time"
   ]
  },
  {
   "cell_type": "code",
   "execution_count": 41,
   "metadata": {},
   "outputs": [
    {
     "data": {
      "text/plain": [
       "Text(0.5, 1.0, 'Feature importances')"
      ]
     },
     "execution_count": 41,
     "metadata": {},
     "output_type": "execute_result"
    },
    {
     "data": {
      "image/png": "[encoded data removed]",
      "text/plain": [
       "<Figure size 432x288 with 1 Axes>"
      ]
     },
     "metadata": {
      "needs_background": "light"
     },
     "output_type": "display_data"
    }
   ],
   "source": [
    "pd.Series(model_rfc_alt.feature_importances_, index=alt_features_train_ohe.columns).sort_values(ascending=False).plot(kind='bar')\n",
    "plt.title('Feature importances')"
   ]
  },
  {
   "cell_type": "markdown",
   "metadata": {},
   "source": [
    "##### Catboost"
   ]
  },
  {
   "cell_type": "code",
   "execution_count": 42,
   "metadata": {},
   "outputs": [
    {
     "data": {
      "text/plain": [
       "{'depth': 2, 'iterations': 500, 'learning_rate': 0.5}"
      ]
     },
     "execution_count": 42,
     "metadata": {},
     "output_type": "execute_result"
    }
   ],
   "source": [
    "model = CatBoostClassifier(random_state=42, verbose=0)\n",
    "grid_param = {'iterations' : [50 * x for x in range(7, 11)],\n",
    "              'depth' : [1 * x for x in range(1, 4)],\n",
    "              'learning_rate' : [0.3, 0.5]}\n",
    "\n",
    "grid_search = GridSearchCV(model, grid_param, scoring='roc_auc', n_jobs=-1, cv=3)\n",
    "grid_search.fit(features_train_ohe, target_train_ohe)\n",
    "grid_search.best_params_"
   ]
  },
  {
   "cell_type": "code",
   "execution_count": 43,
   "metadata": {},
   "outputs": [
    {
     "name": "stdout",
     "output_type": "stream",
     "text": [
      "0:\tlearn: 0.5142837\ttotal: 3.37ms\tremaining: 1.68s\n",
      "40:\tlearn: 0.3325166\ttotal: 145ms\tremaining: 1.63s\n",
      "80:\tlearn: 0.2861160\ttotal: 283ms\tremaining: 1.46s\n",
      "120:\tlearn: 0.2650971\ttotal: 419ms\tremaining: 1.31s\n",
      "160:\tlearn: 0.2433281\ttotal: 571ms\tremaining: 1.2s\n",
      "200:\tlearn: 0.2312747\ttotal: 713ms\tremaining: 1.06s\n",
      "240:\tlearn: 0.2165595\ttotal: 852ms\tremaining: 915ms\n",
      "280:\tlearn: 0.2102838\ttotal: 983ms\tremaining: 766ms\n",
      "320:\tlearn: 0.2053541\ttotal: 1.13s\tremaining: 631ms\n",
      "360:\tlearn: 0.2016910\ttotal: 1.28s\tremaining: 492ms\n",
      "400:\tlearn: 0.1987478\ttotal: 1.42s\tremaining: 351ms\n",
      "440:\tlearn: 0.1960290\ttotal: 1.57s\tremaining: 210ms\n",
      "480:\tlearn: 0.1938937\ttotal: 1.7s\tremaining: 67.3ms\n",
      "499:\tlearn: 0.1932609\ttotal: 1.77s\tremaining: 0us\n"
     ]
    }
   ],
   "source": [
    "start_time = timeit.default_timer()\n",
    "\n",
    "model_cbc = CatBoostClassifier(depth=2, iterations=500, learning_rate=0.5,\n",
    "                               task_type='CPU', random_seed=42)\n",
    "model_cbc.fit(features_train_ohe, target_train_ohe, verbose=40)\n",
    "\n",
    "elapsed_time = timeit.default_timer() - start_time\n",
    "results.loc['CatBoost', 'Время обучения'] = elapsed_time"
   ]
  },
  {
   "cell_type": "code",
   "execution_count": 44,
   "metadata": {},
   "outputs": [
    {
     "data": {
      "text/plain": [
       "Text(0.5, 1.0, 'Feature importances')"
      ]
     },
     "execution_count": 44,
     "metadata": {},
     "output_type": "execute_result"
    },
    {
     "data": {
      "image/png": "[encoded data removed]",
      "text/plain": [
       "<Figure size 432x288 with 1 Axes>"
      ]
     },
     "metadata": {
      "needs_background": "light"
     },
     "output_type": "display_data"
    }
   ],
   "source": [
    "pd.Series(model_cbc.feature_importances_, index=features_train_ohe.columns).sort_values(ascending=False).plot(kind='bar')\n",
    "plt.title('Feature importances')"
   ]
  },
  {
   "cell_type": "markdown",
   "metadata": {},
   "source": [
    "+ Важных признаков оказалось немного\n",
    "+ Любопытно, что для разных моделей они несколько различаются"
   ]
  },
  {
   "cell_type": "markdown",
   "metadata": {},
   "source": [
    "##### Catboost (alternative dataset)"
   ]
  },
  {
   "cell_type": "code",
   "execution_count": 45,
   "metadata": {},
   "outputs": [
    {
     "data": {
      "text/plain": [
       "{'depth': 2, 'iterations': 500, 'learning_rate': 0.5}"
      ]
     },
     "execution_count": 45,
     "metadata": {},
     "output_type": "execute_result"
    }
   ],
   "source": [
    "model = CatBoostClassifier(random_state=42, verbose=0)\n",
    "grid_param = {'iterations' : [50 * x for x in range(7, 11)],\n",
    "              'depth' : [1 * x for x in range(1, 4)],\n",
    "              'learning_rate' : [0.3, 0.5]}\n",
    "\n",
    "grid_search = GridSearchCV(model, grid_param, scoring='roc_auc', n_jobs=-1, cv=3)\n",
    "grid_search.fit(alt_features_train_ohe, alt_target_train_ohe)\n",
    "grid_search.best_params_"
   ]
  },
  {
   "cell_type": "code",
   "execution_count": 46,
   "metadata": {
    "scrolled": true
   },
   "outputs": [
    {
     "name": "stdout",
     "output_type": "stream",
     "text": [
      "0:\tlearn: 0.5469871\ttotal: 2.94ms\tremaining: 1.47s\n",
      "40:\tlearn: 0.3487617\ttotal: 123ms\tremaining: 1.38s\n",
      "80:\tlearn: 0.2992294\ttotal: 249ms\tremaining: 1.29s\n",
      "120:\tlearn: 0.2687108\ttotal: 352ms\tremaining: 1.1s\n",
      "160:\tlearn: 0.2506094\ttotal: 454ms\tremaining: 957ms\n",
      "200:\tlearn: 0.2377130\ttotal: 557ms\tremaining: 829ms\n",
      "240:\tlearn: 0.2296650\ttotal: 655ms\tremaining: 704ms\n",
      "280:\tlearn: 0.2247960\ttotal: 752ms\tremaining: 586ms\n",
      "320:\tlearn: 0.2212184\ttotal: 845ms\tremaining: 471ms\n",
      "360:\tlearn: 0.2184552\ttotal: 946ms\tremaining: 364ms\n",
      "400:\tlearn: 0.2162576\ttotal: 1.05s\tremaining: 261ms\n",
      "440:\tlearn: 0.2140408\ttotal: 1.15s\tremaining: 154ms\n",
      "480:\tlearn: 0.2120890\ttotal: 1.26s\tremaining: 49.6ms\n",
      "499:\tlearn: 0.2112802\ttotal: 1.31s\tremaining: 0us\n"
     ]
    }
   ],
   "source": [
    "start_time = timeit.default_timer()\n",
    "\n",
    "model_cbc_alt = CatBoostClassifier(depth=2, iterations=500, learning_rate=0.5,\n",
    "                               task_type='CPU', random_seed=42)\n",
    "model_cbc_alt.fit(alt_features_train_ohe, alt_target_train_ohe, verbose=40)\n",
    "\n",
    "elapsed_time = timeit.default_timer() - start_time\n",
    "results.loc['CatBoost (alternative dataset)', 'Время обучения'] = elapsed_time"
   ]
  },
  {
   "cell_type": "code",
   "execution_count": 47,
   "metadata": {},
   "outputs": [
    {
     "data": {
      "text/plain": [
       "Text(0.5, 1.0, 'Feature importances')"
      ]
     },
     "execution_count": 47,
     "metadata": {},
     "output_type": "execute_result"
    },
    {
     "data": {
      "image/png": "[encoded data removed]",
      "text/plain": [
       "<Figure size 432x288 with 1 Axes>"
      ]
     },
     "metadata": {
      "needs_background": "light"
     },
     "output_type": "display_data"
    }
   ],
   "source": [
    "pd.Series(model_cbc_alt.feature_importances_, index=alt_features_train_ohe.columns).sort_values(ascending=False).plot(kind='bar')\n",
    "plt.title('Feature importances')"
   ]
  },
  {
   "cell_type": "markdown",
   "metadata": {},
   "source": [
    "# 4. Тестирование моделей"
   ]
  },
  {
   "cell_type": "markdown",
   "metadata": {},
   "source": [
    "##### Логистическая регрессия"
   ]
  },
  {
   "cell_type": "code",
   "execution_count": 48,
   "metadata": {},
   "outputs": [
    {
     "data": {
      "image/png": "[encoded data removed]",
      "text/plain": [
       "<Figure size 432x288 with 1 Axes>"
      ]
     },
     "metadata": {
      "needs_background": "light"
     },
     "output_type": "display_data"
    },
    {
     "name": "stdout",
     "output_type": "stream",
     "text": [
      "Accuracy = 0.813\n",
      "Precision = 0.687\n",
      "Recall = 0.572\n",
      "F1-мера = 0.624\n",
      "AUC-ROC = 0.858\n"
     ]
    }
   ],
   "source": [
    "auc_roc, accuracy = print_metrics(model_lr, features_test_ohe, target_test_ohe)\n",
    "results.loc['Логистическая регрессия', 'AUC-ROC'] = auc_roc\n",
    "results.loc['Логистическая регрессия', 'Accuracy'] = accuracy"
   ]
  },
  {
   "cell_type": "markdown",
   "metadata": {},
   "source": [
    "##### Логистическая регрессия (alternative dataset)"
   ]
  },
  {
   "cell_type": "code",
   "execution_count": 49,
   "metadata": {},
   "outputs": [
    {
     "data": {
      "image/png": "[encoded data removed]",
      "text/plain": [
       "<Figure size 432x288 with 1 Axes>"
      ]
     },
     "metadata": {
      "needs_background": "light"
     },
     "output_type": "display_data"
    },
    {
     "name": "stdout",
     "output_type": "stream",
     "text": [
      "Accuracy = 0.784\n",
      "Precision = 0.652\n",
      "Recall = 0.443\n",
      "F1-мера = 0.527\n",
      "AUC-ROC = 0.831\n"
     ]
    }
   ],
   "source": [
    "auc_roc, accuracy = print_metrics(model_lr_alt, alt_features_test_ohe, alt_target_test_ohe)\n",
    "results.loc['Логистическая регрессия (alternative dataset)', 'AUC-ROC'] = auc_roc\n",
    "results.loc['Логистическая регрессия (alternative dataset)', 'Accuracy'] = accuracy"
   ]
  },
  {
   "cell_type": "markdown",
   "metadata": {},
   "source": [
    "##### Случайный лес"
   ]
  },
  {
   "cell_type": "code",
   "execution_count": 50,
   "metadata": {},
   "outputs": [
    {
     "data": {
      "image/png": "[encoded data removed]",
      "text/plain": [
       "<Figure size 432x288 with 1 Axes>"
      ]
     },
     "metadata": {
      "needs_background": "light"
     },
     "output_type": "display_data"
    },
    {
     "name": "stdout",
     "output_type": "stream",
     "text": [
      "Accuracy = 0.813\n",
      "Precision = 0.734\n",
      "Recall = 0.489\n",
      "F1-мера = 0.586\n",
      "AUC-ROC = 0.871\n"
     ]
    }
   ],
   "source": [
    "auc_roc, accuracy = print_metrics(model_rfc, features_test_ohe, target_test_ohe)\n",
    "results.loc['Случайный лес', 'AUC-ROC'] = auc_roc\n",
    "results.loc['Случайный лес', 'Accuracy'] = accuracy"
   ]
  },
  {
   "cell_type": "markdown",
   "metadata": {},
   "source": [
    "##### Случайный лес (alternative dataset)"
   ]
  },
  {
   "cell_type": "code",
   "execution_count": 51,
   "metadata": {},
   "outputs": [
    {
     "data": {
      "image/png": "[encoded data removed]",
      "text/plain": [
       "<Figure size 432x288 with 1 Axes>"
      ]
     },
     "metadata": {
      "needs_background": "light"
     },
     "output_type": "display_data"
    },
    {
     "name": "stdout",
     "output_type": "stream",
     "text": [
      "Accuracy = 0.804\n",
      "Precision = 0.719\n",
      "Recall = 0.459\n",
      "F1-мера = 0.561\n",
      "AUC-ROC = 0.848\n"
     ]
    }
   ],
   "source": [
    "auc_roc, accuracy = print_metrics(model_rfc_alt, alt_features_test_ohe, alt_target_test_ohe)\n",
    "results.loc['Случайный лес (alternative dataset)', 'AUC-ROC'] = auc_roc\n",
    "results.loc['Случайный лес (alternative dataset)', 'Accuracy'] = accuracy"
   ]
  },
  {
   "cell_type": "markdown",
   "metadata": {},
   "source": [
    "##### Catboost"
   ]
  },
  {
   "cell_type": "code",
   "execution_count": 52,
   "metadata": {},
   "outputs": [
    {
     "data": {
      "image/png": "[encoded data removed]",
      "text/plain": [
       "<Figure size 432x288 with 1 Axes>"
      ]
     },
     "metadata": {
      "needs_background": "light"
     },
     "output_type": "display_data"
    },
    {
     "name": "stdout",
     "output_type": "stream",
     "text": [
      "Accuracy = 0.904\n",
      "Precision = 0.891\n",
      "Recall = 0.737\n",
      "F1-мера = 0.807\n",
      "AUC-ROC = 0.954\n"
     ]
    }
   ],
   "source": [
    "auc_roc, accuracy = print_metrics(model_cbc, features_test_ohe, target_test_ohe)\n",
    "results.loc['CatBoost', 'AUC-ROC'] = auc_roc\n",
    "results.loc['CatBoost', 'Accuracy'] = accuracy"
   ]
  },
  {
   "cell_type": "markdown",
   "metadata": {},
   "source": [
    "##### Catboost (alternative dataset)"
   ]
  },
  {
   "cell_type": "code",
   "execution_count": 53,
   "metadata": {},
   "outputs": [
    {
     "data": {
      "image/png": "[encoded data removed]",
      "text/plain": [
       "<Figure size 432x288 with 1 Axes>"
      ]
     },
     "metadata": {
      "needs_background": "light"
     },
     "output_type": "display_data"
    },
    {
     "name": "stdout",
     "output_type": "stream",
     "text": [
      "Accuracy = 0.894\n",
      "Precision = 0.880\n",
      "Recall = 0.706\n",
      "F1-мера = 0.783\n",
      "AUC-ROC = 0.949\n"
     ]
    }
   ],
   "source": [
    "auc_roc, accuracy = print_metrics(model_cbc_alt, alt_features_test_ohe, alt_target_test_ohe)\n",
    "results.loc['CatBoost (alternative dataset)', 'AUC-ROC'] = auc_roc\n",
    "results.loc['CatBoost (alternative dataset)', 'Accuracy'] = accuracy"
   ]
  },
  {
   "cell_type": "markdown",
   "metadata": {},
   "source": [
    "# Итоги"
   ]
  },
  {
   "cell_type": "code",
   "execution_count": 54,
   "metadata": {},
   "outputs": [
    {
     "data": {
      "text/html": [
       "<div>\n",
       "<style scoped>\n",
       "    .dataframe tbody tr th:only-of-type {\n",
       "        vertical-align: middle;\n",
       "    }\n",
       "\n",
       "    .dataframe tbody tr th {\n",
       "        vertical-align: top;\n",
       "    }\n",
       "\n",
       "    .dataframe thead th {\n",
       "        text-align: right;\n",
       "    }\n",
       "</style>\n",
       "<table border=\"1\" class=\"dataframe\">\n",
       "  <thead>\n",
       "    <tr style=\"text-align: right;\">\n",
       "      <th></th>\n",
       "      <th>AUC-ROC</th>\n",
       "      <th>Accuracy</th>\n",
       "      <th>Время обучения</th>\n",
       "    </tr>\n",
       "  </thead>\n",
       "  <tbody>\n",
       "    <tr>\n",
       "      <th>CatBoost</th>\n",
       "      <td>0.954026</td>\n",
       "      <td>0.904032</td>\n",
       "      <td>1.85393</td>\n",
       "    </tr>\n",
       "    <tr>\n",
       "      <th>CatBoost (alternative dataset)</th>\n",
       "      <td>0.948761</td>\n",
       "      <td>0.89381</td>\n",
       "      <td>1.37363</td>\n",
       "    </tr>\n",
       "    <tr>\n",
       "      <th>Случайный лес</th>\n",
       "      <td>0.87141</td>\n",
       "      <td>0.812606</td>\n",
       "      <td>1.2583</td>\n",
       "    </tr>\n",
       "    <tr>\n",
       "      <th>Логистическая регрессия</th>\n",
       "      <td>0.857708</td>\n",
       "      <td>0.812606</td>\n",
       "      <td>0.0944713</td>\n",
       "    </tr>\n",
       "    <tr>\n",
       "      <th>Случайный лес (alternative dataset)</th>\n",
       "      <td>0.84789</td>\n",
       "      <td>0.804089</td>\n",
       "      <td>0.666083</td>\n",
       "    </tr>\n",
       "    <tr>\n",
       "      <th>Логистическая регрессия (alternative dataset)</th>\n",
       "      <td>0.831038</td>\n",
       "      <td>0.784214</td>\n",
       "      <td>0.0616794</td>\n",
       "    </tr>\n",
       "  </tbody>\n",
       "</table>\n",
       "</div>"
      ],
      "text/plain": [
       "                                                AUC-ROC  Accuracy  \\\n",
       "CatBoost                                       0.954026  0.904032   \n",
       "CatBoost (alternative dataset)                 0.948761   0.89381   \n",
       "Случайный лес                                   0.87141  0.812606   \n",
       "Логистическая регрессия                        0.857708  0.812606   \n",
       "Случайный лес (alternative dataset)             0.84789  0.804089   \n",
       "Логистическая регрессия (alternative dataset)  0.831038  0.784214   \n",
       "\n",
       "                                              Время обучения  \n",
       "CatBoost                                             1.85393  \n",
       "CatBoost (alternative dataset)                       1.37363  \n",
       "Случайный лес                                         1.2583  \n",
       "Логистическая регрессия                            0.0944713  \n",
       "Случайный лес (alternative dataset)                 0.666083  \n",
       "Логистическая регрессия (alternative dataset)      0.0616794  "
      ]
     },
     "execution_count": 54,
     "metadata": {},
     "output_type": "execute_result"
    }
   ],
   "source": [
    "results.sort_values(by='AUC-ROC', ascending=False)"
   ]
  },
  {
   "cell_type": "markdown",
   "metadata": {},
   "source": [
    "+ С предсказанием лучше всего справился CatBoost\n",
    "+ Использование альтернативно подготовленного датасета привело к ухудшению метрик\n",
    "+ Ушедшие клиенты в среднем ежемесячно платили большие суммы\n",
    "+ Риск ухода клиента выше всего в первые три месяца обслуживания\n",
    "+ 94% ушедших клиентов пользовались интернетом, причём оптоволоконным интернетом пользовалось "
   ]
  },
  {
   "cell_type": "markdown",
   "metadata": {},
   "source": [
    "# Дополнительные комментарии\n",
    "\n",
    "+ В целевом признаке явный дисбаланс классов, однако использование взвешивания классов не улучшало, либо ухудшало результат.\n",
    "+ Если добавить признак *monthly_charges*, то результаты моделей ухудшатся.\n",
    "+ Если в CatBoost загрузить категориальныйе признаки без предобработки OHE, то модель будет дольше обучаться и покажет менее хороший результат\n",
    "+ Масштабирование численных признаков не приводило к улучшению результата."
   ]
  }
 ],
 "metadata": {
  "kernelspec": {
   "display_name": "Python 3",
   "language": "python",
   "name": "python3"
  },
  "language_info": {
   "codemirror_mode": {
    "name": "ipython",
    "version": 3
   },
   "file_extension": ".py",
   "mimetype": "text/x-python",
   "name": "python",
   "nbconvert_exporter": "python",
   "pygments_lexer": "ipython3",
   "version": "3.7.6"
  }
 },
 "nbformat": 4,
 "nbformat_minor": 4
}
