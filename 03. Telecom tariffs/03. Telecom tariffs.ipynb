{
 "cells": [
  {
   "cell_type": "markdown",
   "metadata": {},
   "source": [
    "---\n",
    "# Определение перспективного тарифа для телеком компании\n",
    "---"
   ]
  },
  {
   "cell_type": "markdown",
   "metadata": {},
   "source": [
    "## Описание проекта"
   ]
  },
  {
   "cell_type": "markdown",
   "metadata": {},
   "source": [
    "Клиентам компании \"Мегалайн\" предлагают два тарифных плана: «Смарт» и «Ультра». Чтобы скорректировать рекламный бюджет, коммерческий департамент хочет понять, какой тариф приносит больше денег.  \n",
    "\n",
    "Предстоит сделать предварительный анализ тарифов на небольшой выборке клиентов. В нашем распоряжении данные 500 пользователей «Мегалайна»: кто они, откуда, каким тарифом пользуются, сколько звонков и сообщений каждый отправил за 2018 год. Нужно проанализировать поведение клиентов и сделать вывод — какой тариф лучше."
   ]
  },
  {
   "cell_type": "markdown",
   "metadata": {},
   "source": [
    "##### Описание тарифов\n",
    "__Тариф «Смарт»__\n",
    "1. Ежемесячная плата: 550 рублей\n",
    "1. Включено 500 минут разговора, 50 сообщений и 15 Гб интернет-трафика\n",
    "1. Стоимость услуг сверх тарифного пакета:\n",
    "    + минута разговора: 3 рубля\n",
    "    + сообщение: 3 рубля\n",
    "    + 1 Гб интернет-трафика: 200 рублей\n",
    "    \n",
    "__Тариф «Ультра»__\n",
    "1. Ежемесячная плата: 1950 рублей\n",
    "1. Включено 3000 минут разговора, 1000 сообщений и 30 Гб интернет-трафика\n",
    "1. Стоимость услуг сверх тарифного пакета:\n",
    "    + минута разговора: 1 рубль\n",
    "    + сообщение: 1 рубль\n",
    "    + 1 Гб интернет-трафика: 150 рублей"
   ]
  },
  {
   "cell_type": "markdown",
   "metadata": {},
   "source": [
    "## 1. Описание данных"
   ]
  },
  {
   "cell_type": "markdown",
   "metadata": {},
   "source": [
    "Таблица __users__ (информация о пользователях):\n",
    "+ user_id — уникальный идентификатор пользователя\n",
    "+ first_name — имя пользователя\n",
    "+ last_name — фамилия пользователя\n",
    "+ age — возраст пользователя (годы)\n",
    "+ reg_date — дата подключения тарифа (день, месяц, год)\n",
    "+ churn_date — дата прекращения пользования тарифом (если значение пропущено, то тариф ещё действовал на момент выгрузки данных)\n",
    "+ city — город проживания пользователя\n",
    "+ tariff — название тарифного плана\n",
    "\n",
    "Таблица __calls__ (информация о звонках):\n",
    "+ id — уникальный номер звонка\n",
    "+ call_date — дата звонка\n",
    "+ duration — длительность звонка в минутах\n",
    "+ user_id — идентификатор пользователя, сделавшего звонок\n",
    "\n",
    "Таблица __messages__ (информация о сообщениях):\n",
    "+ id — уникальный номер сообщения\n",
    "+ message_date — дата сообщения\n",
    "+ user_id — идентификатор пользователя, отправившего сообщение\n",
    "\n",
    "Таблица __internet__ (информация об интернет-сессиях):\n",
    "+ id — уникальный номер сессии\n",
    "+ mb_used — объём потраченного за сессию интернет-трафика (в мегабайтах)\n",
    "+ session_date — дата интернет-сессии\n",
    "+ user_id — идентификатор пользователя\n",
    "\n",
    "Таблица __tariffs__ (информация о тарифах):\n",
    "+ tariff_name — название тарифа\n",
    "+ rub_monthly_fee — ежемесячная абонентская плата в рублях\n",
    "+ minutes_included — количество минут разговора в месяц, включённых в абонентскую плату\n",
    "+ messages_included — количество сообщений в месяц, включённых в абонентскую плату\n",
    "+ mb_per_month_included — объём интернет-трафика, включённого в абонентскую плату (в мегабайтах)\n",
    "+ rub_per_minute — стоимость минуты разговора сверх тарифного пакета\n",
    "+ rub_per_message — стоимость отправки сообщения сверх тарифного пакета\n",
    "+ rub_per_gb — стоимость дополнительного гигабайта интернет-трафика сверх тарифного пакета (1 ГБ = 1024 МБ)"
   ]
  },
  {
   "cell_type": "code",
   "execution_count": 1,
   "metadata": {},
   "outputs": [],
   "source": [
    "import pandas as pd\n",
    "import numpy as np\n",
    "import matplotlib.pyplot as plt\n",
    "from scipy import stats as st"
   ]
  },
  {
   "cell_type": "code",
   "execution_count": 2,
   "metadata": {},
   "outputs": [],
   "source": [
    "users_data = pd.read_csv('/datasets/users.csv')\n",
    "calls_data = pd.read_csv('/datasets/calls.csv')\n",
    "sms_data = pd.read_csv('/datasets/messages.csv')\n",
    "internet_data = pd.read_csv('/datasets/internet.csv')\n",
    "tariffs = pd.read_csv('/datasets/tariffs.csv')"
   ]
  },
  {
   "cell_type": "code",
   "execution_count": 3,
   "metadata": {},
   "outputs": [
    {
     "name": "stdout",
     "output_type": "stream",
     "text": [
      "<class 'pandas.core.frame.DataFrame'>\n",
      "RangeIndex: 500 entries, 0 to 499\n",
      "Data columns (total 8 columns):\n",
      "user_id       500 non-null int64\n",
      "age           500 non-null int64\n",
      "churn_date    38 non-null object\n",
      "city          500 non-null object\n",
      "first_name    500 non-null object\n",
      "last_name     500 non-null object\n",
      "reg_date      500 non-null object\n",
      "tariff        500 non-null object\n",
      "dtypes: int64(2), object(6)\n",
      "memory usage: 31.4+ KB\n"
     ]
    },
    {
     "data": {
      "text/html": [
       "<div>\n",
       "<style scoped>\n",
       "    .dataframe tbody tr th:only-of-type {\n",
       "        vertical-align: middle;\n",
       "    }\n",
       "\n",
       "    .dataframe tbody tr th {\n",
       "        vertical-align: top;\n",
       "    }\n",
       "\n",
       "    .dataframe thead th {\n",
       "        text-align: right;\n",
       "    }\n",
       "</style>\n",
       "<table border=\"1\" class=\"dataframe\">\n",
       "  <thead>\n",
       "    <tr style=\"text-align: right;\">\n",
       "      <th></th>\n",
       "      <th>user_id</th>\n",
       "      <th>age</th>\n",
       "      <th>churn_date</th>\n",
       "      <th>city</th>\n",
       "      <th>first_name</th>\n",
       "      <th>last_name</th>\n",
       "      <th>reg_date</th>\n",
       "      <th>tariff</th>\n",
       "    </tr>\n",
       "  </thead>\n",
       "  <tbody>\n",
       "    <tr>\n",
       "      <td>0</td>\n",
       "      <td>1000</td>\n",
       "      <td>52</td>\n",
       "      <td>NaN</td>\n",
       "      <td>Краснодар</td>\n",
       "      <td>Рафаил</td>\n",
       "      <td>Верещагин</td>\n",
       "      <td>2018-05-25</td>\n",
       "      <td>ultra</td>\n",
       "    </tr>\n",
       "    <tr>\n",
       "      <td>1</td>\n",
       "      <td>1001</td>\n",
       "      <td>41</td>\n",
       "      <td>NaN</td>\n",
       "      <td>Москва</td>\n",
       "      <td>Иван</td>\n",
       "      <td>Ежов</td>\n",
       "      <td>2018-11-01</td>\n",
       "      <td>smart</td>\n",
       "    </tr>\n",
       "    <tr>\n",
       "      <td>2</td>\n",
       "      <td>1002</td>\n",
       "      <td>59</td>\n",
       "      <td>NaN</td>\n",
       "      <td>Стерлитамак</td>\n",
       "      <td>Евгений</td>\n",
       "      <td>Абрамович</td>\n",
       "      <td>2018-06-17</td>\n",
       "      <td>smart</td>\n",
       "    </tr>\n",
       "    <tr>\n",
       "      <td>3</td>\n",
       "      <td>1003</td>\n",
       "      <td>23</td>\n",
       "      <td>NaN</td>\n",
       "      <td>Москва</td>\n",
       "      <td>Белла</td>\n",
       "      <td>Белякова</td>\n",
       "      <td>2018-08-17</td>\n",
       "      <td>ultra</td>\n",
       "    </tr>\n",
       "    <tr>\n",
       "      <td>4</td>\n",
       "      <td>1004</td>\n",
       "      <td>68</td>\n",
       "      <td>NaN</td>\n",
       "      <td>Новокузнецк</td>\n",
       "      <td>Татьяна</td>\n",
       "      <td>Авдеенко</td>\n",
       "      <td>2018-05-14</td>\n",
       "      <td>ultra</td>\n",
       "    </tr>\n",
       "  </tbody>\n",
       "</table>\n",
       "</div>"
      ],
      "text/plain": [
       "   user_id  age churn_date         city first_name  last_name    reg_date  \\\n",
       "0     1000   52        NaN    Краснодар     Рафаил  Верещагин  2018-05-25   \n",
       "1     1001   41        NaN       Москва       Иван       Ежов  2018-11-01   \n",
       "2     1002   59        NaN  Стерлитамак    Евгений  Абрамович  2018-06-17   \n",
       "3     1003   23        NaN       Москва      Белла   Белякова  2018-08-17   \n",
       "4     1004   68        NaN  Новокузнецк    Татьяна   Авдеенко  2018-05-14   \n",
       "\n",
       "  tariff  \n",
       "0  ultra  \n",
       "1  smart  \n",
       "2  smart  \n",
       "3  ultra  \n",
       "4  ultra  "
      ]
     },
     "execution_count": 3,
     "metadata": {},
     "output_type": "execute_result"
    }
   ],
   "source": [
    "users_data.info()\n",
    "users_data.head()"
   ]
  },
  {
   "cell_type": "markdown",
   "metadata": {},
   "source": [
    "+ Обработка пропусков в столбце __'churn_date'__ не требуется\n",
    "+ В столбцах __'reg_date'__ и __'churn_date'__ нужно сменить тип данных на _datetime_"
   ]
  },
  {
   "cell_type": "code",
   "execution_count": 4,
   "metadata": {},
   "outputs": [
    {
     "name": "stdout",
     "output_type": "stream",
     "text": [
      "<class 'pandas.core.frame.DataFrame'>\n",
      "RangeIndex: 202607 entries, 0 to 202606\n",
      "Data columns (total 4 columns):\n",
      "id           202607 non-null object\n",
      "call_date    202607 non-null object\n",
      "duration     202607 non-null float64\n",
      "user_id      202607 non-null int64\n",
      "dtypes: float64(1), int64(1), object(2)\n",
      "memory usage: 6.2+ MB\n"
     ]
    },
    {
     "data": {
      "text/html": [
       "<div>\n",
       "<style scoped>\n",
       "    .dataframe tbody tr th:only-of-type {\n",
       "        vertical-align: middle;\n",
       "    }\n",
       "\n",
       "    .dataframe tbody tr th {\n",
       "        vertical-align: top;\n",
       "    }\n",
       "\n",
       "    .dataframe thead th {\n",
       "        text-align: right;\n",
       "    }\n",
       "</style>\n",
       "<table border=\"1\" class=\"dataframe\">\n",
       "  <thead>\n",
       "    <tr style=\"text-align: right;\">\n",
       "      <th></th>\n",
       "      <th>id</th>\n",
       "      <th>call_date</th>\n",
       "      <th>duration</th>\n",
       "      <th>user_id</th>\n",
       "    </tr>\n",
       "  </thead>\n",
       "  <tbody>\n",
       "    <tr>\n",
       "      <td>0</td>\n",
       "      <td>1000_0</td>\n",
       "      <td>2018-07-25</td>\n",
       "      <td>0.00</td>\n",
       "      <td>1000</td>\n",
       "    </tr>\n",
       "    <tr>\n",
       "      <td>1</td>\n",
       "      <td>1000_1</td>\n",
       "      <td>2018-08-17</td>\n",
       "      <td>0.00</td>\n",
       "      <td>1000</td>\n",
       "    </tr>\n",
       "    <tr>\n",
       "      <td>2</td>\n",
       "      <td>1000_2</td>\n",
       "      <td>2018-06-11</td>\n",
       "      <td>2.85</td>\n",
       "      <td>1000</td>\n",
       "    </tr>\n",
       "    <tr>\n",
       "      <td>3</td>\n",
       "      <td>1000_3</td>\n",
       "      <td>2018-09-21</td>\n",
       "      <td>13.80</td>\n",
       "      <td>1000</td>\n",
       "    </tr>\n",
       "    <tr>\n",
       "      <td>4</td>\n",
       "      <td>1000_4</td>\n",
       "      <td>2018-12-15</td>\n",
       "      <td>5.18</td>\n",
       "      <td>1000</td>\n",
       "    </tr>\n",
       "  </tbody>\n",
       "</table>\n",
       "</div>"
      ],
      "text/plain": [
       "       id   call_date  duration  user_id\n",
       "0  1000_0  2018-07-25      0.00     1000\n",
       "1  1000_1  2018-08-17      0.00     1000\n",
       "2  1000_2  2018-06-11      2.85     1000\n",
       "3  1000_3  2018-09-21     13.80     1000\n",
       "4  1000_4  2018-12-15      5.18     1000"
      ]
     },
     "execution_count": 4,
     "metadata": {},
     "output_type": "execute_result"
    }
   ],
   "source": [
    "calls_data.info()\n",
    "calls_data.head()"
   ]
  },
  {
   "cell_type": "markdown",
   "metadata": {},
   "source": [
    "+ В столбце __'reg_date'__ нужно сменить тип данных на _datetime_\n",
    "+ В столбце __'duration'__ необходимо все значения округлить до ближайшего целого в большую сторону"
   ]
  },
  {
   "cell_type": "code",
   "execution_count": 5,
   "metadata": {},
   "outputs": [
    {
     "name": "stdout",
     "output_type": "stream",
     "text": [
      "<class 'pandas.core.frame.DataFrame'>\n",
      "RangeIndex: 123036 entries, 0 to 123035\n",
      "Data columns (total 3 columns):\n",
      "id              123036 non-null object\n",
      "message_date    123036 non-null object\n",
      "user_id         123036 non-null int64\n",
      "dtypes: int64(1), object(2)\n",
      "memory usage: 2.8+ MB\n"
     ]
    },
    {
     "data": {
      "text/html": [
       "<div>\n",
       "<style scoped>\n",
       "    .dataframe tbody tr th:only-of-type {\n",
       "        vertical-align: middle;\n",
       "    }\n",
       "\n",
       "    .dataframe tbody tr th {\n",
       "        vertical-align: top;\n",
       "    }\n",
       "\n",
       "    .dataframe thead th {\n",
       "        text-align: right;\n",
       "    }\n",
       "</style>\n",
       "<table border=\"1\" class=\"dataframe\">\n",
       "  <thead>\n",
       "    <tr style=\"text-align: right;\">\n",
       "      <th></th>\n",
       "      <th>id</th>\n",
       "      <th>message_date</th>\n",
       "      <th>user_id</th>\n",
       "    </tr>\n",
       "  </thead>\n",
       "  <tbody>\n",
       "    <tr>\n",
       "      <td>0</td>\n",
       "      <td>1000_0</td>\n",
       "      <td>2018-06-27</td>\n",
       "      <td>1000</td>\n",
       "    </tr>\n",
       "    <tr>\n",
       "      <td>1</td>\n",
       "      <td>1000_1</td>\n",
       "      <td>2018-10-08</td>\n",
       "      <td>1000</td>\n",
       "    </tr>\n",
       "    <tr>\n",
       "      <td>2</td>\n",
       "      <td>1000_2</td>\n",
       "      <td>2018-08-04</td>\n",
       "      <td>1000</td>\n",
       "    </tr>\n",
       "    <tr>\n",
       "      <td>3</td>\n",
       "      <td>1000_3</td>\n",
       "      <td>2018-06-16</td>\n",
       "      <td>1000</td>\n",
       "    </tr>\n",
       "    <tr>\n",
       "      <td>4</td>\n",
       "      <td>1000_4</td>\n",
       "      <td>2018-12-05</td>\n",
       "      <td>1000</td>\n",
       "    </tr>\n",
       "  </tbody>\n",
       "</table>\n",
       "</div>"
      ],
      "text/plain": [
       "       id message_date  user_id\n",
       "0  1000_0   2018-06-27     1000\n",
       "1  1000_1   2018-10-08     1000\n",
       "2  1000_2   2018-08-04     1000\n",
       "3  1000_3   2018-06-16     1000\n",
       "4  1000_4   2018-12-05     1000"
      ]
     },
     "execution_count": 5,
     "metadata": {},
     "output_type": "execute_result"
    }
   ],
   "source": [
    "sms_data.info()\n",
    "sms_data.head()"
   ]
  },
  {
   "cell_type": "markdown",
   "metadata": {},
   "source": [
    "+ В столбце __'message_date'__ нужно сменить тип данных на _datetime_"
   ]
  },
  {
   "cell_type": "code",
   "execution_count": 6,
   "metadata": {},
   "outputs": [
    {
     "name": "stdout",
     "output_type": "stream",
     "text": [
      "<class 'pandas.core.frame.DataFrame'>\n",
      "RangeIndex: 149396 entries, 0 to 149395\n",
      "Data columns (total 5 columns):\n",
      "Unnamed: 0      149396 non-null int64\n",
      "id              149396 non-null object\n",
      "mb_used         149396 non-null float64\n",
      "session_date    149396 non-null object\n",
      "user_id         149396 non-null int64\n",
      "dtypes: float64(1), int64(2), object(2)\n",
      "memory usage: 5.7+ MB\n"
     ]
    },
    {
     "data": {
      "text/html": [
       "<div>\n",
       "<style scoped>\n",
       "    .dataframe tbody tr th:only-of-type {\n",
       "        vertical-align: middle;\n",
       "    }\n",
       "\n",
       "    .dataframe tbody tr th {\n",
       "        vertical-align: top;\n",
       "    }\n",
       "\n",
       "    .dataframe thead th {\n",
       "        text-align: right;\n",
       "    }\n",
       "</style>\n",
       "<table border=\"1\" class=\"dataframe\">\n",
       "  <thead>\n",
       "    <tr style=\"text-align: right;\">\n",
       "      <th></th>\n",
       "      <th>Unnamed: 0</th>\n",
       "      <th>id</th>\n",
       "      <th>mb_used</th>\n",
       "      <th>session_date</th>\n",
       "      <th>user_id</th>\n",
       "    </tr>\n",
       "  </thead>\n",
       "  <tbody>\n",
       "    <tr>\n",
       "      <td>0</td>\n",
       "      <td>0</td>\n",
       "      <td>1000_0</td>\n",
       "      <td>112.95</td>\n",
       "      <td>2018-11-25</td>\n",
       "      <td>1000</td>\n",
       "    </tr>\n",
       "    <tr>\n",
       "      <td>1</td>\n",
       "      <td>1</td>\n",
       "      <td>1000_1</td>\n",
       "      <td>1052.81</td>\n",
       "      <td>2018-09-07</td>\n",
       "      <td>1000</td>\n",
       "    </tr>\n",
       "    <tr>\n",
       "      <td>2</td>\n",
       "      <td>2</td>\n",
       "      <td>1000_2</td>\n",
       "      <td>1197.26</td>\n",
       "      <td>2018-06-25</td>\n",
       "      <td>1000</td>\n",
       "    </tr>\n",
       "    <tr>\n",
       "      <td>3</td>\n",
       "      <td>3</td>\n",
       "      <td>1000_3</td>\n",
       "      <td>550.27</td>\n",
       "      <td>2018-08-22</td>\n",
       "      <td>1000</td>\n",
       "    </tr>\n",
       "    <tr>\n",
       "      <td>4</td>\n",
       "      <td>4</td>\n",
       "      <td>1000_4</td>\n",
       "      <td>302.56</td>\n",
       "      <td>2018-09-24</td>\n",
       "      <td>1000</td>\n",
       "    </tr>\n",
       "  </tbody>\n",
       "</table>\n",
       "</div>"
      ],
      "text/plain": [
       "   Unnamed: 0      id  mb_used session_date  user_id\n",
       "0           0  1000_0   112.95   2018-11-25     1000\n",
       "1           1  1000_1  1052.81   2018-09-07     1000\n",
       "2           2  1000_2  1197.26   2018-06-25     1000\n",
       "3           3  1000_3   550.27   2018-08-22     1000\n",
       "4           4  1000_4   302.56   2018-09-24     1000"
      ]
     },
     "execution_count": 6,
     "metadata": {},
     "output_type": "execute_result"
    }
   ],
   "source": [
    "internet_data.info()\n",
    "internet_data.head()"
   ]
  },
  {
   "cell_type": "markdown",
   "metadata": {},
   "source": [
    "+ В столбце __'session_date'__ нужно сменить тип данных на _datetime_"
   ]
  },
  {
   "cell_type": "code",
   "execution_count": 7,
   "metadata": {},
   "outputs": [
    {
     "data": {
      "text/html": [
       "<div>\n",
       "<style scoped>\n",
       "    .dataframe tbody tr th:only-of-type {\n",
       "        vertical-align: middle;\n",
       "    }\n",
       "\n",
       "    .dataframe tbody tr th {\n",
       "        vertical-align: top;\n",
       "    }\n",
       "\n",
       "    .dataframe thead th {\n",
       "        text-align: right;\n",
       "    }\n",
       "</style>\n",
       "<table border=\"1\" class=\"dataframe\">\n",
       "  <thead>\n",
       "    <tr style=\"text-align: right;\">\n",
       "      <th></th>\n",
       "      <th>messages_included</th>\n",
       "      <th>mb_per_month_included</th>\n",
       "      <th>minutes_included</th>\n",
       "      <th>rub_monthly_fee</th>\n",
       "      <th>rub_per_gb</th>\n",
       "      <th>rub_per_message</th>\n",
       "      <th>rub_per_minute</th>\n",
       "      <th>tariff</th>\n",
       "    </tr>\n",
       "  </thead>\n",
       "  <tbody>\n",
       "    <tr>\n",
       "      <td>0</td>\n",
       "      <td>50</td>\n",
       "      <td>15360</td>\n",
       "      <td>500</td>\n",
       "      <td>550</td>\n",
       "      <td>200</td>\n",
       "      <td>3</td>\n",
       "      <td>3</td>\n",
       "      <td>smart</td>\n",
       "    </tr>\n",
       "    <tr>\n",
       "      <td>1</td>\n",
       "      <td>1000</td>\n",
       "      <td>30720</td>\n",
       "      <td>3000</td>\n",
       "      <td>1950</td>\n",
       "      <td>150</td>\n",
       "      <td>1</td>\n",
       "      <td>1</td>\n",
       "      <td>ultra</td>\n",
       "    </tr>\n",
       "  </tbody>\n",
       "</table>\n",
       "</div>"
      ],
      "text/plain": [
       "   messages_included  mb_per_month_included  minutes_included  \\\n",
       "0                 50                  15360               500   \n",
       "1               1000                  30720              3000   \n",
       "\n",
       "   rub_monthly_fee  rub_per_gb  rub_per_message  rub_per_minute tariff  \n",
       "0              550         200                3               3  smart  \n",
       "1             1950         150                1               1  ultra  "
      ]
     },
     "execution_count": 7,
     "metadata": {},
     "output_type": "execute_result"
    }
   ],
   "source": [
    "\n",
    "tariffs.columns = ['messages_included', 'mb_per_month_included',\n",
    "                   'minutes_included', 'rub_monthly_fee', 'rub_per_gb',\n",
    "                   'rub_per_message', 'rub_per_minute', 'tariff']\n",
    "tariffs.head()"
   ]
  },
  {
   "cell_type": "markdown",
   "metadata": {},
   "source": [
    "## 2. Подготовка данных"
   ]
  },
  {
   "cell_type": "markdown",
   "metadata": {},
   "source": [
    "### Изменение типов данных"
   ]
  },
  {
   "cell_type": "code",
   "execution_count": 9,
   "metadata": {},
   "outputs": [],
   "source": [
    "def to_datetype(df, column):\n",
    "    df[column] = pd.to_datetime(df[column], format='%Y-%m-%d')\n",
    "    \n",
    "to_datetype(users_data, 'churn_date')\n",
    "to_datetype(users_data, 'reg_date')\n",
    "to_datetype(calls_data, 'call_date')\n",
    "to_datetype(sms_data, 'message_date')\n",
    "to_datetype(internet_data, 'session_date')\n",
    "\n",
    "sms_data['month'] = sms_data['message_date'].dt.month\n",
    "calls_data['month'] = calls_data['call_date'].dt.month\n",
    "internet_data['month'] = internet_data['session_date'].dt.month"
   ]
  },
  {
   "cell_type": "markdown",
   "metadata": {},
   "source": [
    "Для нас интерес представляет только месяцы в которых совершались тарифицируемые действия абонентом."
   ]
  },
  {
   "cell_type": "markdown",
   "metadata": {},
   "source": [
    "### Расчёт дополнительных значений"
   ]
  },
  {
   "cell_type": "markdown",
   "metadata": {},
   "source": [
    "##### Округление значений"
   ]
  },
  {
   "cell_type": "code",
   "execution_count": 9,
   "metadata": {},
   "outputs": [],
   "source": [
    "calls_data['duration'] = np.ceil(calls_data['duration'])\n",
    "calls_data.loc[calls_data['duration'] == 0, 'duration'] = 1"
   ]
  },
  {
   "cell_type": "markdown",
   "metadata": {},
   "source": [
    "Длительность звонков округлили до целого в большую сторону. Звонки с длительностью 0 также тарифицируются оператором, поэтому заменили на 1."
   ]
  },
  {
   "cell_type": "markdown",
   "metadata": {},
   "source": [
    "##### Расчёт помесячной выручки"
   ]
  },
  {
   "cell_type": "markdown",
   "metadata": {},
   "source": [
    "Создадим таблицу с необходимыми для работы данными"
   ]
  },
  {
   "cell_type": "code",
   "execution_count": 10,
   "metadata": {},
   "outputs": [],
   "source": [
    "# Добавляем информацию о тарифах\n",
    "users_data_extended = users_data.merge(tariffs, on='tariff')\n",
    "\n",
    "# Группируем израсходованный интернет-трафик по месяцам и добавляем в общую таблицу\n",
    "internet_grouped = internet_data.groupby(['user_id', 'month'])['mb_used'].sum()\n",
    "internet_grouped = internet_grouped.reset_index(level = 'month')\n",
    "users_data_extended = users_data_extended.merge(internet_grouped, on='user_id')\n",
    "\n",
    "# Группируем количество отправленных сообщений по месяцам и добавляем в общую таблицу\n",
    "sms_grouped = sms_data.groupby(['user_id', 'month'])['id'].count()\n",
    "sms_grouped = sms_grouped.reset_index(level = 'month')\n",
    "sms_grouped.columns = ['month', 'messages_count'] \n",
    "users_data_extended = users_data_extended.merge(sms_grouped, on=['user_id', 'month'], how='left')\n",
    "\n",
    "# Группируем длительность звонков по месяцам и добавляем в общую таблицу\n",
    "calls_grouped = calls_data.groupby(['user_id', 'month'])['duration'].sum()\n",
    "calls_grouped = calls_grouped.reset_index(level = 'month')\n",
    "users_data_extended = users_data_extended.merge(calls_grouped, on=['user_id', 'month'], how='left')"
   ]
  },
  {
   "cell_type": "markdown",
   "metadata": {},
   "source": [
    "После объединения таблиц появились пропуски в столбцах __'duration'__ и __'messages_count'__, означающие, что в некоторых месяцах пользователи не совершали звонки и не отправляли сообщения. Пропуски нужно заменить на 0."
   ]
  },
  {
   "cell_type": "code",
   "execution_count": 11,
   "metadata": {},
   "outputs": [],
   "source": [
    "users_data_extended.loc[users_data_extended['messages_count'].isna() == True, 'messages_count'] = 0\n",
    "users_data_extended.loc[users_data_extended['duration'].isna() == True, 'duration'] = 0"
   ]
  },
  {
   "cell_type": "markdown",
   "metadata": {},
   "source": [
    "Рассчитаем использованные услуги сверх включённых в пакет"
   ]
  },
  {
   "cell_type": "code",
   "execution_count": 12,
   "metadata": {},
   "outputs": [],
   "source": [
    "users_data_extended['extra_minutes'] = users_data_extended['duration'] - users_data_extended['minutes_included']\n",
    "users_data_extended.loc[users_data_extended['extra_minutes'] < 0, ['extra_minutes']] = 0\n",
    "\n",
    "users_data_extended['extra_sms'] = users_data_extended['messages_count'] - users_data_extended['messages_included']\n",
    "users_data_extended.loc[users_data_extended['extra_sms'] < 0, 'extra_sms'] = 0\n",
    "\n",
    "users_data_extended['extra_gb'] = users_data_extended['mb_used'] - users_data_extended['mb_per_month_included']\n",
    "users_data_extended.loc[users_data_extended['extra_gb'] < 0, ['extra_gb']] = 0\n",
    "users_data_extended['extra_gb'] = np.ceil(users_data_extended['extra_gb'] / 1024)"
   ]
  },
  {
   "cell_type": "markdown",
   "metadata": {},
   "source": [
    "Расчёт выручки"
   ]
  },
  {
   "cell_type": "code",
   "execution_count": 13,
   "metadata": {},
   "outputs": [
    {
     "data": {
      "text/html": [
       "<div>\n",
       "<style scoped>\n",
       "    .dataframe tbody tr th:only-of-type {\n",
       "        vertical-align: middle;\n",
       "    }\n",
       "\n",
       "    .dataframe tbody tr th {\n",
       "        vertical-align: top;\n",
       "    }\n",
       "\n",
       "    .dataframe thead th {\n",
       "        text-align: right;\n",
       "    }\n",
       "</style>\n",
       "<table border=\"1\" class=\"dataframe\">\n",
       "  <thead>\n",
       "    <tr style=\"text-align: right;\">\n",
       "      <th></th>\n",
       "      <th>user_id</th>\n",
       "      <th>age</th>\n",
       "      <th>churn_date</th>\n",
       "      <th>city</th>\n",
       "      <th>first_name</th>\n",
       "      <th>last_name</th>\n",
       "      <th>reg_date</th>\n",
       "      <th>tariff</th>\n",
       "      <th>messages_included</th>\n",
       "      <th>mb_per_month_included</th>\n",
       "      <th>...</th>\n",
       "      <th>rub_per_message</th>\n",
       "      <th>rub_per_minute</th>\n",
       "      <th>month</th>\n",
       "      <th>mb_used</th>\n",
       "      <th>messages_count</th>\n",
       "      <th>duration</th>\n",
       "      <th>extra_minutes</th>\n",
       "      <th>extra_sms</th>\n",
       "      <th>extra_gb</th>\n",
       "      <th>revenue</th>\n",
       "    </tr>\n",
       "  </thead>\n",
       "  <tbody>\n",
       "    <tr>\n",
       "      <td>0</td>\n",
       "      <td>1000</td>\n",
       "      <td>52</td>\n",
       "      <td>NaT</td>\n",
       "      <td>Краснодар</td>\n",
       "      <td>Рафаил</td>\n",
       "      <td>Верещагин</td>\n",
       "      <td>2018-05-25</td>\n",
       "      <td>ultra</td>\n",
       "      <td>1000</td>\n",
       "      <td>30720</td>\n",
       "      <td>...</td>\n",
       "      <td>1</td>\n",
       "      <td>1</td>\n",
       "      <td>5</td>\n",
       "      <td>2253.49</td>\n",
       "      <td>22.0</td>\n",
       "      <td>164.0</td>\n",
       "      <td>0.0</td>\n",
       "      <td>0.0</td>\n",
       "      <td>0.0</td>\n",
       "      <td>1950.0</td>\n",
       "    </tr>\n",
       "    <tr>\n",
       "      <td>1</td>\n",
       "      <td>1000</td>\n",
       "      <td>52</td>\n",
       "      <td>NaT</td>\n",
       "      <td>Краснодар</td>\n",
       "      <td>Рафаил</td>\n",
       "      <td>Верещагин</td>\n",
       "      <td>2018-05-25</td>\n",
       "      <td>ultra</td>\n",
       "      <td>1000</td>\n",
       "      <td>30720</td>\n",
       "      <td>...</td>\n",
       "      <td>1</td>\n",
       "      <td>1</td>\n",
       "      <td>6</td>\n",
       "      <td>23233.77</td>\n",
       "      <td>60.0</td>\n",
       "      <td>187.0</td>\n",
       "      <td>0.0</td>\n",
       "      <td>0.0</td>\n",
       "      <td>0.0</td>\n",
       "      <td>1950.0</td>\n",
       "    </tr>\n",
       "    <tr>\n",
       "      <td>2</td>\n",
       "      <td>1000</td>\n",
       "      <td>52</td>\n",
       "      <td>NaT</td>\n",
       "      <td>Краснодар</td>\n",
       "      <td>Рафаил</td>\n",
       "      <td>Верещагин</td>\n",
       "      <td>2018-05-25</td>\n",
       "      <td>ultra</td>\n",
       "      <td>1000</td>\n",
       "      <td>30720</td>\n",
       "      <td>...</td>\n",
       "      <td>1</td>\n",
       "      <td>1</td>\n",
       "      <td>7</td>\n",
       "      <td>14003.64</td>\n",
       "      <td>75.0</td>\n",
       "      <td>346.0</td>\n",
       "      <td>0.0</td>\n",
       "      <td>0.0</td>\n",
       "      <td>0.0</td>\n",
       "      <td>1950.0</td>\n",
       "    </tr>\n",
       "    <tr>\n",
       "      <td>3</td>\n",
       "      <td>1000</td>\n",
       "      <td>52</td>\n",
       "      <td>NaT</td>\n",
       "      <td>Краснодар</td>\n",
       "      <td>Рафаил</td>\n",
       "      <td>Верещагин</td>\n",
       "      <td>2018-05-25</td>\n",
       "      <td>ultra</td>\n",
       "      <td>1000</td>\n",
       "      <td>30720</td>\n",
       "      <td>...</td>\n",
       "      <td>1</td>\n",
       "      <td>1</td>\n",
       "      <td>8</td>\n",
       "      <td>14055.93</td>\n",
       "      <td>81.0</td>\n",
       "      <td>418.0</td>\n",
       "      <td>0.0</td>\n",
       "      <td>0.0</td>\n",
       "      <td>0.0</td>\n",
       "      <td>1950.0</td>\n",
       "    </tr>\n",
       "    <tr>\n",
       "      <td>4</td>\n",
       "      <td>1000</td>\n",
       "      <td>52</td>\n",
       "      <td>NaT</td>\n",
       "      <td>Краснодар</td>\n",
       "      <td>Рафаил</td>\n",
       "      <td>Верещагин</td>\n",
       "      <td>2018-05-25</td>\n",
       "      <td>ultra</td>\n",
       "      <td>1000</td>\n",
       "      <td>30720</td>\n",
       "      <td>...</td>\n",
       "      <td>1</td>\n",
       "      <td>1</td>\n",
       "      <td>9</td>\n",
       "      <td>14568.91</td>\n",
       "      <td>57.0</td>\n",
       "      <td>478.0</td>\n",
       "      <td>0.0</td>\n",
       "      <td>0.0</td>\n",
       "      <td>0.0</td>\n",
       "      <td>1950.0</td>\n",
       "    </tr>\n",
       "  </tbody>\n",
       "</table>\n",
       "<p>5 rows × 23 columns</p>\n",
       "</div>"
      ],
      "text/plain": [
       "   user_id  age churn_date       city first_name  last_name   reg_date tariff  \\\n",
       "0     1000   52        NaT  Краснодар     Рафаил  Верещагин 2018-05-25  ultra   \n",
       "1     1000   52        NaT  Краснодар     Рафаил  Верещагин 2018-05-25  ultra   \n",
       "2     1000   52        NaT  Краснодар     Рафаил  Верещагин 2018-05-25  ultra   \n",
       "3     1000   52        NaT  Краснодар     Рафаил  Верещагин 2018-05-25  ultra   \n",
       "4     1000   52        NaT  Краснодар     Рафаил  Верещагин 2018-05-25  ultra   \n",
       "\n",
       "   messages_included  mb_per_month_included  ...  rub_per_message  \\\n",
       "0               1000                  30720  ...                1   \n",
       "1               1000                  30720  ...                1   \n",
       "2               1000                  30720  ...                1   \n",
       "3               1000                  30720  ...                1   \n",
       "4               1000                  30720  ...                1   \n",
       "\n",
       "   rub_per_minute  month   mb_used  messages_count  duration  extra_minutes  \\\n",
       "0               1      5   2253.49            22.0     164.0            0.0   \n",
       "1               1      6  23233.77            60.0     187.0            0.0   \n",
       "2               1      7  14003.64            75.0     346.0            0.0   \n",
       "3               1      8  14055.93            81.0     418.0            0.0   \n",
       "4               1      9  14568.91            57.0     478.0            0.0   \n",
       "\n",
       "   extra_sms  extra_gb  revenue  \n",
       "0        0.0       0.0   1950.0  \n",
       "1        0.0       0.0   1950.0  \n",
       "2        0.0       0.0   1950.0  \n",
       "3        0.0       0.0   1950.0  \n",
       "4        0.0       0.0   1950.0  \n",
       "\n",
       "[5 rows x 23 columns]"
      ]
     },
     "execution_count": 13,
     "metadata": {},
     "output_type": "execute_result"
    }
   ],
   "source": [
    "users_data_extended['revenue'] = (users_data_extended['rub_monthly_fee'] +\n",
    "                                  users_data_extended['rub_per_minute'] * users_data_extended['extra_minutes'] +\n",
    "                                  users_data_extended['rub_per_message'] * users_data_extended['extra_sms'] +\n",
    "                                  users_data_extended['rub_per_gb'] * users_data_extended['extra_gb']\n",
    "                                 )\n",
    "users_data_extended.head()"
   ]
  },
  {
   "cell_type": "markdown",
   "metadata": {},
   "source": [
    "## 3. Анализ  данных"
   ]
  },
  {
   "cell_type": "markdown",
   "metadata": {},
   "source": [
    "### Тариф \"Ультра\""
   ]
  },
  {
   "cell_type": "code",
   "execution_count": 14,
   "metadata": {},
   "outputs": [
    {
     "name": "stdout",
     "output_type": "stream",
     "text": [
      "duration\n"
     ]
    },
    {
     "data": {
      "image/png": "[encoded data removed]",
      "text/plain": [
       "<Figure size 432x288 with 1 Axes>"
      ]
     },
     "metadata": {
      "needs_background": "light"
     },
     "output_type": "display_data"
    },
    {
     "name": "stdout",
     "output_type": "stream",
     "text": [
      "Среднее: 543.97\n",
      "Дисперсия: 106122.45\n",
      "Стандартное отклонение: 325.76\n",
      "\n",
      "messages_count\n"
     ]
    },
    {
     "data": {
      "image/png": "[encoded data removed]",
      "text/plain": [
       "<Figure size 432x288 with 1 Axes>"
      ]
     },
     "metadata": {
      "needs_background": "light"
     },
     "output_type": "display_data"
    },
    {
     "name": "stdout",
     "output_type": "stream",
     "text": [
      "Среднее: 49.59\n",
      "Дисперсия: 2301.92\n",
      "Стандартное отклонение: 47.98\n",
      "\n",
      "mb_used\n"
     ]
    },
    {
     "data": {
      "image/png": "[encoded data removed]",
      "text/plain": [
       "<Figure size 432x288 with 1 Axes>"
      ]
     },
     "metadata": {
      "needs_background": "light"
     },
     "output_type": "display_data"
    },
    {
     "name": "stdout",
     "output_type": "stream",
     "text": [
      "Среднее: 19668.49\n",
      "Дисперсия: 98864248.95\n",
      "Стандартное отклонение: 9943.05\n",
      "\n"
     ]
    }
   ],
   "source": [
    "def plot_hist(data):\n",
    "    data = data.dropna()\n",
    "    data.hist(bins=20, range=(data.min(), data.max()))\n",
    "    plt.show()\n",
    "    \n",
    "def print_statistics(data):\n",
    "    print('Среднее: {:.2f}'.format(data.mean()))\n",
    "    print('Дисперсия: {:.2f}'.format(np.var(data, ddof=1)))\n",
    "    print('Стандартное отклонение: {:.2f}'.format(np.std(data, ddof=1)))\n",
    "    print()\n",
    "\n",
    "columns = ['duration', 'messages_count', 'mb_used']\n",
    "\n",
    "for column in columns:\n",
    "    print(column)\n",
    "    plot_hist(users_data_extended.loc[users_data_extended['tariff'] == 'ultra'][column])\n",
    "    print_statistics(users_data_extended.loc[users_data_extended['tariff'] == 'ultra'][column])    "
   ]
  },
  {
   "cell_type": "markdown",
   "metadata": {},
   "source": [
    "+ Гистограммы по израсходованным минутам и мегабайтам имеют около нормальное распределение (при увеличении выборки становилось бы более приближенным к нормальному).\n",
    "+ Все пользователи тарифа \"Ультра\" полностью не используют пакет минут и сообщений. Предложение избыточно.\n",
    "+ По гистограмме сообщений видно, что они не пользуются большим спросом в наше время. Связано с обширным распространением мобильного интернета и ростом популярности приложений мессенджеров.\n",
    "+ Выбивающиеся пики для околонулевых значений (гистограммы минут и сообщений) говорит о том, что есть категория пользователей, которые пользуются только интернетом."
   ]
  },
  {
   "cell_type": "markdown",
   "metadata": {},
   "source": [
    "### Тариф \"Смарт\""
   ]
  },
  {
   "cell_type": "code",
   "execution_count": 15,
   "metadata": {},
   "outputs": [
    {
     "name": "stdout",
     "output_type": "stream",
     "text": [
      "duration\n"
     ]
    },
    {
     "data": {
      "image/png": "[encoded data removed]",
      "text/plain": [
       "<Figure size 432x288 with 1 Axes>"
      ]
     },
     "metadata": {
      "needs_background": "light"
     },
     "output_type": "display_data"
    },
    {
     "name": "stdout",
     "output_type": "stream",
     "text": [
      "Среднее: 429.62\n",
      "Дисперсия: 37927.14\n",
      "Стандартное отклонение: 194.75\n",
      "\n",
      "messages_count\n"
     ]
    },
    {
     "data": {
      "image/png": "[encoded data removed]",
      "text/plain": [
       "<Figure size 432x288 with 1 Axes>"
      ]
     },
     "metadata": {
      "needs_background": "light"
     },
     "output_type": "display_data"
    },
    {
     "name": "stdout",
     "output_type": "stream",
     "text": [
      "Среднее: 33.40\n",
      "Дисперсия: 796.70\n",
      "Стандартное отклонение: 28.23\n",
      "\n",
      "mb_used\n"
     ]
    },
    {
     "data": {
      "image/png": "[encoded data removed]",
      "text/plain": [
       "<Figure size 432x288 with 1 Axes>"
      ]
     },
     "metadata": {
      "needs_background": "light"
     },
     "output_type": "display_data"
    },
    {
     "name": "stdout",
     "output_type": "stream",
     "text": [
      "Среднее: 16215.66\n",
      "Дисперсия: 34359951.68\n",
      "Стандартное отклонение: 5861.74\n",
      "\n"
     ]
    }
   ],
   "source": [
    "for column in columns:\n",
    "    print(column)\n",
    "    plot_hist(users_data_extended.loc[users_data_extended['tariff'] == 'smart'][column])\n",
    "    print_statistics(users_data_extended.loc[users_data_extended['tariff'] == 'smart'][column])  "
   ]
  },
  {
   "cell_type": "markdown",
   "metadata": {},
   "source": [
    "## 4. Проверка гипотез"
   ]
  },
  {
   "cell_type": "markdown",
   "metadata": {},
   "source": [
    "+ Пользователи, попавшие в наше исследование это выборка из генеральной совокупности - всех пользователей \"Мегалайн\", использующих тарифы \"Смарт\" и \"Ультра\".\n",
    "+ Нулевая гипотеза формулировалась так, чтобы использовать знак равенства, альтернативная гипотеза сформулирована как двухсторонняя.\n",
    "+ Уровень статистической значимости выбран в 5% (параметр alpha)"
   ]
  },
  {
   "cell_type": "markdown",
   "metadata": {},
   "source": [
    "##### Средняя выручка для тарифов \"Смарт\" и \"Ультра\""
   ]
  },
  {
   "cell_type": "markdown",
   "metadata": {},
   "source": [
    "$H_0$ - средняя выручка для тарифов не отличаются  \n",
    "$H_1$ - средняя выручка различается"
   ]
  },
  {
   "cell_type": "code",
   "execution_count": 16,
   "metadata": {},
   "outputs": [
    {
     "name": "stdout",
     "output_type": "stream",
     "text": [
      "Средняя выручка для тарифа \"Ультра\": 2071.38 рублей\n",
      "Средняя выручка для тарифа \"Смарт\": 1307.29 рублей\n",
      "\n",
      "p-значение: 4.781366758865783e-237\n",
      "Отвергаем нулевую гипотезу\n"
     ]
    }
   ],
   "source": [
    "print('Средняя выручка для тарифа \"Ультра\": {:.2f} рублей'.format(users_data_extended[users_data_extended['tariff'] == 'ultra']['revenue'].mean()))\n",
    "print('Средняя выручка для тарифа \"Смарт\": {:.2f} рублей'.format(users_data_extended[users_data_extended['tariff'] == 'smart']['revenue'].mean()))\n",
    "print()\n",
    "alpha = .05\n",
    "results = st.ttest_ind(\n",
    "    users_data_extended[users_data_extended['tariff'] == 'ultra']['revenue'],\n",
    "    users_data_extended[users_data_extended['tariff'] == 'smart']['revenue'],\n",
    "    equal_var=False)\n",
    "print('p-значение:', results.pvalue)\n",
    "if (results.pvalue < alpha):\n",
    "    print(\"Отвергаем нулевую гипотезу\")\n",
    "else:\n",
    "    print(\"Не получилось отвергнуть нулевую гипотезу\")"
   ]
  },
  {
   "cell_type": "markdown",
   "metadata": {},
   "source": [
    "+ Средняя выручка от тарифа \"Ультра\" и от тарифа \"Смарт\" различается"
   ]
  },
  {
   "cell_type": "markdown",
   "metadata": {},
   "source": [
    "##### Средняя выручка от пользователей в Москве и других регионах"
   ]
  },
  {
   "cell_type": "markdown",
   "metadata": {},
   "source": [
    "$H_0$ - средняя выручка от пользователей из Москвы и из других регионах не отличается  \n",
    "$H_1$ - средняя выручка различается"
   ]
  },
  {
   "cell_type": "code",
   "execution_count": 17,
   "metadata": {},
   "outputs": [
    {
     "name": "stdout",
     "output_type": "stream",
     "text": [
      "Средняя выручка от пользователей из Москвы: 1556.47 рублей\n",
      "Средняя выручка от пользователей из других регионов: 1535.97 рублей\n",
      "\n",
      "p-значение: 0.5514322920629973\n",
      "Не получилось отвергнуть нулевую гипотезу\n"
     ]
    }
   ],
   "source": [
    "print('Средняя выручка от пользователей из Москвы: {:.2f} рублей'.format(users_data_extended.loc[users_data_extended['city'] == 'Москва', 'revenue'].mean()))\n",
    "print('Средняя выручка от пользователей из других регионов: {:.2f} рублей'.format(users_data_extended.loc[users_data_extended['city'] != 'Москва', 'revenue'].mean()))\n",
    "print()\n",
    "alpha = .05\n",
    "results = st.ttest_ind(\n",
    "    users_data_extended[users_data_extended['city'] == 'Москва']['revenue'],\n",
    "    users_data_extended[users_data_extended['city'] != 'Москва']['revenue'],\n",
    "    equal_var=False)\n",
    "print('p-значение:', results.pvalue)\n",
    "if (results.pvalue < alpha):\n",
    "    print(\"Отвергаем нулевую гипотезу\")\n",
    "else:\n",
    "    print(\"Не получилось отвергнуть нулевую гипотезу\")"
   ]
  },
  {
   "cell_type": "markdown",
   "metadata": {},
   "source": [
    "+ Средняя выручка от пользователей, живущих в разных регионах статистически не различается."
   ]
  },
  {
   "cell_type": "markdown",
   "metadata": {},
   "source": [
    "## 5. Общие выводы"
   ]
  },
  {
   "cell_type": "markdown",
   "metadata": {},
   "source": [
    "1. Средняя выручка от тарифа \"Ультра\" больше, чем от тарифа \"Смарт.\n",
    "1. Средняя выручка от пользователей, проживающих в Москве и в других регионах одинаковая.\n",
    "1. Средний пользователь с тарифом \"Ультра\" не использует полностью предоставляемый пакет услуг. Тариф является избыточным.\n",
    "1. Средний пользователь с тарифом \"Смарт\" использует услуги в количестве близком к размеру пакета. Тариф для них является оптимальным.\n",
    "\n",
    "Тариф \"Ультра\" приносит больше выручки, но для большинства пользователей он избыточен, они полностью не используют пакет услуг. Через какое-то время для оптимизации расходов они перейдут на другие тарифы или к конкурентам. Однако не стоит забывать о пользователях которые используют много интернет-трафика, для них этот тариф будет приемлимым. Следует несколько скорректировать объём услуг в пакете.  \n",
    "Пакет услуг в тарифе \"Смарт\" для пользователей подобран удачно, он удовлетворяет потребностям пользаветелей, выбравшим его.  \n",
    "Нельзя сказать какой тариф лучше или хуже. Разные пользователи - разные потребности и чтобы они не уходили к конкурентам компании \"Мегалайн\" следует сохранить оба тарифа."
   ]
  }
 ],
 "metadata": {
  "kernelspec": {
   "display_name": "Python 3",
   "language": "python",
   "name": "python3"
  },
  "language_info": {
   "codemirror_mode": {
    "name": "ipython",
    "version": 3
   },
   "file_extension": ".py",
   "mimetype": "text/x-python",
   "name": "python",
   "nbconvert_exporter": "python",
   "pygments_lexer": "ipython3",
   "version": "3.7.6"
  }
 },
 "nbformat": 4,
 "nbformat_minor": 2
}
