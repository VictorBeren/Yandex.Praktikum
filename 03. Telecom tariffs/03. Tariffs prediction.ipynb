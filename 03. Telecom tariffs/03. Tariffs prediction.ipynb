{
 "cells": [
  {
   "cell_type": "markdown",
   "metadata": {},
   "source": [
    "# Рекомендация тарифов"
   ]
  },
  {
   "cell_type": "markdown",
   "metadata": {},
   "source": [
    "В вашем распоряжении данные о поведении клиентов, которые уже перешли на эти тарифы (из проекта курса «Статистический анализ данных»). Нужно построить модель для задачи классификации, которая выберет подходящий тариф. Предобработка данных не понадобится — вы её уже сделали.\n",
    "\n",
    "Постройте модель с максимально большим значением *accuracy*. Чтобы сдать проект успешно, нужно довести долю правильных ответов по крайней мере до 0.75. Проверьте *accuracy* на тестовой выборке самостоятельно."
   ]
  },
  {
   "cell_type": "markdown",
   "metadata": {},
   "source": [
    "## 1. Описание и загрузка данных"
   ]
  },
  {
   "cell_type": "markdown",
   "metadata": {},
   "source": [
    "Каждый объект в наборе данных — это информация о поведении одного пользователя за месяц.\n",
    "+ сalls — количество звонков,\n",
    "+ minutes — суммарная длительность звонков в минутах,\n",
    "+ messages — количество sms-сообщений,\n",
    "+ mb_used — израсходованный интернет-трафик в Мб,\n",
    "+ is_ultra — каким тарифом пользовался в течение месяца («Ультра» — 1, «Смарт» — 0)."
   ]
  },
  {
   "cell_type": "code",
   "execution_count": 1,
   "metadata": {},
   "outputs": [],
   "source": [
    "import pandas as pd\n",
    "import matplotlib.pyplot as plt\n",
    "from sklearn.model_selection import train_test_split\n",
    "from sklearn.tree import DecisionTreeClassifier\n",
    "from sklearn.ensemble import RandomForestClassifier\n",
    "from sklearn.linear_model import LogisticRegression\n"
   ]
  },
  {
   "cell_type": "code",
   "execution_count": 2,
   "metadata": {},
   "outputs": [
    {
     "name": "stdout",
     "output_type": "stream",
     "text": [
      "<class 'pandas.core.frame.DataFrame'>\n",
      "RangeIndex: 3214 entries, 0 to 3213\n",
      "Data columns (total 5 columns):\n",
      "calls       3214 non-null float64\n",
      "minutes     3214 non-null float64\n",
      "messages    3214 non-null float64\n",
      "mb_used     3214 non-null float64\n",
      "is_ultra    3214 non-null int64\n",
      "dtypes: float64(4), int64(1)\n",
      "memory usage: 125.7 KB\n"
     ]
    },
    {
     "data": {
      "text/html": [
       "<div>\n",
       "<style scoped>\n",
       "    .dataframe tbody tr th:only-of-type {\n",
       "        vertical-align: middle;\n",
       "    }\n",
       "\n",
       "    .dataframe tbody tr th {\n",
       "        vertical-align: top;\n",
       "    }\n",
       "\n",
       "    .dataframe thead th {\n",
       "        text-align: right;\n",
       "    }\n",
       "</style>\n",
       "<table border=\"1\" class=\"dataframe\">\n",
       "  <thead>\n",
       "    <tr style=\"text-align: right;\">\n",
       "      <th></th>\n",
       "      <th>calls</th>\n",
       "      <th>minutes</th>\n",
       "      <th>messages</th>\n",
       "      <th>mb_used</th>\n",
       "      <th>is_ultra</th>\n",
       "    </tr>\n",
       "  </thead>\n",
       "  <tbody>\n",
       "    <tr>\n",
       "      <td>0</td>\n",
       "      <td>40.0</td>\n",
       "      <td>311.90</td>\n",
       "      <td>83.0</td>\n",
       "      <td>19915.42</td>\n",
       "      <td>0</td>\n",
       "    </tr>\n",
       "    <tr>\n",
       "      <td>1</td>\n",
       "      <td>85.0</td>\n",
       "      <td>516.75</td>\n",
       "      <td>56.0</td>\n",
       "      <td>22696.96</td>\n",
       "      <td>0</td>\n",
       "    </tr>\n",
       "    <tr>\n",
       "      <td>2</td>\n",
       "      <td>77.0</td>\n",
       "      <td>467.66</td>\n",
       "      <td>86.0</td>\n",
       "      <td>21060.45</td>\n",
       "      <td>0</td>\n",
       "    </tr>\n",
       "    <tr>\n",
       "      <td>3</td>\n",
       "      <td>106.0</td>\n",
       "      <td>745.53</td>\n",
       "      <td>81.0</td>\n",
       "      <td>8437.39</td>\n",
       "      <td>1</td>\n",
       "    </tr>\n",
       "    <tr>\n",
       "      <td>4</td>\n",
       "      <td>66.0</td>\n",
       "      <td>418.74</td>\n",
       "      <td>1.0</td>\n",
       "      <td>14502.75</td>\n",
       "      <td>0</td>\n",
       "    </tr>\n",
       "  </tbody>\n",
       "</table>\n",
       "</div>"
      ],
      "text/plain": [
       "   calls  minutes  messages   mb_used  is_ultra\n",
       "0   40.0   311.90      83.0  19915.42         0\n",
       "1   85.0   516.75      56.0  22696.96         0\n",
       "2   77.0   467.66      86.0  21060.45         0\n",
       "3  106.0   745.53      81.0   8437.39         1\n",
       "4   66.0   418.74       1.0  14502.75         0"
      ]
     },
     "execution_count": 2,
     "metadata": {},
     "output_type": "execute_result"
    }
   ],
   "source": [
    "usage = pd.read_csv('/datasets/users_behavior.csv')\n",
    "usage.info()\n",
    "usage.head()"
   ]
  },
  {
   "cell_type": "markdown",
   "metadata": {},
   "source": [
    "Данные хорошо подготовлены. Отсутствуют пропуски и неадекватные значения."
   ]
  },
  {
   "cell_type": "markdown",
   "metadata": {},
   "source": [
    "## 2. Разделение на выборки"
   ]
  },
  {
   "cell_type": "markdown",
   "metadata": {},
   "source": [
    "Разделим исходные данные на три выборки: тренировучную - 60%, валидационную - 20%, тестовую - 20%."
   ]
  },
  {
   "cell_type": "code",
   "execution_count": 3,
   "metadata": {},
   "outputs": [],
   "source": [
    "usage_train, valid_test = train_test_split(usage, test_size=0.4, random_state=2020)\n",
    "usage_valid, usage_test = train_test_split(valid_test, test_size=0.5, random_state=2020)"
   ]
  },
  {
   "cell_type": "markdown",
   "metadata": {},
   "source": [
    "## 3. Исследование моделей"
   ]
  },
  {
   "cell_type": "markdown",
   "metadata": {},
   "source": [
    "Выделим столбцы с признаками и целевым признаком в каждой из выборок."
   ]
  },
  {
   "cell_type": "code",
   "execution_count": 4,
   "metadata": {},
   "outputs": [],
   "source": [
    "features_train = usage_train.drop(['is_ultra'], axis=1)\n",
    "target_train = usage_train['is_ultra']\n",
    "features_valid = usage_valid.drop(['is_ultra'], axis=1)\n",
    "target_valid = usage_valid['is_ultra']\n",
    "features_test = usage_test.drop(['is_ultra'], axis=1)\n",
    "target_test = usage_test['is_ultra']"
   ]
  },
  {
   "cell_type": "markdown",
   "metadata": {},
   "source": [
    "### Модель _дерево решений_"
   ]
  },
  {
   "cell_type": "code",
   "execution_count": 5,
   "metadata": {},
   "outputs": [
    {
     "name": "stdout",
     "output_type": "stream",
     "text": [
      "   train_score valid_score\n",
      "1     0.745332    0.751166\n",
      "2     0.781639    0.766719\n",
      "3     0.794606     0.77916\n",
      "4     0.802386    0.782271\n",
      "5     0.817946     0.77605\n",
      "6     0.832469     0.77605\n",
      "7      0.84388    0.780715\n",
      "8     0.853216    0.766719\n",
      "9     0.868257    0.771384\n",
      "10     0.88278    0.786936\n",
      "11    0.889523     0.77605\n",
      "12     0.90249    0.769829\n",
      "13    0.920643    0.755832\n",
      "14    0.938278    0.746501\n",
      "15     0.95332     0.74028\n",
      "16    0.968361    0.729393\n",
      "17    0.975622    0.734059\n",
      "18    0.983921    0.721617\n",
      "19    0.990664    0.730949\n",
      "20    0.995851    0.723173\n",
      "21    0.998444    0.735614\n",
      "22           1    0.721617\n",
      "23           1    0.721617\n",
      "24           1    0.721617\n",
      "25           1    0.721617\n"
     ]
    },
    {
     "data": {
      "image/png": "[encoded data removed]",
      "text/plain": [
       "<Figure size 432x288 with 1 Axes>"
      ]
     },
     "metadata": {
      "needs_background": "light"
     },
     "output_type": "display_data"
    }
   ],
   "source": [
    "columns = ['train_score', 'valid_score']\n",
    "accuracy_tree = pd.DataFrame(columns=columns)\n",
    "for i in range(1, 26):\n",
    "    model = DecisionTreeClassifier(random_state=2020, max_depth=i)\n",
    "    model.fit(features_train, target_train)\n",
    "    accuracy_train = model.score(features_train, target_train)\n",
    "    accuracy_valid = model.score(features_valid, target_valid)\n",
    "    accuracy_tree.loc[i, 'train_score'] = accuracy_train\n",
    "    accuracy_tree.loc[i, 'valid_score'] = accuracy_valid\n",
    "#    print('max_depth = {:.0f} :'.format(i), accuracy_valid)\n",
    "    \n",
    "print(accuracy_tree)\n",
    "accuracy_tree.plot(grid=True, title='График зависимости доли правильных ответов от высоты дерева решений');"
   ]
  },
  {
   "cell_type": "markdown",
   "metadata": {},
   "source": [
    "С увеличением гиперпараметра _max_depth_ (высота дерева) доля правильных ответов на тренировочной выборке стремится к 1, в то время как на валидационной выборке доля правильных ответов растёт только до некоторой величины _max_depth_ , а затем их количество начинает снижаться. Налицо переобучение модели.  \n",
    "__Вывод:__ нет смысла сильно увеличивать высоту дерева, следует экспериментальным путём определить оптимальный вариант. В данном случае лучший результат проявляется при _max_depth = 10_."
   ]
  },
  {
   "cell_type": "markdown",
   "metadata": {},
   "source": [
    "### Модель _случайный лес_"
   ]
  },
  {
   "cell_type": "markdown",
   "metadata": {},
   "source": [
    "##### Влияние гиперпараметра n_estimators\n",
    "Зафиксируем _max_depth_ и посмотрим как будет меняться доля правильных ответов с изменение *n_estimators* ."
   ]
  },
  {
   "cell_type": "code",
   "execution_count": 6,
   "metadata": {},
   "outputs": [
    {
     "name": "stdout",
     "output_type": "stream",
     "text": [
      "   train_score valid_score\n",
      "1     0.855809    0.752722\n",
      "3     0.880187    0.762053\n",
      "5     0.878112    0.766719\n",
      "7     0.884336    0.772939\n",
      "9     0.886929     0.77605\n",
      "11    0.884336    0.774495\n",
      "13    0.887448    0.783826\n",
      "15    0.885892    0.790047\n",
      "17    0.887448    0.788491\n",
      "19    0.885892    0.785381\n",
      "21    0.888485    0.783826\n",
      "23    0.888485    0.785381\n",
      "25    0.889523    0.788491\n",
      "27    0.886929    0.790047\n",
      "29    0.887448    0.793157\n",
      "31    0.887967    0.788491\n",
      "33    0.888485    0.791602\n",
      "35    0.886411    0.791602\n",
      "37    0.887448    0.788491\n",
      "39    0.887448    0.788491\n",
      "41    0.887967    0.785381\n",
      "43    0.888485    0.786936\n",
      "45    0.889523    0.786936\n",
      "47    0.887448    0.791602\n",
      "49    0.889004    0.786936\n",
      "51    0.887448    0.786936\n",
      "53    0.887967    0.786936\n",
      "55    0.886929    0.786936\n",
      "57    0.886929    0.790047\n",
      "59    0.887448    0.790047\n",
      "61    0.886929    0.788491\n"
     ]
    },
    {
     "data": {
      "image/png": "[encoded data removed]",
      "text/plain": [
       "<Figure size 432x288 with 1 Axes>"
      ]
     },
     "metadata": {
      "needs_background": "light"
     },
     "output_type": "display_data"
    }
   ],
   "source": [
    "accuracy_forest = pd.DataFrame(columns=columns)\n",
    "for i in range(1, 62, 2):\n",
    "    model = RandomForestClassifier(random_state=2020, n_estimators=i, max_depth=10)\n",
    "    model.fit(features_train, target_train)\n",
    "    valid_predictions = model.predict(features_valid)\n",
    "    train_predictions = model.predict(features_train)\n",
    "    accuracy_train = model.score(features_train, target_train)\n",
    "    accuracy_valid = model.score(features_valid, target_valid)\n",
    "    accuracy_forest.loc[i, 'train_score'] = accuracy_train\n",
    "    accuracy_forest.loc[i, 'valid_score'] = accuracy_valid\n",
    "    \n",
    "print(accuracy_forest)\n",
    "accuracy_forest.plot(grid=True, title='График зависимости доли правильных ответов от количества деревьев в лесу');"
   ]
  },
  {
   "cell_type": "markdown",
   "metadata": {},
   "source": [
    "С увеличением гиперпараметра _n_estimators_ доля правильных ответов и на тренировочной, и на валидационной выборке достигает некоторого значения вокруг которого в дальнейшем колеблется. Также наблюдается гэп в значениях долей правильных ответов в разных выборках. При постоянном увеличении *n_estimators*  качество модели не ухудшается, но однако же и не улучшается, поэтому также стоит выбирать некоторое приемлимое значение этого парметра. Наилучший результат проявился при  *n_estimators = 29* . Не смотря на это считаю более оптимальным значение 15, доля правильных ответов незначительно меньше, а работы в два раза меньше."
   ]
  },
  {
   "cell_type": "markdown",
   "metadata": {},
   "source": [
    "##### Влияние гиперпараметра max_depth\n",
    "Теперь зафиксируем *n_estimators* и рассмотрим различные значения _max_depth_."
   ]
  },
  {
   "cell_type": "code",
   "execution_count": 7,
   "metadata": {},
   "outputs": [
    {
     "name": "stdout",
     "output_type": "stream",
     "text": [
      "   train_score valid_score\n",
      "1     0.775934    0.771384\n",
      "3     0.794606    0.783826\n",
      "5     0.814834    0.796267\n",
      "7     0.848548    0.786936\n",
      "9     0.876037    0.788491\n",
      "11    0.896266    0.783826\n",
      "13    0.924793    0.772939\n",
      "15    0.940871    0.758942\n",
      "17    0.962656    0.768274\n",
      "19    0.986515    0.771384\n",
      "21    0.987552    0.765163\n",
      "23    0.992739    0.771384\n",
      "25    0.993257    0.768274\n",
      "27    0.992739    0.771384\n",
      "29    0.992739    0.777605\n",
      "31    0.992739    0.777605\n",
      "33    0.992739    0.777605\n",
      "35    0.992739    0.777605\n",
      "37    0.992739    0.777605\n",
      "39    0.992739    0.777605\n"
     ]
    },
    {
     "data": {
      "text/plain": [
       "<matplotlib.axes._subplots.AxesSubplot at 0x7f66afcf1e50>"
      ]
     },
     "execution_count": 7,
     "metadata": {},
     "output_type": "execute_result"
    },
    {
     "data": {
      "image/png": "[encoded data removed]",
      "text/plain": [
       "<Figure size 432x288 with 1 Axes>"
      ]
     },
     "metadata": {
      "needs_background": "light"
     },
     "output_type": "display_data"
    }
   ],
   "source": [
    "accuracy_forest = pd.DataFrame(columns=columns)\n",
    "for i in range(1, 41, 2):\n",
    "    model = RandomForestClassifier(random_state=2020, n_estimators=15, max_depth=i)\n",
    "    model.fit(features_train, target_train)\n",
    "    valid_predictions = model.predict(features_valid)\n",
    "    train_predictions = model.predict(features_train)\n",
    "    accuracy_train = model.score(features_train, target_train)\n",
    "    accuracy_valid = model.score(features_valid, target_valid)\n",
    "    accuracy_forest.loc[i, 'train_score'] = accuracy_train\n",
    "    accuracy_forest.loc[i, 'valid_score'] = accuracy_valid\n",
    "    \n",
    "print(accuracy_forest)\n",
    "accuracy_forest.plot()"
   ]
  },
  {
   "cell_type": "markdown",
   "metadata": {},
   "source": [
    "Картина аналогична модели _дерево решений_: при увеличении высоты деревьев модель переобучается на тренировочной выборке и качество на валидационной выборке падает. Лучший результат достигается при *max_depth = 5*."
   ]
  },
  {
   "cell_type": "markdown",
   "metadata": {},
   "source": [
    "__Вывод:__ в целом эта модель ведёт себя более стабильно нежели одно _дерево решений_. Для итоговой модели модели выберем следующие значений гиперпараметров: *n_estimators = 15*, *max_depth = 5*"
   ]
  },
  {
   "cell_type": "code",
   "execution_count": 8,
   "metadata": {},
   "outputs": [
    {
     "name": "stdout",
     "output_type": "stream",
     "text": [
      "Доля правильных ответов в валидационной выборке: 0.7962674961119751\n"
     ]
    }
   ],
   "source": [
    "model = RandomForestClassifier(random_state=2020, n_estimators=15, max_depth=5)\n",
    "model.fit(features_train, target_train)\n",
    "print('Доля правильных ответов в валидационной выборке:', model.score(features_valid, target_valid))"
   ]
  },
  {
   "cell_type": "markdown",
   "metadata": {},
   "source": [
    "### Модель _логистическая регрессия_"
   ]
  },
  {
   "cell_type": "code",
   "execution_count": 9,
   "metadata": {},
   "outputs": [
    {
     "name": "stdout",
     "output_type": "stream",
     "text": [
      "Доля правильных ответов в тренировочной выборке: 0.6991701244813278\n",
      "Доля правильных ответов в валидационной выборке: 0.6998444790046656\n"
     ]
    }
   ],
   "source": [
    "model = LogisticRegression(random_state=2020, solver='lbfgs')\n",
    "model.fit(features_train, target_train)\n",
    "print('Доля правильных ответов в тренировочной выборке:', model.score(features_train, target_train))\n",
    "print('Доля правильных ответов в валидационной выборке:', model.score(features_valid, target_valid))"
   ]
  },
  {
   "cell_type": "markdown",
   "metadata": {},
   "source": [
    "Эта модель показала самые низкие результаты."
   ]
  },
  {
   "cell_type": "markdown",
   "metadata": {},
   "source": [
    "## 4. Проверка модели на тестовой выборке"
   ]
  },
  {
   "cell_type": "markdown",
   "metadata": {},
   "source": [
    "На предыдущем этапе лучшие результаты показала модель случайного леса (n_estimators=15, max_depth=5). Применим её к тестовой выборке."
   ]
  },
  {
   "cell_type": "code",
   "execution_count": 10,
   "metadata": {},
   "outputs": [
    {
     "name": "stdout",
     "output_type": "stream",
     "text": [
      "Доля правильных ответов в тестовой выборке 0.8304821150855366\n"
     ]
    }
   ],
   "source": [
    "# Объединим тренировочную и валидационную выборки\n",
    "features_train_full = features_train.append(features_valid)\n",
    "target_train_full = target_train.append(target_valid)\n",
    "\n",
    "model = RandomForestClassifier(random_state=2020, n_estimators=15, max_depth=5)\n",
    "model.fit(features_train, target_train)\n",
    "print('Доля правильных ответов в тестовой выборке', model.score(features_test, target_test))"
   ]
  },
  {
   "cell_type": "markdown",
   "metadata": {},
   "source": [
    "Поставленная задача выполнена, доля правильных ответов более 0.75. Это успех."
   ]
  },
  {
   "cell_type": "markdown",
   "metadata": {},
   "source": [
    "## 5. Проверка на адекватность"
   ]
  },
  {
   "cell_type": "code",
   "execution_count": 12,
   "metadata": {},
   "outputs": [
    {
     "name": "stdout",
     "output_type": "stream",
     "text": [
      "Доля правильных ответов если модель всегда будет классифицировать как 1: 0.28615863141524106\n",
      "Доля правильных ответов если модель всегда будет классифицировать как 0: 0.7138413685847589\n"
     ]
    }
   ],
   "source": [
    "print('Доля правильных ответов если модель всегда будет классифицировать как 1:', target_test.mean())\n",
    "print('Доля правильных ответов если модель всегда будет классифицировать как 0:', 1 - target_test.mean())"
   ]
  },
  {
   "cell_type": "markdown",
   "metadata": {},
   "source": [
    "Если всех клиентов в тестовой выборке классифицировать как пользователей тарифа \"Смарт\", то доля правильных ответов составит около 0.71. Обученная нами модель превосходит этот результат."
   ]
  }
 ],
 "metadata": {
  "kernelspec": {
   "display_name": "Python 3",
   "language": "python",
   "name": "python3"
  },
  "language_info": {
   "codemirror_mode": {
    "name": "ipython",
    "version": 3
   },
   "file_extension": ".py",
   "mimetype": "text/x-python",
   "name": "python",
   "nbconvert_exporter": "python",
   "pygments_lexer": "ipython3",
   "version": "3.7.6"
  }
 },
 "nbformat": 4,
 "nbformat_minor": 2
}
